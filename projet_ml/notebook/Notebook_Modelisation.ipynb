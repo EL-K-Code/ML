{
 "cells": [
  {
   "cell_type": "markdown",
   "id": "8dcfe834-b04d-4c2d-a9b3-8ce28964f601",
   "metadata": {},
   "source": [
    "<h1 style=\"text-align:center;color:blue;font-size:50px;font-family:ALGERIAN;border:solid\">Projet de Machine Learning</h1>"
   ]
  },
  {
   "cell_type": "markdown",
   "id": "a91c55a0-045c-4d84-9218-c1a678426720",
   "metadata": {},
   "source": [
    "<h1 style=\"text-align:center;color:blue;font-size:50px;font-family:times\">Ecole Nationale de la Statistique et de l'Analyse Economique Pierre NDIAYE (ENSAE)</h1><br>"
   ]
  },
  {
   "cell_type": "markdown",
   "id": "49716e54-d740-42c1-9351-235870260ef2",
   "metadata": {},
   "source": [
    "<div style=\"display:flex;text-align:justify\">\n",
    "    \n",
    "    \n",
    "<ul style=\"text-align:justify;font-family:times;font-size:15px;list-style-type:circle; width:60%\"> \n",
    "<span style=\"font-weight:bold\">Réalisé par : </span> \n",
    "    <ul style=\"text-align:justify;font-family:times;font-size:15px;list-style-type:circle\"> \n",
    "        <li>Komla Alex LABOU</li>                                      \n",
    "        <li>Dieynaba KA</li>\n",
    "        <li>S. D. E. Laurine ADOGOUN</li>                                      \n",
    "        <li>Moussa DIAKITE</li>\n",
    "    </ul>\n",
    "    <span style=\"font-style: italic;font-size:13px\">Élèves Ingénieurs Statisticiens Economistes</span>\n",
    "</ul>\n",
    " \n",
    "<ul style=\"text-align:justify;font-family:times;font-size:15px;list-style-type:none;width:39%\"> \n",
    " <li style=\"font-weight:bold\">Sous la supervision de :</li> \n",
    " <li>Mme. Mously DIAW</li>                                     \n",
    "   \n",
    "</ul>\n",
    "    \n",
    "</div>   "
   ]
  },
  {
   "cell_type": "markdown",
   "id": "6413f7c4-87d3-47d5-914b-f0bf619a2f4d",
   "metadata": {},
   "source": [
    "![image.png](data:image/png;base64,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)"
   ]
  },
  {
   "cell_type": "markdown",
   "id": "f695c96a-ef09-4482-a537-62f836e6ee55",
   "metadata": {},
   "source": [
    "<h2 style=\"text-align:justify;color:blue;font-size:30px;font-family:ALGERIAN\">I. PRELIMINAIRE</h2>"
   ]
  },
  {
   "cell_type": "markdown",
   "id": "ed69e9de-f0e5-47be-aaee-75222767d0a2",
   "metadata": {},
   "source": [
    "<h3 style=\"text-align:justify;color:black;font-size:26px;font-family:Georgia\"> A. Définition de l'environnement de travail</h3>"
   ]
  },
  {
   "cell_type": "code",
   "execution_count": 121,
   "id": "65f3a9e6-9748-4e24-ad67-228e44acc22e",
   "metadata": {},
   "outputs": [
    {
     "name": "stdout",
     "output_type": "stream",
     "text": [
      "Home directory: C:\\Users\\DELL\\Downloads\\projet_ml\n",
      "Data directory: C:\\Users\\DELL\\Downloads\\projet_ml\\data\n"
     ]
    }
   ],
   "source": [
    "from pathlib import Path\n",
    "\n",
    "# définir le répertoire du projet contenant le dossier data/ et notebooks/\n",
    "HOME = Path.cwd().parent\n",
    "print(f\"Home directory: {HOME}\")\n",
    "\n",
    "# définir le répertoire des données\n",
    "DATA = Path(HOME, \"data\")\n",
    "print(f\"Data directory: {DATA}\")"
   ]
  },
  {
   "cell_type": "markdown",
   "id": "0a6b7230-661e-4223-83b8-c1d8e2a40f9b",
   "metadata": {},
   "source": [
    "<h3 style=\"text-align:justify;color:black;font-size:26px;font-family:Georgia\">B. Importation des packages</h3>"
   ]
  },
  {
   "cell_type": "code",
   "execution_count": 2,
   "id": "d0ed9a06-0259-44eb-b42c-bd854c4337e9",
   "metadata": {},
   "outputs": [],
   "source": [
    "import matplotlib.pyplot as plt\n",
    "import missingno as msno\n",
    "import numpy as np\n",
    "import pandas as pd\n",
    "import plotly.express as px\n",
    "import plotly.graph_objs as go\n",
    "import seaborn as sns\n",
    "from sklearn.impute import KNNImputer\n",
    "from plotly.subplots import make_subplots\n",
    "from ydata_profiling import ProfileReport\n",
    "from yellowbrick.regressor import ResidualsPlot\n",
    "from sklearn.model_selection import cross_val_score, cross_validate, cross_val_predict, GridSearchCV"
   ]
  },
  {
   "cell_type": "code",
   "execution_count": 122,
   "id": "8b217166-7f3c-4443-8c11-a1195fe6d34b",
   "metadata": {},
   "outputs": [
    {
     "name": "stdout",
     "output_type": "stream",
     "text": [
      "<class 'pandas.core.frame.DataFrame'>\n",
      "RangeIndex: 1521 entries, 0 to 1520\n",
      "Data columns (total 19 columns):\n",
      " #   Column                           Non-Null Count  Dtype  \n",
      "---  ------                           --------------  -----  \n",
      " 0   BuildingType                     1521 non-null   object \n",
      " 1   CouncilDistrictCode              1521 non-null   int64  \n",
      " 2   Neighborhood                     1521 non-null   object \n",
      " 3   YearBuilt                        1521 non-null   int64  \n",
      " 4   NumberofBuildings                1521 non-null   float64\n",
      " 5   NumberofFloors                   1521 non-null   int64  \n",
      " 6   PropertyGFAParking               1521 non-null   int64  \n",
      " 7   PropertyGFABuilding(s)           1521 non-null   int64  \n",
      " 8   LargestPropertyUseTypeGFA        1521 non-null   float64\n",
      " 9   SecondLargestPropertyUseTypeGFA  1521 non-null   float64\n",
      " 10  ThirdLargestPropertyUseTypeGFA   1521 non-null   float64\n",
      " 11  ENERGYSTARScore                  1008 non-null   float64\n",
      " 12  SiteEnergyUse(kBtu)              1521 non-null   float64\n",
      " 13  TotalGHGEmissions                1521 non-null   float64\n",
      " 14  NumberOfPropertyUseTypes         1521 non-null   int64  \n",
      " 15  PrimaryProperty                  1521 non-null   object \n",
      " 16  SecondLargest                    1521 non-null   object \n",
      " 17  ThirdLargest                     1521 non-null   object \n",
      " 18  NombreAnnees                     1521 non-null   int64  \n",
      "dtypes: float64(7), int64(7), object(5)\n",
      "memory usage: 225.9+ KB\n"
     ]
    }
   ],
   "source": [
    "data = pd.read_csv(Path(DATA, \"2016_Building_Energy_final.csv\"))\n",
    "data.info()"
   ]
  },
  {
   "cell_type": "code",
   "execution_count": 123,
   "id": "bc20ecc9-892e-4485-9398-cc5bcd43fefb",
   "metadata": {},
   "outputs": [
    {
     "name": "stdout",
     "output_type": "stream",
     "text": [
      "<class 'pandas.core.frame.DataFrame'>\n",
      "RangeIndex: 1521 entries, 0 to 1520\n",
      "Data columns (total 18 columns):\n",
      " #   Column                           Non-Null Count  Dtype  \n",
      "---  ------                           --------------  -----  \n",
      " 0   BuildingType                     1521 non-null   object \n",
      " 1   Neighborhood                     1521 non-null   object \n",
      " 2   PrimaryProperty                  1521 non-null   object \n",
      " 3   SecondLargest                    1521 non-null   object \n",
      " 4   ThirdLargest                     1521 non-null   object \n",
      " 5   CouncilDistrictCode              1521 non-null   int64  \n",
      " 6   YearBuilt                        1521 non-null   int64  \n",
      " 7   NumberofBuildings                1521 non-null   float64\n",
      " 8   NumberofFloors                   1521 non-null   int64  \n",
      " 9   PropertyGFAParking               1521 non-null   int64  \n",
      " 10  PropertyGFABuilding(s)           1521 non-null   int64  \n",
      " 11  LargestPropertyUseTypeGFA        1521 non-null   float64\n",
      " 12  SecondLargestPropertyUseTypeGFA  1521 non-null   float64\n",
      " 13  ThirdLargestPropertyUseTypeGFA   1521 non-null   float64\n",
      " 14  SiteEnergyUse(kBtu)              1521 non-null   float64\n",
      " 15  TotalGHGEmissions                1521 non-null   float64\n",
      " 16  NumberOfPropertyUseTypes         1521 non-null   int64  \n",
      " 17  NombreAnnees                     1521 non-null   int64  \n",
      "dtypes: float64(6), int64(7), object(5)\n",
      "memory usage: 214.0+ KB\n"
     ]
    }
   ],
   "source": [
    "# Sélectionnez les colonnes catégorielles\n",
    "df_cat = data.select_dtypes(include=['object'])\n",
    "\n",
    "# Sélectionnez les colonnes numériques\n",
    "df_num = data.select_dtypes(exclude=['object'])\n",
    "\n",
    "# Concaténez les DataFrames dans le bon ordre\n",
    "data = pd.concat([df_cat, df_num], axis=1)\n",
    "data = data.iloc[:, data.columns != \"ENERGYSTARScore\"]\n",
    "data.info()"
   ]
  },
  {
   "cell_type": "code",
   "execution_count": 124,
   "id": "b5bd4c97-0838-4523-b02d-f5d139219d05",
   "metadata": {},
   "outputs": [],
   "source": [
    "X_index = data.columns != \"SiteEnergyUse(kBtu)\"  # Récupérer les colonnes différentes de \"SiteEnergyUse(kBtu)\"\n",
    "y_index = data.columns == \"SiteEnergyUse(kBtu)\"  # Récupérer la colonne \"SiteEnergyUse(kBtu)\"\n",
    "\n",
    "# Séparer les caractéristiques (X) et la cible (y) en utilisant iloc\n",
    "X = data.iloc[:, X_index]\n",
    "y = np.log1p(data.iloc[:, y_index])"
   ]
  },
  {
   "cell_type": "markdown",
   "id": "6705f9e2-d723-4e8d-b1e7-08692176ecce",
   "metadata": {},
   "source": [
    "<h2 style=\"text-align:justify;color:blue;font-size:30px;font-family:ALGERIAN\">II. MODELISATION</h2>"
   ]
  },
  {
   "cell_type": "markdown",
   "id": "e2a44f37-ca24-40ad-a132-2451b446797e",
   "metadata": {},
   "source": [
    "<p style=\"text-align:justify;font-family:times;font-size:15px\">\n",
    "  Nous allons tester plusieurs modèles pour ensuite retenir le modèle qui semble être le meilleur et qui est susceptible de nous donner les meilleurs prédiction par la suite. Aussi, nous veillerons à optimiser les modèles qui feront du sur ou du sous-apprentissage en utilisant pour chaque modèle les paramètres adéquats.. </p>\n",
    "  <p style=\"text-align:justify;font-family:times;font-size:15px\">\n",
    "Pour la modelisation, nous separons la variable target dans la variable y et nos variables explicatives dans la variable X. Ensuite, nous partagerons notre X et y en \n",
    "<span style=\"font-weight:bold\">X_train</span>, <span style=\"font-weight:bold\">y_train</span>,  <span style=\"font-weight:bold\">X_test</span>, <span style=\"font-weight:bold\">y_test</span>. Nous entrainerons notre modèle sur les X_train et les y_train puis nous les testerons sur X_test et y_test.</p>\n",
    "\n",
    "<p style=\"text-align:justify;font-family:times;font-size:15px\">\n",
    " De plus notre travail consistant à prédire la consommation d'énergie nous sommes en présence d'un problème de regression.Nous allons alors tester des algorithmes de regression partant des plus simples comme <span style=\"font-weight:bold\">LinearRegression, ElasticNet, RidgeRegression</span> du fait de leur facilité d'implémentation. En parallèle nous exécuterons d'autre modèle non linéaire telle que le KNN qui est facile à omplémenter à comprendre eyt s'ajuste facilement pour de nouvelles données. Il a le mérite de n'avoir que deux hyperparamètres, donc facile de jouer sur ces derniers pour optimiser les performances du modèle. </p>"
   ]
  },
  {
   "cell_type": "code",
   "execution_count": 125,
   "id": "cd808e57-c31f-4988-8b0d-be1da8e3e3b9",
   "metadata": {},
   "outputs": [
    {
     "data": {
      "text/plain": [
       "(['BuildingType',\n",
       "  'Neighborhood',\n",
       "  'PrimaryProperty',\n",
       "  'SecondLargest',\n",
       "  'ThirdLargest'],\n",
       " ['PropertyGFAParking',\n",
       "  'PropertyGFABuilding(s)',\n",
       "  'LargestPropertyUseTypeGFA',\n",
       "  'SecondLargestPropertyUseTypeGFA',\n",
       "  'ThirdLargestPropertyUseTypeGFA',\n",
       "  'TotalGHGEmissions',\n",
       "  'YearBuilt',\n",
       "  'NumberofBuildings',\n",
       "  'NumberofFloors',\n",
       "  'NumberOfPropertyUseTypes',\n",
       "  'NombreAnnees'])"
      ]
     },
     "execution_count": 125,
     "metadata": {},
     "output_type": "execute_result"
    }
   ],
   "source": [
    "num_columns =  ['PropertyGFAParking',\n",
    "  'PropertyGFABuilding(s)',\n",
    "  'LargestPropertyUseTypeGFA',\n",
    "  'SecondLargestPropertyUseTypeGFA',\n",
    "  'ThirdLargestPropertyUseTypeGFA',\n",
    "  'TotalGHGEmissions',\n",
    "                'YearBuilt',\n",
    "                'NumberofBuildings',\n",
    "                'NumberofFloors',\n",
    "                'NumberOfPropertyUseTypes',\n",
    "                'NombreAnnees'\n",
    "                           \n",
    "]\n",
    "obj_columns = list(data.select_dtypes(include=['object', 'bool']).columns)\n",
    "obj_columns,num_columns"
   ]
  },
  {
   "cell_type": "code",
   "execution_count": 7,
   "id": "3bdefeb4-463c-4f1c-bb4c-f4b0ac0673d0",
   "metadata": {},
   "outputs": [],
   "source": [
    "#pip install category_encoders"
   ]
  },
  {
   "cell_type": "code",
   "execution_count": 126,
   "id": "17f68ba0-bb31-4705-9d39-deb656f896b0",
   "metadata": {},
   "outputs": [],
   "source": [
    "from sklearn.pipeline import Pipeline\n",
    "from sklearn.compose import ColumnTransformer\n",
    "from category_encoders.target_encoder import TargetEncoder\n",
    "from sklearn.preprocessing import OneHotEncoder, FunctionTransformer\n",
    "from numpy import log\n",
    "\n",
    "# Définition des étapes de transformation pour les variables qualitatives et numériques\n",
    "categorical_transformer = Pipeline(steps=[\n",
    "    ('onehot', OneHotEncoder(handle_unknown='ignore'))\n",
    "])\n",
    "\n",
    "numeric_transformer = Pipeline(steps=[\n",
    "    ('log1p', FunctionTransformer(func=np.log1p))\n",
    "])\n",
    "\n",
    "# Création du préprocesseur en utilisant ColumnTransformer\n",
    "preprocessor = ColumnTransformer(\n",
    "    transformers=[\n",
    "        ('cat', categorical_transformer, obj_columns),\n",
    "        ('num', numeric_transformer, num_columns)\n",
    "    ],remainder='passthrough')"
   ]
  },
  {
   "cell_type": "code",
   "execution_count": 9,
   "id": "da59c776-b1db-445f-b5ef-b6f5795ffc46",
   "metadata": {},
   "outputs": [],
   "source": [
    "from sklearn import linear_model\n",
    "\n",
    "import statsmodels.formula.api as smf\n",
    "from sklearn import metrics\n",
    "from sklearn.model_selection import train_test_split\n",
    "from sklearn.preprocessing import StandardScaler, MinMaxScaler\n",
    "from statsmodels.stats.diagnostic import het_white , normal_ad"
   ]
  },
  {
   "cell_type": "code",
   "execution_count": 127,
   "id": "80bad0c8-6c6f-4bcc-8261-8b4eebd1be9d",
   "metadata": {},
   "outputs": [],
   "source": [
    "X_train,X_test,y_train,y_test=train_test_split(X,y,test_size=0.3,random_state=42)"
   ]
  },
  {
   "cell_type": "markdown",
   "id": "9f8dd1f6-f7a9-4053-b3a6-4f819519436c",
   "metadata": {},
   "source": [
    "<p style=\"text-align:justify;font-family:times;font-size:15px\">Pour faciliter l'analyse de nos différents modèles, nous avons opté pour la Création de la fonction get_all_performances qui prend en argument un modèle, qui l'applique sur notre X et y train, puis predit les <span style=\"color:red\">y_pred</span> en fonction des <span style=\"color:red\">X_pred</span> puis nous donne le tableau recapitulatif des metriques sur l'échantillon train et l'echantillon test. Par ailleurs pour chaque modéle nous nutiliserons la méthode <span style=\"color:red\"></span>GridSearchCV</span> pour determiner les meilleurs hyperparamètres.</p>"
   ]
  },
  {
   "cell_type": "code",
   "execution_count": 128,
   "id": "e96e4ff0-95f9-48c6-9d5d-a3c58c2c030d",
   "metadata": {},
   "outputs": [],
   "source": [
    "def get_all_performances(value_train: tuple,\n",
    "                         values_test: tuple,\n",
    "                         metrics: list,\n",
    "                        ) -> pd.DataFrame:\n",
    "    test_perfs = []\n",
    "    train_perfs = []\n",
    "    metric_names = []\n",
    "    for metric_func in metrics:\n",
    "        metric_name = metric_func.__name__\n",
    "        metric_names.append(metric_name)\n",
    "        train_perfs.append(metric_func(*value_train))\n",
    "        test_perfs.append(metric_func(*values_test))\n",
    "    perfs = {\"metric\": metric_names, \"train\": train_perfs, \"test\": test_perfs,}\n",
    "    return pd.DataFrame(perfs)\n",
    "METRICS = [metrics.r2_score,\n",
    "           metrics.mean_squared_error,\n",
    "           metrics.mean_absolute_percentage_error,\n",
    "           metrics.max_error, metrics.mean_absolute_error,\n",
    "          ]"
   ]
  },
  {
   "cell_type": "code",
   "execution_count": 132,
   "id": "b35603d3-87a8-4789-8427-8d9235175e23",
   "metadata": {},
   "outputs": [],
   "source": [
    "def train_model(model, x_train, y_train, x_test, y_test):\n",
    "    # On entraîne ce modèle sur les données d'entrainement\n",
    "    model.fit(x_train, y_train)\n",
    "    \n",
    "    # On récupère l'erreur de norme 2 sur le jeu de données train\n",
    "    error_train = np.mean((model.predict(x_train).reshape(len(X_train),1) - y_train) ** 2)\n",
    "    \n",
    "    # On récupère l'erreur de norme 2 sur le jeu de données test\n",
    "    error_test = np.mean((model.predict(x_test).reshape(len(X_test),1) - y_test) ** 2)\n",
    "\n",
    "    # On obtient l'erreur quadratique ci-dessous\n",
    "    print(f\"Model error: {round(error_test, 5)}\")\n",
    "    return {\"estimator\": model, \"error_train\": error_train, \"error_test\": error_test}"
   ]
  },
  {
   "cell_type": "markdown",
   "id": "97c6de05-0ed1-49d0-ba8e-264a8a172ce8",
   "metadata": {},
   "source": [
    "<h3 style=\"text-align:justify;color:black;font-size:26px;font-family:Georgia\"> A. Modélisation sans EnergyStarSCORE</h3>"
   ]
  },
  {
   "cell_type": "markdown",
   "id": "566c0925-ea19-4f7c-8954-2f496d9071b3",
   "metadata": {},
   "source": [
    "<h4 style=\"text-align:justify;color:red;font-size:20px;font-family:Roboto\">1. LinearRegression</h4>"
   ]
  },
  {
   "cell_type": "code",
   "execution_count": 130,
   "id": "29d7b7d1-ecb8-4851-b04c-449640c5c3c9",
   "metadata": {},
   "outputs": [
    {
     "data": {
      "text/html": [
       "<style>#sk-container-id-6 {color: black;background-color: white;}#sk-container-id-6 pre{padding: 0;}#sk-container-id-6 div.sk-toggleable {background-color: white;}#sk-container-id-6 label.sk-toggleable__label {cursor: pointer;display: block;width: 100%;margin-bottom: 0;padding: 0.3em;box-sizing: border-box;text-align: center;}#sk-container-id-6 label.sk-toggleable__label-arrow:before {content: \"▸\";float: left;margin-right: 0.25em;color: #696969;}#sk-container-id-6 label.sk-toggleable__label-arrow:hover:before {color: black;}#sk-container-id-6 div.sk-estimator:hover label.sk-toggleable__label-arrow:before {color: black;}#sk-container-id-6 div.sk-toggleable__content {max-height: 0;max-width: 0;overflow: hidden;text-align: left;background-color: #f0f8ff;}#sk-container-id-6 div.sk-toggleable__content pre {margin: 0.2em;color: black;border-radius: 0.25em;background-color: #f0f8ff;}#sk-container-id-6 input.sk-toggleable__control:checked~div.sk-toggleable__content {max-height: 200px;max-width: 100%;overflow: auto;}#sk-container-id-6 input.sk-toggleable__control:checked~label.sk-toggleable__label-arrow:before {content: \"▾\";}#sk-container-id-6 div.sk-estimator input.sk-toggleable__control:checked~label.sk-toggleable__label {background-color: #d4ebff;}#sk-container-id-6 div.sk-label input.sk-toggleable__control:checked~label.sk-toggleable__label {background-color: #d4ebff;}#sk-container-id-6 input.sk-hidden--visually {border: 0;clip: rect(1px 1px 1px 1px);clip: rect(1px, 1px, 1px, 1px);height: 1px;margin: -1px;overflow: hidden;padding: 0;position: absolute;width: 1px;}#sk-container-id-6 div.sk-estimator {font-family: monospace;background-color: #f0f8ff;border: 1px dotted black;border-radius: 0.25em;box-sizing: border-box;margin-bottom: 0.5em;}#sk-container-id-6 div.sk-estimator:hover {background-color: #d4ebff;}#sk-container-id-6 div.sk-parallel-item::after {content: \"\";width: 100%;border-bottom: 1px solid gray;flex-grow: 1;}#sk-container-id-6 div.sk-label:hover label.sk-toggleable__label {background-color: #d4ebff;}#sk-container-id-6 div.sk-serial::before {content: \"\";position: absolute;border-left: 1px solid gray;box-sizing: border-box;top: 0;bottom: 0;left: 50%;z-index: 0;}#sk-container-id-6 div.sk-serial {display: flex;flex-direction: column;align-items: center;background-color: white;padding-right: 0.2em;padding-left: 0.2em;position: relative;}#sk-container-id-6 div.sk-item {position: relative;z-index: 1;}#sk-container-id-6 div.sk-parallel {display: flex;align-items: stretch;justify-content: center;background-color: white;position: relative;}#sk-container-id-6 div.sk-item::before, #sk-container-id-6 div.sk-parallel-item::before {content: \"\";position: absolute;border-left: 1px solid gray;box-sizing: border-box;top: 0;bottom: 0;left: 50%;z-index: -1;}#sk-container-id-6 div.sk-parallel-item {display: flex;flex-direction: column;z-index: 1;position: relative;background-color: white;}#sk-container-id-6 div.sk-parallel-item:first-child::after {align-self: flex-end;width: 50%;}#sk-container-id-6 div.sk-parallel-item:last-child::after {align-self: flex-start;width: 50%;}#sk-container-id-6 div.sk-parallel-item:only-child::after {width: 0;}#sk-container-id-6 div.sk-dashed-wrapped {border: 1px dashed gray;margin: 0 0.4em 0.5em 0.4em;box-sizing: border-box;padding-bottom: 0.4em;background-color: white;}#sk-container-id-6 div.sk-label label {font-family: monospace;font-weight: bold;display: inline-block;line-height: 1.2em;}#sk-container-id-6 div.sk-label-container {text-align: center;}#sk-container-id-6 div.sk-container {/* jupyter's `normalize.less` sets `[hidden] { display: none; }` but bootstrap.min.css set `[hidden] { display: none !important; }` so we also need the `!important` here to be able to override the default hidden behavior on the sphinx rendered scikit-learn.org. See: https://github.com/scikit-learn/scikit-learn/issues/21755 */display: inline-block !important;position: relative;}#sk-container-id-6 div.sk-text-repr-fallback {display: none;}</style><div id=\"sk-container-id-6\" class=\"sk-top-container\"><div class=\"sk-text-repr-fallback\"><pre>Pipeline(steps=[(&#x27;preprocessor&#x27;,\n",
       "                 ColumnTransformer(remainder=&#x27;passthrough&#x27;,\n",
       "                                   transformers=[(&#x27;cat&#x27;,\n",
       "                                                  Pipeline(steps=[(&#x27;onehot&#x27;,\n",
       "                                                                   OneHotEncoder(handle_unknown=&#x27;ignore&#x27;))]),\n",
       "                                                  [&#x27;BuildingType&#x27;,\n",
       "                                                   &#x27;Neighborhood&#x27;,\n",
       "                                                   &#x27;PrimaryProperty&#x27;,\n",
       "                                                   &#x27;SecondLargest&#x27;,\n",
       "                                                   &#x27;ThirdLargest&#x27;]),\n",
       "                                                 (&#x27;num&#x27;,\n",
       "                                                  Pipeline(steps=[(&#x27;log1p&#x27;,\n",
       "                                                                   FunctionTransformer(func=&lt;ufunc &#x27;log1p&#x27;&gt;))]),\n",
       "                                                  [&#x27;PropertyGFAParking&#x27;,\n",
       "                                                   &#x27;PropertyGFABuilding(s)&#x27;,\n",
       "                                                   &#x27;LargestPropertyUseTypeGFA&#x27;,\n",
       "                                                   &#x27;SecondLargestPropertyUseTypeGFA&#x27;,\n",
       "                                                   &#x27;ThirdLargestPropertyUseTypeGFA&#x27;,\n",
       "                                                   &#x27;TotalGHGEmissions&#x27;,\n",
       "                                                   &#x27;YearBuilt&#x27;,\n",
       "                                                   &#x27;NumberofBuildings&#x27;,\n",
       "                                                   &#x27;NumberofFloors&#x27;,\n",
       "                                                   &#x27;NumberOfPropertyUseTypes&#x27;,\n",
       "                                                   &#x27;NombreAnnees&#x27;])])),\n",
       "                (&#x27;regressor&#x27;, LinearRegression())])</pre><b>In a Jupyter environment, please rerun this cell to show the HTML representation or trust the notebook. <br />On GitHub, the HTML representation is unable to render, please try loading this page with nbviewer.org.</b></div><div class=\"sk-container\" hidden><div class=\"sk-item sk-dashed-wrapped\"><div class=\"sk-label-container\"><div class=\"sk-label sk-toggleable\"><input class=\"sk-toggleable__control sk-hidden--visually\" id=\"sk-estimator-id-36\" type=\"checkbox\" ><label for=\"sk-estimator-id-36\" class=\"sk-toggleable__label sk-toggleable__label-arrow\">Pipeline</label><div class=\"sk-toggleable__content\"><pre>Pipeline(steps=[(&#x27;preprocessor&#x27;,\n",
       "                 ColumnTransformer(remainder=&#x27;passthrough&#x27;,\n",
       "                                   transformers=[(&#x27;cat&#x27;,\n",
       "                                                  Pipeline(steps=[(&#x27;onehot&#x27;,\n",
       "                                                                   OneHotEncoder(handle_unknown=&#x27;ignore&#x27;))]),\n",
       "                                                  [&#x27;BuildingType&#x27;,\n",
       "                                                   &#x27;Neighborhood&#x27;,\n",
       "                                                   &#x27;PrimaryProperty&#x27;,\n",
       "                                                   &#x27;SecondLargest&#x27;,\n",
       "                                                   &#x27;ThirdLargest&#x27;]),\n",
       "                                                 (&#x27;num&#x27;,\n",
       "                                                  Pipeline(steps=[(&#x27;log1p&#x27;,\n",
       "                                                                   FunctionTransformer(func=&lt;ufunc &#x27;log1p&#x27;&gt;))]),\n",
       "                                                  [&#x27;PropertyGFAParking&#x27;,\n",
       "                                                   &#x27;PropertyGFABuilding(s)&#x27;,\n",
       "                                                   &#x27;LargestPropertyUseTypeGFA&#x27;,\n",
       "                                                   &#x27;SecondLargestPropertyUseTypeGFA&#x27;,\n",
       "                                                   &#x27;ThirdLargestPropertyUseTypeGFA&#x27;,\n",
       "                                                   &#x27;TotalGHGEmissions&#x27;,\n",
       "                                                   &#x27;YearBuilt&#x27;,\n",
       "                                                   &#x27;NumberofBuildings&#x27;,\n",
       "                                                   &#x27;NumberofFloors&#x27;,\n",
       "                                                   &#x27;NumberOfPropertyUseTypes&#x27;,\n",
       "                                                   &#x27;NombreAnnees&#x27;])])),\n",
       "                (&#x27;regressor&#x27;, LinearRegression())])</pre></div></div></div><div class=\"sk-serial\"><div class=\"sk-item sk-dashed-wrapped\"><div class=\"sk-label-container\"><div class=\"sk-label sk-toggleable\"><input class=\"sk-toggleable__control sk-hidden--visually\" id=\"sk-estimator-id-37\" type=\"checkbox\" ><label for=\"sk-estimator-id-37\" class=\"sk-toggleable__label sk-toggleable__label-arrow\">preprocessor: ColumnTransformer</label><div class=\"sk-toggleable__content\"><pre>ColumnTransformer(remainder=&#x27;passthrough&#x27;,\n",
       "                  transformers=[(&#x27;cat&#x27;,\n",
       "                                 Pipeline(steps=[(&#x27;onehot&#x27;,\n",
       "                                                  OneHotEncoder(handle_unknown=&#x27;ignore&#x27;))]),\n",
       "                                 [&#x27;BuildingType&#x27;, &#x27;Neighborhood&#x27;,\n",
       "                                  &#x27;PrimaryProperty&#x27;, &#x27;SecondLargest&#x27;,\n",
       "                                  &#x27;ThirdLargest&#x27;]),\n",
       "                                (&#x27;num&#x27;,\n",
       "                                 Pipeline(steps=[(&#x27;log1p&#x27;,\n",
       "                                                  FunctionTransformer(func=&lt;ufunc &#x27;log1p&#x27;&gt;))]),\n",
       "                                 [&#x27;PropertyGFAParking&#x27;,\n",
       "                                  &#x27;PropertyGFABuilding(s)&#x27;,\n",
       "                                  &#x27;LargestPropertyUseTypeGFA&#x27;,\n",
       "                                  &#x27;SecondLargestPropertyUseTypeGFA&#x27;,\n",
       "                                  &#x27;ThirdLargestPropertyUseTypeGFA&#x27;,\n",
       "                                  &#x27;TotalGHGEmissions&#x27;, &#x27;YearBuilt&#x27;,\n",
       "                                  &#x27;NumberofBuildings&#x27;, &#x27;NumberofFloors&#x27;,\n",
       "                                  &#x27;NumberOfPropertyUseTypes&#x27;,\n",
       "                                  &#x27;NombreAnnees&#x27;])])</pre></div></div></div><div class=\"sk-parallel\"><div class=\"sk-parallel-item\"><div class=\"sk-item\"><div class=\"sk-label-container\"><div class=\"sk-label sk-toggleable\"><input class=\"sk-toggleable__control sk-hidden--visually\" id=\"sk-estimator-id-38\" type=\"checkbox\" ><label for=\"sk-estimator-id-38\" class=\"sk-toggleable__label sk-toggleable__label-arrow\">cat</label><div class=\"sk-toggleable__content\"><pre>[&#x27;BuildingType&#x27;, &#x27;Neighborhood&#x27;, &#x27;PrimaryProperty&#x27;, &#x27;SecondLargest&#x27;, &#x27;ThirdLargest&#x27;]</pre></div></div></div><div class=\"sk-serial\"><div class=\"sk-item\"><div class=\"sk-serial\"><div class=\"sk-item\"><div class=\"sk-estimator sk-toggleable\"><input class=\"sk-toggleable__control sk-hidden--visually\" id=\"sk-estimator-id-39\" type=\"checkbox\" ><label for=\"sk-estimator-id-39\" class=\"sk-toggleable__label sk-toggleable__label-arrow\">OneHotEncoder</label><div class=\"sk-toggleable__content\"><pre>OneHotEncoder(handle_unknown=&#x27;ignore&#x27;)</pre></div></div></div></div></div></div></div></div><div class=\"sk-parallel-item\"><div class=\"sk-item\"><div class=\"sk-label-container\"><div class=\"sk-label sk-toggleable\"><input class=\"sk-toggleable__control sk-hidden--visually\" id=\"sk-estimator-id-40\" type=\"checkbox\" ><label for=\"sk-estimator-id-40\" class=\"sk-toggleable__label sk-toggleable__label-arrow\">num</label><div class=\"sk-toggleable__content\"><pre>[&#x27;PropertyGFAParking&#x27;, &#x27;PropertyGFABuilding(s)&#x27;, &#x27;LargestPropertyUseTypeGFA&#x27;, &#x27;SecondLargestPropertyUseTypeGFA&#x27;, &#x27;ThirdLargestPropertyUseTypeGFA&#x27;, &#x27;TotalGHGEmissions&#x27;, &#x27;YearBuilt&#x27;, &#x27;NumberofBuildings&#x27;, &#x27;NumberofFloors&#x27;, &#x27;NumberOfPropertyUseTypes&#x27;, &#x27;NombreAnnees&#x27;]</pre></div></div></div><div class=\"sk-serial\"><div class=\"sk-item\"><div class=\"sk-serial\"><div class=\"sk-item\"><div class=\"sk-estimator sk-toggleable\"><input class=\"sk-toggleable__control sk-hidden--visually\" id=\"sk-estimator-id-41\" type=\"checkbox\" ><label for=\"sk-estimator-id-41\" class=\"sk-toggleable__label sk-toggleable__label-arrow\">FunctionTransformer</label><div class=\"sk-toggleable__content\"><pre>FunctionTransformer(func=&lt;ufunc &#x27;log1p&#x27;&gt;)</pre></div></div></div></div></div></div></div></div><div class=\"sk-parallel-item\"><div class=\"sk-item\"><div class=\"sk-label-container\"><div class=\"sk-label sk-toggleable\"><input class=\"sk-toggleable__control sk-hidden--visually\" id=\"sk-estimator-id-42\" type=\"checkbox\" ><label for=\"sk-estimator-id-42\" class=\"sk-toggleable__label sk-toggleable__label-arrow\">remainder</label><div class=\"sk-toggleable__content\"><pre></pre></div></div></div><div class=\"sk-serial\"><div class=\"sk-item\"><div class=\"sk-estimator sk-toggleable\"><input class=\"sk-toggleable__control sk-hidden--visually\" id=\"sk-estimator-id-43\" type=\"checkbox\" ><label for=\"sk-estimator-id-43\" class=\"sk-toggleable__label sk-toggleable__label-arrow\">passthrough</label><div class=\"sk-toggleable__content\"><pre>passthrough</pre></div></div></div></div></div></div></div></div><div class=\"sk-item\"><div class=\"sk-estimator sk-toggleable\"><input class=\"sk-toggleable__control sk-hidden--visually\" id=\"sk-estimator-id-44\" type=\"checkbox\" ><label for=\"sk-estimator-id-44\" class=\"sk-toggleable__label sk-toggleable__label-arrow\">LinearRegression</label><div class=\"sk-toggleable__content\"><pre>LinearRegression()</pre></div></div></div></div></div></div></div>"
      ],
      "text/plain": [
       "Pipeline(steps=[('preprocessor',\n",
       "                 ColumnTransformer(remainder='passthrough',\n",
       "                                   transformers=[('cat',\n",
       "                                                  Pipeline(steps=[('onehot',\n",
       "                                                                   OneHotEncoder(handle_unknown='ignore'))]),\n",
       "                                                  ['BuildingType',\n",
       "                                                   'Neighborhood',\n",
       "                                                   'PrimaryProperty',\n",
       "                                                   'SecondLargest',\n",
       "                                                   'ThirdLargest']),\n",
       "                                                 ('num',\n",
       "                                                  Pipeline(steps=[('log1p',\n",
       "                                                                   FunctionTransformer(func=<ufunc 'log1p'>))]),\n",
       "                                                  ['PropertyGFAParking',\n",
       "                                                   'PropertyGFABuilding(s)',\n",
       "                                                   'LargestPropertyUseTypeGFA',\n",
       "                                                   'SecondLargestPropertyUseTypeGFA',\n",
       "                                                   'ThirdLargestPropertyUseTypeGFA',\n",
       "                                                   'TotalGHGEmissions',\n",
       "                                                   'YearBuilt',\n",
       "                                                   'NumberofBuildings',\n",
       "                                                   'NumberofFloors',\n",
       "                                                   'NumberOfPropertyUseTypes',\n",
       "                                                   'NombreAnnees'])])),\n",
       "                ('regressor', LinearRegression())])"
      ]
     },
     "execution_count": 130,
     "metadata": {},
     "output_type": "execute_result"
    }
   ],
   "source": [
    "reg_pipe = Pipeline(steps=[('preprocessor', preprocessor),\n",
    "                           (\"regressor\", linear_model.LinearRegression()),\n",
    "                          ]\n",
    "                   )\n",
    "# ou via make_pipeline (la seule différence est que make_pipeline génère automatiquement des noms pour les étapes).\n",
    "# reg_pipe = make_pipeline(StandardScaler(), linear_model.LinearRegression())\n",
    "reg_pipe"
   ]
  },
  {
   "cell_type": "code",
   "execution_count": 133,
   "id": "07101f8b-9fe5-4d20-93f1-39d9d8642be4",
   "metadata": {},
   "outputs": [
    {
     "name": "stdout",
     "output_type": "stream",
     "text": [
      "Model error: SiteEnergyUse(kBtu)    0.2012\n",
      "dtype: float64\n"
     ]
    },
    {
     "name": "stderr",
     "output_type": "stream",
     "text": [
      "C:\\Users\\DELL\\anaconda3\\lib\\site-packages\\numpy\\core\\fromnumeric.py:3472: FutureWarning: In a future version, DataFrame.mean(axis=None) will return a scalar mean over the entire DataFrame. To retain the old behavior, use 'frame.mean(axis=0)' or just 'frame.mean()'\n",
      "  return mean(axis=axis, dtype=dtype, out=out, **kwargs)\n",
      "C:\\Users\\DELL\\anaconda3\\lib\\site-packages\\numpy\\core\\fromnumeric.py:3472: FutureWarning: In a future version, DataFrame.mean(axis=None) will return a scalar mean over the entire DataFrame. To retain the old behavior, use 'frame.mean(axis=0)' or just 'frame.mean()'\n",
      "  return mean(axis=axis, dtype=dtype, out=out, **kwargs)\n"
     ]
    }
   ],
   "source": [
    "lr_results = train_model(model=reg_pipe,\n",
    "                       x_train=X_train, y_train=y_train,\n",
    "                       x_test=X_test, y_test=y_test)"
   ]
  },
  {
   "cell_type": "markdown",
   "id": "09bcb353-a9b2-4ea2-9641-26d0b6f13c46",
   "metadata": {},
   "source": [
    "<p style=\"text-align:justify;font-family:times;font-size:15px\">Vérifions les métriques d'évaluation de notre modèle.</p>"
   ]
  },
  {
   "cell_type": "code",
   "execution_count": 134,
   "id": "2e6eb854-560f-45fb-b432-4a2a0d8cb47b",
   "metadata": {},
   "outputs": [
    {
     "data": {
      "text/html": [
       "<div>\n",
       "<style scoped>\n",
       "    .dataframe tbody tr th:only-of-type {\n",
       "        vertical-align: middle;\n",
       "    }\n",
       "\n",
       "    .dataframe tbody tr th {\n",
       "        vertical-align: top;\n",
       "    }\n",
       "\n",
       "    .dataframe thead th {\n",
       "        text-align: right;\n",
       "    }\n",
       "</style>\n",
       "<table border=\"1\" class=\"dataframe\">\n",
       "  <thead>\n",
       "    <tr style=\"text-align: right;\">\n",
       "      <th></th>\n",
       "      <th>metric</th>\n",
       "      <th>train</th>\n",
       "      <th>test</th>\n",
       "    </tr>\n",
       "  </thead>\n",
       "  <tbody>\n",
       "    <tr>\n",
       "      <th>0</th>\n",
       "      <td>r2_score</td>\n",
       "      <td>0.897818</td>\n",
       "      <td>0.876200</td>\n",
       "    </tr>\n",
       "    <tr>\n",
       "      <th>1</th>\n",
       "      <td>mean_squared_error</td>\n",
       "      <td>0.157691</td>\n",
       "      <td>0.201202</td>\n",
       "    </tr>\n",
       "    <tr>\n",
       "      <th>2</th>\n",
       "      <td>mean_absolute_percentage_error</td>\n",
       "      <td>0.020505</td>\n",
       "      <td>0.022257</td>\n",
       "    </tr>\n",
       "    <tr>\n",
       "      <th>3</th>\n",
       "      <td>max_error</td>\n",
       "      <td>2.483572</td>\n",
       "      <td>3.208325</td>\n",
       "    </tr>\n",
       "    <tr>\n",
       "      <th>4</th>\n",
       "      <td>mean_absolute_error</td>\n",
       "      <td>0.297023</td>\n",
       "      <td>0.319447</td>\n",
       "    </tr>\n",
       "  </tbody>\n",
       "</table>\n",
       "</div>"
      ],
      "text/plain": [
       "                           metric     train      test\n",
       "0                        r2_score  0.897818  0.876200\n",
       "1              mean_squared_error  0.157691  0.201202\n",
       "2  mean_absolute_percentage_error  0.020505  0.022257\n",
       "3                       max_error  2.483572  3.208325\n",
       "4             mean_absolute_error  0.297023  0.319447"
      ]
     },
     "execution_count": 134,
     "metadata": {},
     "output_type": "execute_result"
    }
   ],
   "source": [
    "lr = lr_results[\"estimator\"]\n",
    "get_all_performances(value_train=(y_train, lr.predict(X_train)),\n",
    "                     values_test=(y_test, lr.predict(X_test)),\n",
    "                     metrics=METRICS\n",
    "                    )"
   ]
  },
  {
   "cell_type": "markdown",
   "id": "f9b030d0-5092-4b28-b32c-1bef19db219e",
   "metadata": {},
   "source": [
    "<p style=\"text-align:justify;font-family:times;font-size:15px\">De façon générale, notre modèle apprend bien et généralise bien. Le r_2_score sur le train et le test sont assez intéressant. </p>"
   ]
  },
  {
   "cell_type": "markdown",
   "id": "624eacd6-4897-4ca0-9212-0f58d17c9a0c",
   "metadata": {},
   "source": [
    "<h5 style=\"text-align:justify;color:red;font-size:20px;font-family:Roboto\">a. Optimisation des hyperparamètres</h5>"
   ]
  },
  {
   "cell_type": "code",
   "execution_count": 135,
   "id": "50e16707-21f1-4428-a08a-6a8f8a59c5cc",
   "metadata": {},
   "outputs": [
    {
     "name": "stderr",
     "output_type": "stream",
     "text": [
      "C:\\Users\\DELL\\anaconda3\\lib\\site-packages\\numpy\\core\\fromnumeric.py:3472: FutureWarning: In a future version, DataFrame.mean(axis=None) will return a scalar mean over the entire DataFrame. To retain the old behavior, use 'frame.mean(axis=0)' or just 'frame.mean()'\n",
      "  return mean(axis=axis, dtype=dtype, out=out, **kwargs)\n",
      "C:\\Users\\DELL\\anaconda3\\lib\\site-packages\\numpy\\core\\fromnumeric.py:3472: FutureWarning: In a future version, DataFrame.mean(axis=None) will return a scalar mean over the entire DataFrame. To retain the old behavior, use 'frame.mean(axis=0)' or just 'frame.mean()'\n",
      "  return mean(axis=axis, dtype=dtype, out=out, **kwargs)\n"
     ]
    },
    {
     "name": "stdout",
     "output_type": "stream",
     "text": [
      "Model error: SiteEnergyUse(kBtu)    0.2012\n",
      "dtype: float64\n",
      "Best params: {'regressor__fit_intercept': True}\n"
     ]
    }
   ],
   "source": [
    "# définition de Pipeline de régression avec Pipeline (c'est à nous de données les noms de chaque étape du workflow)\n",
    "reg_pipe = Pipeline(steps=[('preprocessor', preprocessor),\n",
    "                           (\"regressor\", linear_model.LinearRegression()),\n",
    "                          ]\n",
    "                   )\n",
    "# ou via make_pipeline (la seule différence est que make_pipeline génère automatiquement des noms pour les étapes).\n",
    "# reg_pipe = make_pipeline(StandardScaler(), linear_model.LinearRegression())\n",
    "reg_pipe\n",
    "\n",
    "# Train and evaluate ridge regression\n",
    "lr_results = train_model(model=reg_pipe,\n",
    "                       x_train=X_train, y_train=y_train,\n",
    "                       x_test=X_test, y_test=y_test)\n",
    "\n",
    "lr_pipe = lr_results[\"estimator\"]\n",
    "param_grid = {\n",
    "    \"regressor__fit_intercept\": [True, False],\n",
    "}\n",
    "\n",
    "grid_search = GridSearchCV(reg_pipe, param_grid, cv=10, scoring=\"r2\", return_train_score=True)\n",
    "\n",
    "grid_search.fit(X_train, y_train)\n",
    "\n",
    "best_params = grid_search.best_params_\n",
    "print(f\"Best params: {best_params}\")"
   ]
  },
  {
   "cell_type": "markdown",
   "id": "1d8be544-31bd-44a8-bb77-e2085908b00a",
   "metadata": {},
   "source": [
    "<p style=\"text-align:justify;font-family:times;font-size:15px\">Le meilleur modèle de regression linéaire est celui avec ordonnée à l'origine. </p>"
   ]
  },
  {
   "cell_type": "code",
   "execution_count": 136,
   "id": "0d958eb1-4f5d-4cbc-abc3-3ef257aab071",
   "metadata": {},
   "outputs": [],
   "source": [
    "grid_cv_results = grid_search.cv_results_\n",
    "lr_best_model = grid_search.best_estimator_"
   ]
  },
  {
   "cell_type": "code",
   "execution_count": 145,
   "id": "61fa27e5-c4ee-4f27-8f21-1908fcc2da51",
   "metadata": {},
   "outputs": [
    {
     "data": {
      "text/plain": [
       "(1, 63)"
      ]
     },
     "execution_count": 145,
     "metadata": {},
     "output_type": "execute_result"
    }
   ],
   "source": [
    "grid_search.best_estimator_[-1].coef_.shape"
   ]
  },
  {
   "cell_type": "markdown",
   "id": "a5180b4b-d7b5-4e03-bbfc-51bcb8572937",
   "metadata": {},
   "source": [
    "<h5 style=\"text-align:justify;color:red;font-size:20px;font-family:Roboto\">b. Importances des features</h5>"
   ]
  },
  {
   "cell_type": "code",
   "execution_count": 146,
   "id": "2964fad8-5874-4c61-a587-400ae36ddaa4",
   "metadata": {},
   "outputs": [],
   "source": [
    "encoded_categorical_column_names = preprocessor.named_transformers_['cat']\\\n",
    "    .named_steps['onehot'].get_feature_names_out(input_features=obj_columns)\n",
    "\n",
    "# Récupérer les noms des colonnes pour les variables numériques\n",
    "numeric_column_names = num_columns\n",
    "\n",
    "# Concaténer les noms des colonnes catégorielles encodées et les noms des colonnes numériques\n",
    "all_column_names = ['Intercept'] + list(encoded_categorical_column_names) + list(numeric_column_names)"
   ]
  },
  {
   "cell_type": "code",
   "execution_count": 147,
   "id": "58781039-b1be-45b9-944b-959b3d55e155",
   "metadata": {},
   "outputs": [
    {
     "name": "stdout",
     "output_type": "stream",
     "text": [
      "Shape: (63, 1)\n"
     ]
    },
    {
     "data": {
      "text/html": [
       "<div>\n",
       "<style scoped>\n",
       "    .dataframe tbody tr th:only-of-type {\n",
       "        vertical-align: middle;\n",
       "    }\n",
       "\n",
       "    .dataframe tbody tr th {\n",
       "        vertical-align: top;\n",
       "    }\n",
       "\n",
       "    .dataframe thead th {\n",
       "        text-align: right;\n",
       "    }\n",
       "</style>\n",
       "<table border=\"1\" class=\"dataframe\">\n",
       "  <thead>\n",
       "    <tr style=\"text-align: right;\">\n",
       "      <th></th>\n",
       "      <th>coef</th>\n",
       "    </tr>\n",
       "  </thead>\n",
       "  <tbody>\n",
       "    <tr>\n",
       "      <th>Intercept</th>\n",
       "      <td>-0.000349</td>\n",
       "    </tr>\n",
       "    <tr>\n",
       "      <th>BuildingType_CAMPUS</th>\n",
       "      <td>-0.163846</td>\n",
       "    </tr>\n",
       "    <tr>\n",
       "      <th>BuildingType_NONRESIDENTIAL</th>\n",
       "      <td>-0.157878</td>\n",
       "    </tr>\n",
       "    <tr>\n",
       "      <th>BuildingType_NONRESIDENTIAL COS</th>\n",
       "      <td>0.558135</td>\n",
       "    </tr>\n",
       "    <tr>\n",
       "      <th>BuildingType_NONRESIDENTIAL WA</th>\n",
       "      <td>-0.236060</td>\n",
       "    </tr>\n",
       "    <tr>\n",
       "      <th>...</th>\n",
       "      <td>...</td>\n",
       "    </tr>\n",
       "    <tr>\n",
       "      <th>YearBuilt</th>\n",
       "      <td>0.016294</td>\n",
       "    </tr>\n",
       "    <tr>\n",
       "      <th>NumberofBuildings</th>\n",
       "      <td>0.077441</td>\n",
       "    </tr>\n",
       "    <tr>\n",
       "      <th>NumberofFloors</th>\n",
       "      <td>-0.122711</td>\n",
       "    </tr>\n",
       "    <tr>\n",
       "      <th>NumberOfPropertyUseTypes</th>\n",
       "      <td>0.075400</td>\n",
       "    </tr>\n",
       "    <tr>\n",
       "      <th>NombreAnnees</th>\n",
       "      <td>-0.013428</td>\n",
       "    </tr>\n",
       "  </tbody>\n",
       "</table>\n",
       "<p>63 rows × 1 columns</p>\n",
       "</div>"
      ],
      "text/plain": [
       "                                     coef\n",
       "Intercept                       -0.000349\n",
       "BuildingType_CAMPUS             -0.163846\n",
       "BuildingType_NONRESIDENTIAL     -0.157878\n",
       "BuildingType_NONRESIDENTIAL COS  0.558135\n",
       "BuildingType_NONRESIDENTIAL WA  -0.236060\n",
       "...                                   ...\n",
       "YearBuilt                        0.016294\n",
       "NumberofBuildings                0.077441\n",
       "NumberofFloors                  -0.122711\n",
       "NumberOfPropertyUseTypes         0.075400\n",
       "NombreAnnees                    -0.013428\n",
       "\n",
       "[63 rows x 1 columns]"
      ]
     },
     "execution_count": 147,
     "metadata": {},
     "output_type": "execute_result"
    }
   ],
   "source": [
    "encoded_column_names = reg_pipe.named_steps['preprocessor'].transformers_[0][1]\\\n",
    "    .named_steps['onehot'].get_feature_names_out(input_features=obj_columns)\n",
    "df_feature_importance = pd.DataFrame(grid_search.best_estimator_[-1].coef_.reshape(63,1), columns=[\"coef\"], index=all_column_names)\n",
    "print(f\"Shape: {df_feature_importance.shape}\")\n",
    "df_feature_importance"
   ]
  },
  {
   "cell_type": "code",
   "execution_count": 148,
   "id": "14d9369e-69a5-4dd1-a381-a2ee0690e9b0",
   "metadata": {},
   "outputs": [
    {
     "data": {
      "image/png": "[encoded data removed]",
      "text/plain": [
       "<Figure size 720x504 with 1 Axes>"
      ]
     },
     "metadata": {},
     "output_type": "display_data"
    }
   ],
   "source": [
    "(df_feature_importance\n",
    " .sort_values(\"coef\", key=lambda v: abs(v), ascending=True)\n",
    " .plot(kind=\"barh\", figsize=(10, 7))\n",
    ")\n",
    "plt.title(\"Linear model\")\n",
    "plt.axvline(x=0, color='.6')\n",
    "plt.subplots_adjust(left=.3);"
   ]
  },
  {
   "cell_type": "markdown",
   "id": "4208d620-7915-418f-ac3e-43d04351ff56",
   "metadata": {},
   "source": [
    "<p style=\"text-align:justify;font-family:times;font-size:15px\">On voit comment la variable emission d'energie influence très positivement la consommation d'énergie. Cecoi est tout à fait normal du fait que l'émession du gaz à effet de serre se déduit de la consommation d'énergie</p>"
   ]
  },
  {
   "cell_type": "markdown",
   "id": "f1d837bf-a73c-4436-9553-4b862978c1a3",
   "metadata": {},
   "source": [
    "<h4 style=\"text-align:justify;color:red;font-size:20px;font-family:Roboto\">2. ElasticNet</h4>"
   ]
  },
  {
   "cell_type": "code",
   "execution_count": 149,
   "id": "953166ce-14d0-46d4-bfd9-739008695230",
   "metadata": {},
   "outputs": [
    {
     "data": {
      "text/html": [
       "<style>#sk-container-id-8 {color: black;background-color: white;}#sk-container-id-8 pre{padding: 0;}#sk-container-id-8 div.sk-toggleable {background-color: white;}#sk-container-id-8 label.sk-toggleable__label {cursor: pointer;display: block;width: 100%;margin-bottom: 0;padding: 0.3em;box-sizing: border-box;text-align: center;}#sk-container-id-8 label.sk-toggleable__label-arrow:before {content: \"▸\";float: left;margin-right: 0.25em;color: #696969;}#sk-container-id-8 label.sk-toggleable__label-arrow:hover:before {color: black;}#sk-container-id-8 div.sk-estimator:hover label.sk-toggleable__label-arrow:before {color: black;}#sk-container-id-8 div.sk-toggleable__content {max-height: 0;max-width: 0;overflow: hidden;text-align: left;background-color: #f0f8ff;}#sk-container-id-8 div.sk-toggleable__content pre {margin: 0.2em;color: black;border-radius: 0.25em;background-color: #f0f8ff;}#sk-container-id-8 input.sk-toggleable__control:checked~div.sk-toggleable__content {max-height: 200px;max-width: 100%;overflow: auto;}#sk-container-id-8 input.sk-toggleable__control:checked~label.sk-toggleable__label-arrow:before {content: \"▾\";}#sk-container-id-8 div.sk-estimator input.sk-toggleable__control:checked~label.sk-toggleable__label {background-color: #d4ebff;}#sk-container-id-8 div.sk-label input.sk-toggleable__control:checked~label.sk-toggleable__label {background-color: #d4ebff;}#sk-container-id-8 input.sk-hidden--visually {border: 0;clip: rect(1px 1px 1px 1px);clip: rect(1px, 1px, 1px, 1px);height: 1px;margin: -1px;overflow: hidden;padding: 0;position: absolute;width: 1px;}#sk-container-id-8 div.sk-estimator {font-family: monospace;background-color: #f0f8ff;border: 1px dotted black;border-radius: 0.25em;box-sizing: border-box;margin-bottom: 0.5em;}#sk-container-id-8 div.sk-estimator:hover {background-color: #d4ebff;}#sk-container-id-8 div.sk-parallel-item::after {content: \"\";width: 100%;border-bottom: 1px solid gray;flex-grow: 1;}#sk-container-id-8 div.sk-label:hover label.sk-toggleable__label {background-color: #d4ebff;}#sk-container-id-8 div.sk-serial::before {content: \"\";position: absolute;border-left: 1px solid gray;box-sizing: border-box;top: 0;bottom: 0;left: 50%;z-index: 0;}#sk-container-id-8 div.sk-serial {display: flex;flex-direction: column;align-items: center;background-color: white;padding-right: 0.2em;padding-left: 0.2em;position: relative;}#sk-container-id-8 div.sk-item {position: relative;z-index: 1;}#sk-container-id-8 div.sk-parallel {display: flex;align-items: stretch;justify-content: center;background-color: white;position: relative;}#sk-container-id-8 div.sk-item::before, #sk-container-id-8 div.sk-parallel-item::before {content: \"\";position: absolute;border-left: 1px solid gray;box-sizing: border-box;top: 0;bottom: 0;left: 50%;z-index: -1;}#sk-container-id-8 div.sk-parallel-item {display: flex;flex-direction: column;z-index: 1;position: relative;background-color: white;}#sk-container-id-8 div.sk-parallel-item:first-child::after {align-self: flex-end;width: 50%;}#sk-container-id-8 div.sk-parallel-item:last-child::after {align-self: flex-start;width: 50%;}#sk-container-id-8 div.sk-parallel-item:only-child::after {width: 0;}#sk-container-id-8 div.sk-dashed-wrapped {border: 1px dashed gray;margin: 0 0.4em 0.5em 0.4em;box-sizing: border-box;padding-bottom: 0.4em;background-color: white;}#sk-container-id-8 div.sk-label label {font-family: monospace;font-weight: bold;display: inline-block;line-height: 1.2em;}#sk-container-id-8 div.sk-label-container {text-align: center;}#sk-container-id-8 div.sk-container {/* jupyter's `normalize.less` sets `[hidden] { display: none; }` but bootstrap.min.css set `[hidden] { display: none !important; }` so we also need the `!important` here to be able to override the default hidden behavior on the sphinx rendered scikit-learn.org. See: https://github.com/scikit-learn/scikit-learn/issues/21755 */display: inline-block !important;position: relative;}#sk-container-id-8 div.sk-text-repr-fallback {display: none;}</style><div id=\"sk-container-id-8\" class=\"sk-top-container\"><div class=\"sk-text-repr-fallback\"><pre>Pipeline(steps=[(&#x27;preprocessor&#x27;,\n",
       "                 ColumnTransformer(remainder=&#x27;passthrough&#x27;,\n",
       "                                   transformers=[(&#x27;cat&#x27;,\n",
       "                                                  Pipeline(steps=[(&#x27;onehot&#x27;,\n",
       "                                                                   OneHotEncoder(handle_unknown=&#x27;ignore&#x27;))]),\n",
       "                                                  [&#x27;BuildingType&#x27;,\n",
       "                                                   &#x27;Neighborhood&#x27;,\n",
       "                                                   &#x27;PrimaryProperty&#x27;,\n",
       "                                                   &#x27;SecondLargest&#x27;,\n",
       "                                                   &#x27;ThirdLargest&#x27;]),\n",
       "                                                 (&#x27;num&#x27;,\n",
       "                                                  Pipeline(steps=[(&#x27;log1p&#x27;,\n",
       "                                                                   FunctionTransformer(func=&lt;ufunc &#x27;log1p&#x27;&gt;))]),\n",
       "                                                  [&#x27;PropertyGFAParking&#x27;,\n",
       "                                                   &#x27;PropertyGFABuilding(s)&#x27;,\n",
       "                                                   &#x27;LargestPropertyUseTypeGFA&#x27;,\n",
       "                                                   &#x27;SecondLargestPropertyUseTypeGFA&#x27;,\n",
       "                                                   &#x27;ThirdLargestPropertyUseTypeGFA&#x27;,\n",
       "                                                   &#x27;TotalGHGEmissions&#x27;,\n",
       "                                                   &#x27;YearBuilt&#x27;,\n",
       "                                                   &#x27;NumberofBuildings&#x27;,\n",
       "                                                   &#x27;NumberofFloors&#x27;,\n",
       "                                                   &#x27;NumberOfPropertyUseTypes&#x27;,\n",
       "                                                   &#x27;NombreAnnees&#x27;])])),\n",
       "                (&#x27;regressor&#x27;, ElasticNet())])</pre><b>In a Jupyter environment, please rerun this cell to show the HTML representation or trust the notebook. <br />On GitHub, the HTML representation is unable to render, please try loading this page with nbviewer.org.</b></div><div class=\"sk-container\" hidden><div class=\"sk-item sk-dashed-wrapped\"><div class=\"sk-label-container\"><div class=\"sk-label sk-toggleable\"><input class=\"sk-toggleable__control sk-hidden--visually\" id=\"sk-estimator-id-46\" type=\"checkbox\" ><label for=\"sk-estimator-id-46\" class=\"sk-toggleable__label sk-toggleable__label-arrow\">Pipeline</label><div class=\"sk-toggleable__content\"><pre>Pipeline(steps=[(&#x27;preprocessor&#x27;,\n",
       "                 ColumnTransformer(remainder=&#x27;passthrough&#x27;,\n",
       "                                   transformers=[(&#x27;cat&#x27;,\n",
       "                                                  Pipeline(steps=[(&#x27;onehot&#x27;,\n",
       "                                                                   OneHotEncoder(handle_unknown=&#x27;ignore&#x27;))]),\n",
       "                                                  [&#x27;BuildingType&#x27;,\n",
       "                                                   &#x27;Neighborhood&#x27;,\n",
       "                                                   &#x27;PrimaryProperty&#x27;,\n",
       "                                                   &#x27;SecondLargest&#x27;,\n",
       "                                                   &#x27;ThirdLargest&#x27;]),\n",
       "                                                 (&#x27;num&#x27;,\n",
       "                                                  Pipeline(steps=[(&#x27;log1p&#x27;,\n",
       "                                                                   FunctionTransformer(func=&lt;ufunc &#x27;log1p&#x27;&gt;))]),\n",
       "                                                  [&#x27;PropertyGFAParking&#x27;,\n",
       "                                                   &#x27;PropertyGFABuilding(s)&#x27;,\n",
       "                                                   &#x27;LargestPropertyUseTypeGFA&#x27;,\n",
       "                                                   &#x27;SecondLargestPropertyUseTypeGFA&#x27;,\n",
       "                                                   &#x27;ThirdLargestPropertyUseTypeGFA&#x27;,\n",
       "                                                   &#x27;TotalGHGEmissions&#x27;,\n",
       "                                                   &#x27;YearBuilt&#x27;,\n",
       "                                                   &#x27;NumberofBuildings&#x27;,\n",
       "                                                   &#x27;NumberofFloors&#x27;,\n",
       "                                                   &#x27;NumberOfPropertyUseTypes&#x27;,\n",
       "                                                   &#x27;NombreAnnees&#x27;])])),\n",
       "                (&#x27;regressor&#x27;, ElasticNet())])</pre></div></div></div><div class=\"sk-serial\"><div class=\"sk-item sk-dashed-wrapped\"><div class=\"sk-label-container\"><div class=\"sk-label sk-toggleable\"><input class=\"sk-toggleable__control sk-hidden--visually\" id=\"sk-estimator-id-47\" type=\"checkbox\" ><label for=\"sk-estimator-id-47\" class=\"sk-toggleable__label sk-toggleable__label-arrow\">preprocessor: ColumnTransformer</label><div class=\"sk-toggleable__content\"><pre>ColumnTransformer(remainder=&#x27;passthrough&#x27;,\n",
       "                  transformers=[(&#x27;cat&#x27;,\n",
       "                                 Pipeline(steps=[(&#x27;onehot&#x27;,\n",
       "                                                  OneHotEncoder(handle_unknown=&#x27;ignore&#x27;))]),\n",
       "                                 [&#x27;BuildingType&#x27;, &#x27;Neighborhood&#x27;,\n",
       "                                  &#x27;PrimaryProperty&#x27;, &#x27;SecondLargest&#x27;,\n",
       "                                  &#x27;ThirdLargest&#x27;]),\n",
       "                                (&#x27;num&#x27;,\n",
       "                                 Pipeline(steps=[(&#x27;log1p&#x27;,\n",
       "                                                  FunctionTransformer(func=&lt;ufunc &#x27;log1p&#x27;&gt;))]),\n",
       "                                 [&#x27;PropertyGFAParking&#x27;,\n",
       "                                  &#x27;PropertyGFABuilding(s)&#x27;,\n",
       "                                  &#x27;LargestPropertyUseTypeGFA&#x27;,\n",
       "                                  &#x27;SecondLargestPropertyUseTypeGFA&#x27;,\n",
       "                                  &#x27;ThirdLargestPropertyUseTypeGFA&#x27;,\n",
       "                                  &#x27;TotalGHGEmissions&#x27;, &#x27;YearBuilt&#x27;,\n",
       "                                  &#x27;NumberofBuildings&#x27;, &#x27;NumberofFloors&#x27;,\n",
       "                                  &#x27;NumberOfPropertyUseTypes&#x27;,\n",
       "                                  &#x27;NombreAnnees&#x27;])])</pre></div></div></div><div class=\"sk-parallel\"><div class=\"sk-parallel-item\"><div class=\"sk-item\"><div class=\"sk-label-container\"><div class=\"sk-label sk-toggleable\"><input class=\"sk-toggleable__control sk-hidden--visually\" id=\"sk-estimator-id-48\" type=\"checkbox\" ><label for=\"sk-estimator-id-48\" class=\"sk-toggleable__label sk-toggleable__label-arrow\">cat</label><div class=\"sk-toggleable__content\"><pre>[&#x27;BuildingType&#x27;, &#x27;Neighborhood&#x27;, &#x27;PrimaryProperty&#x27;, &#x27;SecondLargest&#x27;, &#x27;ThirdLargest&#x27;]</pre></div></div></div><div class=\"sk-serial\"><div class=\"sk-item\"><div class=\"sk-serial\"><div class=\"sk-item\"><div class=\"sk-estimator sk-toggleable\"><input class=\"sk-toggleable__control sk-hidden--visually\" id=\"sk-estimator-id-49\" type=\"checkbox\" ><label for=\"sk-estimator-id-49\" class=\"sk-toggleable__label sk-toggleable__label-arrow\">OneHotEncoder</label><div class=\"sk-toggleable__content\"><pre>OneHotEncoder(handle_unknown=&#x27;ignore&#x27;)</pre></div></div></div></div></div></div></div></div><div class=\"sk-parallel-item\"><div class=\"sk-item\"><div class=\"sk-label-container\"><div class=\"sk-label sk-toggleable\"><input class=\"sk-toggleable__control sk-hidden--visually\" id=\"sk-estimator-id-50\" type=\"checkbox\" ><label for=\"sk-estimator-id-50\" class=\"sk-toggleable__label sk-toggleable__label-arrow\">num</label><div class=\"sk-toggleable__content\"><pre>[&#x27;PropertyGFAParking&#x27;, &#x27;PropertyGFABuilding(s)&#x27;, &#x27;LargestPropertyUseTypeGFA&#x27;, &#x27;SecondLargestPropertyUseTypeGFA&#x27;, &#x27;ThirdLargestPropertyUseTypeGFA&#x27;, &#x27;TotalGHGEmissions&#x27;, &#x27;YearBuilt&#x27;, &#x27;NumberofBuildings&#x27;, &#x27;NumberofFloors&#x27;, &#x27;NumberOfPropertyUseTypes&#x27;, &#x27;NombreAnnees&#x27;]</pre></div></div></div><div class=\"sk-serial\"><div class=\"sk-item\"><div class=\"sk-serial\"><div class=\"sk-item\"><div class=\"sk-estimator sk-toggleable\"><input class=\"sk-toggleable__control sk-hidden--visually\" id=\"sk-estimator-id-51\" type=\"checkbox\" ><label for=\"sk-estimator-id-51\" class=\"sk-toggleable__label sk-toggleable__label-arrow\">FunctionTransformer</label><div class=\"sk-toggleable__content\"><pre>FunctionTransformer(func=&lt;ufunc &#x27;log1p&#x27;&gt;)</pre></div></div></div></div></div></div></div></div><div class=\"sk-parallel-item\"><div class=\"sk-item\"><div class=\"sk-label-container\"><div class=\"sk-label sk-toggleable\"><input class=\"sk-toggleable__control sk-hidden--visually\" id=\"sk-estimator-id-52\" type=\"checkbox\" ><label for=\"sk-estimator-id-52\" class=\"sk-toggleable__label sk-toggleable__label-arrow\">remainder</label><div class=\"sk-toggleable__content\"><pre>[&#x27;CouncilDistrictCode&#x27;]</pre></div></div></div><div class=\"sk-serial\"><div class=\"sk-item\"><div class=\"sk-estimator sk-toggleable\"><input class=\"sk-toggleable__control sk-hidden--visually\" id=\"sk-estimator-id-53\" type=\"checkbox\" ><label for=\"sk-estimator-id-53\" class=\"sk-toggleable__label sk-toggleable__label-arrow\">passthrough</label><div class=\"sk-toggleable__content\"><pre>passthrough</pre></div></div></div></div></div></div></div></div><div class=\"sk-item\"><div class=\"sk-estimator sk-toggleable\"><input class=\"sk-toggleable__control sk-hidden--visually\" id=\"sk-estimator-id-54\" type=\"checkbox\" ><label for=\"sk-estimator-id-54\" class=\"sk-toggleable__label sk-toggleable__label-arrow\">ElasticNet</label><div class=\"sk-toggleable__content\"><pre>ElasticNet()</pre></div></div></div></div></div></div></div>"
      ],
      "text/plain": [
       "Pipeline(steps=[('preprocessor',\n",
       "                 ColumnTransformer(remainder='passthrough',\n",
       "                                   transformers=[('cat',\n",
       "                                                  Pipeline(steps=[('onehot',\n",
       "                                                                   OneHotEncoder(handle_unknown='ignore'))]),\n",
       "                                                  ['BuildingType',\n",
       "                                                   'Neighborhood',\n",
       "                                                   'PrimaryProperty',\n",
       "                                                   'SecondLargest',\n",
       "                                                   'ThirdLargest']),\n",
       "                                                 ('num',\n",
       "                                                  Pipeline(steps=[('log1p',\n",
       "                                                                   FunctionTransformer(func=<ufunc 'log1p'>))]),\n",
       "                                                  ['PropertyGFAParking',\n",
       "                                                   'PropertyGFABuilding(s)',\n",
       "                                                   'LargestPropertyUseTypeGFA',\n",
       "                                                   'SecondLargestPropertyUseTypeGFA',\n",
       "                                                   'ThirdLargestPropertyUseTypeGFA',\n",
       "                                                   'TotalGHGEmissions',\n",
       "                                                   'YearBuilt',\n",
       "                                                   'NumberofBuildings',\n",
       "                                                   'NumberofFloors',\n",
       "                                                   'NumberOfPropertyUseTypes',\n",
       "                                                   'NombreAnnees'])])),\n",
       "                ('regressor', ElasticNet())])"
      ]
     },
     "execution_count": 149,
     "metadata": {},
     "output_type": "execute_result"
    }
   ],
   "source": [
    "en_pipe = Pipeline(steps=[\n",
    "                           ('preprocessor', preprocessor),\n",
    "                           (\"regressor\", linear_model.ElasticNet()),\n",
    "                          ]\n",
    "                   )\n",
    "en_pipe"
   ]
  },
  {
   "cell_type": "code",
   "execution_count": 150,
   "id": "a6a6503e-a361-4c01-9962-bd0279f18ba6",
   "metadata": {},
   "outputs": [
    {
     "name": "stdout",
     "output_type": "stream",
     "text": [
      "Model error: SiteEnergyUse(kBtu)    0.61724\n",
      "dtype: float64\n"
     ]
    },
    {
     "name": "stderr",
     "output_type": "stream",
     "text": [
      "C:\\Users\\DELL\\anaconda3\\lib\\site-packages\\numpy\\core\\fromnumeric.py:3472: FutureWarning: In a future version, DataFrame.mean(axis=None) will return a scalar mean over the entire DataFrame. To retain the old behavior, use 'frame.mean(axis=0)' or just 'frame.mean()'\n",
      "  return mean(axis=axis, dtype=dtype, out=out, **kwargs)\n",
      "C:\\Users\\DELL\\anaconda3\\lib\\site-packages\\numpy\\core\\fromnumeric.py:3472: FutureWarning: In a future version, DataFrame.mean(axis=None) will return a scalar mean over the entire DataFrame. To retain the old behavior, use 'frame.mean(axis=0)' or just 'frame.mean()'\n",
      "  return mean(axis=axis, dtype=dtype, out=out, **kwargs)\n"
     ]
    }
   ],
   "source": [
    "en_results = train_model(model=en_pipe,\n",
    "                       x_train=X_train, y_train=y_train,\n",
    "                       x_test=X_test, y_test=y_test)"
   ]
  },
  {
   "cell_type": "markdown",
   "id": "ce127401-6ac4-4356-8e5b-a6f1ef2f5916",
   "metadata": {},
   "source": [
    "<h5 style=\"text-align:justify;color:red;font-size:20px;font-family:Roboto\">a. Optimisation des hyperparamètres</h5>"
   ]
  },
  {
   "cell_type": "code",
   "execution_count": 151,
   "id": "0e4a162c-7b53-4d74-8a80-988ab76979eb",
   "metadata": {},
   "outputs": [
    {
     "name": "stdout",
     "output_type": "stream",
     "text": [
      "Model error: SiteEnergyUse(kBtu)    0.61724\n",
      "dtype: float64\n"
     ]
    },
    {
     "name": "stderr",
     "output_type": "stream",
     "text": [
      "C:\\Users\\DELL\\anaconda3\\lib\\site-packages\\numpy\\core\\fromnumeric.py:3472: FutureWarning: In a future version, DataFrame.mean(axis=None) will return a scalar mean over the entire DataFrame. To retain the old behavior, use 'frame.mean(axis=0)' or just 'frame.mean()'\n",
      "  return mean(axis=axis, dtype=dtype, out=out, **kwargs)\n",
      "C:\\Users\\DELL\\anaconda3\\lib\\site-packages\\numpy\\core\\fromnumeric.py:3472: FutureWarning: In a future version, DataFrame.mean(axis=None) will return a scalar mean over the entire DataFrame. To retain the old behavior, use 'frame.mean(axis=0)' or just 'frame.mean()'\n",
      "  return mean(axis=axis, dtype=dtype, out=out, **kwargs)\n"
     ]
    }
   ],
   "source": [
    "# définition de Pipeline de régression avec Pipeline (c'est à nous de données les noms de chaque étape du workflow)\n",
    "en_pipe = Pipeline(steps=[('preprocessor', preprocessor),\n",
    "                           (\"regressor\", linear_model.ElasticNet()),\n",
    "                          ]\n",
    "                   )\n",
    "# ou via make_pipeline (la seule différence est que make_pipeline génère automatiquement des noms pour les étapes).\n",
    "# reg_pipe = make_pipeline(StandardScaler(), linear_model.LinearRegression())\n",
    "en_pipe\n",
    "# Train and evaluate ridge regression\n",
    "en_results = train_model(model=en_pipe,\n",
    "                       x_train=X_train, y_train=y_train,\n",
    "                       x_test=X_test, y_test=y_test)\n",
    "\n",
    "eln_pipe = en_results[\"estimator\"]"
   ]
  },
  {
   "cell_type": "code",
   "execution_count": 152,
   "id": "db5c86eb-6016-4da1-8c9e-37b40da289a5",
   "metadata": {},
   "outputs": [
    {
     "name": "stdout",
     "output_type": "stream",
     "text": [
      "Best params: {'regressor__alpha': 0.1, 'regressor__fit_intercept': True, 'regressor__l1_ratio': 0.1, 'regressor__max_iter': 1000, 'regressor__tol': 0.01}\n"
     ]
    }
   ],
   "source": [
    "param_grid = {\n",
    "    'regressor__alpha': [0.1, 0.5, 1.0],\n",
    "    'regressor__l1_ratio': [0.1, 0.5, 0.9],\n",
    "    'regressor__fit_intercept': [True, False],\n",
    "    'regressor__max_iter': [1000, 2000, 3000],\n",
    "    'regressor__tol': [0.001, 0.01, 0.1]\n",
    "}\n",
    "\n",
    "grid_search = GridSearchCV(en_pipe, param_grid, cv=10, scoring=\"r2\", return_train_score=True)\n",
    "grid_search\n",
    "grid_search.fit(X_train, y_train)\n",
    "\n",
    "best_params = grid_search.best_params_\n",
    "print(f\"Best params: {best_params}\")\n",
    "grid_cv_results = grid_search.cv_results_\n",
    "\n",
    "eln_best_model = grid_search.best_estimator_"
   ]
  },
  {
   "cell_type": "markdown",
   "id": "22d47de9-d144-4c3f-99b8-b2704ca2fa66",
   "metadata": {},
   "source": [
    "<h5 style=\"text-align:justify;color:red;font-size:20px;font-family:Roboto\">b. Importances des features</h5>"
   ]
  },
  {
   "cell_type": "code",
   "execution_count": 154,
   "id": "edeed03f-30bf-4471-9388-02e138a10e41",
   "metadata": {},
   "outputs": [
    {
     "name": "stdout",
     "output_type": "stream",
     "text": [
      "Shape: (63, 1)\n"
     ]
    },
    {
     "data": {
      "image/png": "[encoded data removed]",
      "text/plain": [
       "<Figure size 720x504 with 1 Axes>"
      ]
     },
     "metadata": {},
     "output_type": "display_data"
    }
   ],
   "source": [
    "df_feature_importance = pd.DataFrame(grid_search.best_estimator_[-1].coef_.reshape(63,1), columns=[\"coef\"], index=all_column_names)\n",
    "print(f\"Shape: {df_feature_importance.shape}\")\n",
    "(df_feature_importance\n",
    " .sort_values(\"coef\", key=lambda v: abs(v), ascending=True)\n",
    " .plot(kind=\"barh\", figsize=(10, 7))\n",
    ")\n",
    "plt.title(\"ElasticNet model\")\n",
    "plt.axvline(x=0, color='.6')\n",
    "plt.subplots_adjust(left=.3);"
   ]
  },
  {
   "cell_type": "markdown",
   "id": "cae75fca-575c-42e2-a84a-48eebc45f36e",
   "metadata": {},
   "source": [
    "<p style=\"text-align:justify;font-family:times;font-size:15px\">On voit clairement que les superificies du parking, building, le nombre de batiments ainsi que quelques propriétés primaire permettent de déterminer la consommation d'énergie. Nous allons donc essayer d'appliquer un modèle que sur ces variables là. </p>"
   ]
  },
  {
   "cell_type": "code",
   "execution_count": 163,
   "id": "086ed81e-4b0e-4fd8-a31e-418d2c510b9f",
   "metadata": {},
   "outputs": [],
   "source": [
    "X_index_eln = ['ThirdLargest','ThirdLargestPropertyUseTypeGFA','PrimaryProperty'\n",
    "               ,'NumberOfPropertyUseTypes','PropertyGFABuilding(s)',\n",
    "               'PropertyGFAParking','Neighborhood','NumberofBuildings']  # Récupérer les colonnes différentes de \"SiteEnergyUse(kBtu)\"\n",
    "\n",
    "\n",
    "# Séparer les caractéristiques (X) et la cible (y) en utilisant iloc\n",
    "X_train_eln = X_train.loc[:, X_index_eln]\n",
    "\n",
    "# Séparer les caractéristiques (X) et la cible (y) en utilisant iloc\n",
    "X_test_eln = X_test.loc[:, X_index_eln]\n",
    "\n",
    "num_columns_2 = ['ThirdLargestPropertyUseTypeGFA',\n",
    "               'NumberOfPropertyUseTypes','PropertyGFABuilding(s)',\n",
    "               'PropertyGFAParking','NumberofBuildings']\n",
    "obj_columns_2 = ['PrimaryProperty','ThirdLargest','Neighborhood']\n",
    "\n",
    "categorical_transformer = Pipeline(steps=[\n",
    "    ('onehot', OneHotEncoder(handle_unknown='ignore'))\n",
    "])\n",
    "\n",
    "numeric_transformer = Pipeline(steps=[\n",
    "    ('log1p', FunctionTransformer(func=np.log1p))\n",
    "])\n",
    "\n",
    "# Création du préprocesseur en utilisant ColumnTransformer\n",
    "preprocessor_2 = ColumnTransformer(\n",
    "    transformers=[\n",
    "        ('cat', categorical_transformer, obj_columns_2),\n",
    "        ('num', numeric_transformer, num_columns_2)\n",
    "    ],remainder='passthrough')"
   ]
  },
  {
   "cell_type": "code",
   "execution_count": 164,
   "id": "bdf64d4e-b407-4f68-aadd-71362eed8ef1",
   "metadata": {},
   "outputs": [
    {
     "name": "stdout",
     "output_type": "stream",
     "text": [
      "Model error: SiteEnergyUse(kBtu)    1.19464\n",
      "dtype: float64\n"
     ]
    },
    {
     "name": "stderr",
     "output_type": "stream",
     "text": [
      "C:\\Users\\DELL\\anaconda3\\lib\\site-packages\\numpy\\core\\fromnumeric.py:3472: FutureWarning: In a future version, DataFrame.mean(axis=None) will return a scalar mean over the entire DataFrame. To retain the old behavior, use 'frame.mean(axis=0)' or just 'frame.mean()'\n",
      "  return mean(axis=axis, dtype=dtype, out=out, **kwargs)\n",
      "C:\\Users\\DELL\\anaconda3\\lib\\site-packages\\numpy\\core\\fromnumeric.py:3472: FutureWarning: In a future version, DataFrame.mean(axis=None) will return a scalar mean over the entire DataFrame. To retain the old behavior, use 'frame.mean(axis=0)' or just 'frame.mean()'\n",
      "  return mean(axis=axis, dtype=dtype, out=out, **kwargs)\n"
     ]
    },
    {
     "data": {
      "text/html": [
       "<div>\n",
       "<style scoped>\n",
       "    .dataframe tbody tr th:only-of-type {\n",
       "        vertical-align: middle;\n",
       "    }\n",
       "\n",
       "    .dataframe tbody tr th {\n",
       "        vertical-align: top;\n",
       "    }\n",
       "\n",
       "    .dataframe thead th {\n",
       "        text-align: right;\n",
       "    }\n",
       "</style>\n",
       "<table border=\"1\" class=\"dataframe\">\n",
       "  <thead>\n",
       "    <tr style=\"text-align: right;\">\n",
       "      <th></th>\n",
       "      <th>metric</th>\n",
       "      <th>train</th>\n",
       "      <th>test</th>\n",
       "    </tr>\n",
       "  </thead>\n",
       "  <tbody>\n",
       "    <tr>\n",
       "      <th>0</th>\n",
       "      <td>r2_score</td>\n",
       "      <td>0.266859</td>\n",
       "      <td>0.264938</td>\n",
       "    </tr>\n",
       "    <tr>\n",
       "      <th>1</th>\n",
       "      <td>mean_squared_error</td>\n",
       "      <td>1.131407</td>\n",
       "      <td>1.194642</td>\n",
       "    </tr>\n",
       "    <tr>\n",
       "      <th>2</th>\n",
       "      <td>mean_absolute_percentage_error</td>\n",
       "      <td>0.055653</td>\n",
       "      <td>0.058418</td>\n",
       "    </tr>\n",
       "    <tr>\n",
       "      <th>3</th>\n",
       "      <td>max_error</td>\n",
       "      <td>4.580630</td>\n",
       "      <td>4.806922</td>\n",
       "    </tr>\n",
       "    <tr>\n",
       "      <th>4</th>\n",
       "      <td>mean_absolute_error</td>\n",
       "      <td>0.816036</td>\n",
       "      <td>0.845886</td>\n",
       "    </tr>\n",
       "  </tbody>\n",
       "</table>\n",
       "</div>"
      ],
      "text/plain": [
       "                           metric     train      test\n",
       "0                        r2_score  0.266859  0.264938\n",
       "1              mean_squared_error  1.131407  1.194642\n",
       "2  mean_absolute_percentage_error  0.055653  0.058418\n",
       "3                       max_error  4.580630  4.806922\n",
       "4             mean_absolute_error  0.816036  0.845886"
      ]
     },
     "execution_count": 164,
     "metadata": {},
     "output_type": "execute_result"
    }
   ],
   "source": [
    "en_pipe_2 = Pipeline(steps=[('preprocessor_2', preprocessor_2),\n",
    "                           (\"regressor\", linear_model.ElasticNet()),\n",
    "                          ]\n",
    "                   )\n",
    "en_pipe_2\n",
    "en_results_2 = train_model(model=en_pipe_2,\n",
    "                       x_train=X_train_eln, y_train=y_train,\n",
    "                       x_test=X_test_eln, y_test=y_test)\n",
    "en_estimator_2 = en_results_2[\"estimator\"]\n",
    "\n",
    "get_all_performances(value_train=(y_train, en_estimator_2.predict(X_train_eln)),\n",
    "                     values_test=(y_test, en_estimator_2.predict(X_test_eln)),\n",
    "                     metrics=METRICS\n",
    "                    )"
   ]
  },
  {
   "cell_type": "code",
   "execution_count": 165,
   "id": "9dc462a2-5465-4ba8-ac94-80c5e607fee8",
   "metadata": {},
   "outputs": [
    {
     "name": "stdout",
     "output_type": "stream",
     "text": [
      "Best params: {'regressor__alpha': 0.1, 'regressor__fit_intercept': True, 'regressor__l1_ratio': 0.1, 'regressor__max_iter': 1000, 'regressor__tol': 0.01}\n"
     ]
    }
   ],
   "source": [
    "param_grid = {\n",
    "    'regressor__alpha': [0.1, 0.5, 1.0],\n",
    "    'regressor__l1_ratio': [0.1, 0.5, 0.9],\n",
    "    'regressor__fit_intercept': [True, False],\n",
    "    'regressor__max_iter': [1000, 2000, 3000],\n",
    "    'regressor__tol': [0.001, 0.01, 0.1]\n",
    "}\n",
    "\n",
    "grid_search = GridSearchCV(en_pipe_2, param_grid, cv=10, scoring=\"r2\", return_train_score=True)\n",
    "grid_search\n",
    "grid_search.fit(X_train_eln, y_train)\n",
    "\n",
    "best_params = grid_search.best_params_\n",
    "print(f\"Best params: {best_params}\")"
   ]
  },
  {
   "cell_type": "code",
   "execution_count": 166,
   "id": "8e4de067-c74c-4cc2-a975-86c2405903be",
   "metadata": {},
   "outputs": [
    {
     "data": {
      "text/html": [
       "<div>\n",
       "<style scoped>\n",
       "    .dataframe tbody tr th:only-of-type {\n",
       "        vertical-align: middle;\n",
       "    }\n",
       "\n",
       "    .dataframe tbody tr th {\n",
       "        vertical-align: top;\n",
       "    }\n",
       "\n",
       "    .dataframe thead th {\n",
       "        text-align: right;\n",
       "    }\n",
       "</style>\n",
       "<table border=\"1\" class=\"dataframe\">\n",
       "  <thead>\n",
       "    <tr style=\"text-align: right;\">\n",
       "      <th></th>\n",
       "      <th>metric</th>\n",
       "      <th>train</th>\n",
       "      <th>test</th>\n",
       "    </tr>\n",
       "  </thead>\n",
       "  <tbody>\n",
       "    <tr>\n",
       "      <th>0</th>\n",
       "      <td>r2_score</td>\n",
       "      <td>0.632984</td>\n",
       "      <td>0.594060</td>\n",
       "    </tr>\n",
       "    <tr>\n",
       "      <th>1</th>\n",
       "      <td>mean_squared_error</td>\n",
       "      <td>0.566391</td>\n",
       "      <td>0.659745</td>\n",
       "    </tr>\n",
       "    <tr>\n",
       "      <th>2</th>\n",
       "      <td>mean_absolute_percentage_error</td>\n",
       "      <td>0.038431</td>\n",
       "      <td>0.041188</td>\n",
       "    </tr>\n",
       "    <tr>\n",
       "      <th>3</th>\n",
       "      <td>max_error</td>\n",
       "      <td>4.710104</td>\n",
       "      <td>4.453478</td>\n",
       "    </tr>\n",
       "    <tr>\n",
       "      <th>4</th>\n",
       "      <td>mean_absolute_error</td>\n",
       "      <td>0.556026</td>\n",
       "      <td>0.588455</td>\n",
       "    </tr>\n",
       "  </tbody>\n",
       "</table>\n",
       "</div>"
      ],
      "text/plain": [
       "                           metric     train      test\n",
       "0                        r2_score  0.632984  0.594060\n",
       "1              mean_squared_error  0.566391  0.659745\n",
       "2  mean_absolute_percentage_error  0.038431  0.041188\n",
       "3                       max_error  4.710104  4.453478\n",
       "4             mean_absolute_error  0.556026  0.588455"
      ]
     },
     "execution_count": 166,
     "metadata": {},
     "output_type": "execute_result"
    }
   ],
   "source": [
    "\n",
    "eln_best_model = grid_search.best_estimator_\n",
    "eln_best_model.fit(X_train_eln, y_train)\n",
    "\n",
    "# Afficher les performances sur les ensembles d'entraînement et de test\n",
    "get_all_performances(value_train=(y_train, eln_best_model.predict(X_train_eln)),\n",
    "                     values_test=(y_test, eln_best_model.predict(X_test_eln)),\n",
    "                     metrics=METRICS)"
   ]
  },
  {
   "cell_type": "markdown",
   "id": "dcf6daa2-229c-45d8-b037-7efd9b8c17e1",
   "metadata": {},
   "source": [
    "<p style=\"text-align:justify;font-family:times;font-size:15px\">  La  part de variance exppliquée par ce modèle n'est pas élevée et les erreurs bien qu'étant pas différent sur le test et le train sont quand même élevées. </p>"
   ]
  },
  {
   "cell_type": "markdown",
   "id": "70940ace-5ba4-4630-bd04-46d42efab338",
   "metadata": {},
   "source": [
    "<h4 style=\"text-align:justify;color:red;font-size:20px;font-family:Roboto\">3. DecisionTree</h4>"
   ]
  },
  {
   "cell_type": "code",
   "execution_count": 168,
   "id": "07958e55-8f15-456c-ac22-692b2ee8a902",
   "metadata": {},
   "outputs": [
    {
     "name": "stdout",
     "output_type": "stream",
     "text": [
      "Model error: SiteEnergyUse(kBtu)    0.37106\n",
      "dtype: float64\n"
     ]
    },
    {
     "name": "stderr",
     "output_type": "stream",
     "text": [
      "C:\\Users\\DELL\\anaconda3\\lib\\site-packages\\numpy\\core\\fromnumeric.py:3472: FutureWarning: In a future version, DataFrame.mean(axis=None) will return a scalar mean over the entire DataFrame. To retain the old behavior, use 'frame.mean(axis=0)' or just 'frame.mean()'\n",
      "  return mean(axis=axis, dtype=dtype, out=out, **kwargs)\n",
      "C:\\Users\\DELL\\anaconda3\\lib\\site-packages\\numpy\\core\\fromnumeric.py:3472: FutureWarning: In a future version, DataFrame.mean(axis=None) will return a scalar mean over the entire DataFrame. To retain the old behavior, use 'frame.mean(axis=0)' or just 'frame.mean()'\n",
      "  return mean(axis=axis, dtype=dtype, out=out, **kwargs)\n"
     ]
    },
    {
     "data": {
      "text/html": [
       "<div>\n",
       "<style scoped>\n",
       "    .dataframe tbody tr th:only-of-type {\n",
       "        vertical-align: middle;\n",
       "    }\n",
       "\n",
       "    .dataframe tbody tr th {\n",
       "        vertical-align: top;\n",
       "    }\n",
       "\n",
       "    .dataframe thead th {\n",
       "        text-align: right;\n",
       "    }\n",
       "</style>\n",
       "<table border=\"1\" class=\"dataframe\">\n",
       "  <thead>\n",
       "    <tr style=\"text-align: right;\">\n",
       "      <th></th>\n",
       "      <th>metric</th>\n",
       "      <th>train</th>\n",
       "      <th>test</th>\n",
       "    </tr>\n",
       "  </thead>\n",
       "  <tbody>\n",
       "    <tr>\n",
       "      <th>0</th>\n",
       "      <td>r2_score</td>\n",
       "      <td>1.0</td>\n",
       "      <td>0.771690</td>\n",
       "    </tr>\n",
       "    <tr>\n",
       "      <th>1</th>\n",
       "      <td>mean_squared_error</td>\n",
       "      <td>0.0</td>\n",
       "      <td>0.371055</td>\n",
       "    </tr>\n",
       "    <tr>\n",
       "      <th>2</th>\n",
       "      <td>mean_absolute_percentage_error</td>\n",
       "      <td>0.0</td>\n",
       "      <td>0.028031</td>\n",
       "    </tr>\n",
       "    <tr>\n",
       "      <th>3</th>\n",
       "      <td>max_error</td>\n",
       "      <td>0.0</td>\n",
       "      <td>4.617085</td>\n",
       "    </tr>\n",
       "    <tr>\n",
       "      <th>4</th>\n",
       "      <td>mean_absolute_error</td>\n",
       "      <td>0.0</td>\n",
       "      <td>0.412220</td>\n",
       "    </tr>\n",
       "  </tbody>\n",
       "</table>\n",
       "</div>"
      ],
      "text/plain": [
       "                           metric  train      test\n",
       "0                        r2_score    1.0  0.771690\n",
       "1              mean_squared_error    0.0  0.371055\n",
       "2  mean_absolute_percentage_error    0.0  0.028031\n",
       "3                       max_error    0.0  4.617085\n",
       "4             mean_absolute_error    0.0  0.412220"
      ]
     },
     "execution_count": 168,
     "metadata": {},
     "output_type": "execute_result"
    }
   ],
   "source": [
    "from sklearn.tree import DecisionTreeRegressor\n",
    "dt_reg = Pipeline(steps=[('preprocessor', preprocessor),\n",
    "                           (\"regressor\", DecisionTreeRegressor()),\n",
    "                          ]\n",
    "                   )\n",
    "dt_reg\n",
    "dt_results = train_model(model=dt_reg,\n",
    "                       x_train=X_train, y_train=y_train,\n",
    "                       x_test=X_test, y_test=y_test)\n",
    "\n",
    "dt_estimator = dt_results[\"estimator\"]\n",
    "dt_estimator\n",
    "# get performances in train & test\n",
    "get_all_performances(value_train=(y_train, dt_estimator.predict(X_train)),\n",
    "                     values_test=(y_test, dt_estimator.predict(X_test)),\n",
    "                     metrics=METRICS\n",
    "                    )"
   ]
  },
  {
   "cell_type": "markdown",
   "id": "f62ac526-6c4e-4218-bd6e-00125fa79626",
   "metadata": {},
   "source": [
    "<p style=\"text-align:justify;font-family:times;font-size:15px\"> On voit alors que notre modèle surapprend. Réglons cela en optimisant les hyperparamètres.  </p>"
   ]
  },
  {
   "cell_type": "markdown",
   "id": "1baf755d-3302-4016-af50-c45d9f61fff8",
   "metadata": {},
   "source": [
    "<p style=\"text-align:justify;color:blue;font-size:15px;font-family:Roboto\">Optimisation des hyperparamètres</p>"
   ]
  },
  {
   "cell_type": "code",
   "execution_count": 170,
   "id": "13c4bda6-0ed3-497e-a3ae-75979284750d",
   "metadata": {},
   "outputs": [
    {
     "name": "stderr",
     "output_type": "stream",
     "text": [
      "C:\\Users\\DELL\\anaconda3\\lib\\site-packages\\sklearn\\tree\\_classes.py:277: FutureWarning: `max_features='auto'` has been deprecated in 1.1 and will be removed in 1.3. To keep the past behaviour, explicitly set `max_features=1.0'`.\n",
      "  warnings.warn(\n",
      "C:\\Users\\DELL\\anaconda3\\lib\\site-packages\\sklearn\\tree\\_classes.py:277: FutureWarning: `max_features='auto'` has been deprecated in 1.1 and will be removed in 1.3. To keep the past behaviour, explicitly set `max_features=1.0'`.\n",
      "  warnings.warn(\n",
      "C:\\Users\\DELL\\anaconda3\\lib\\site-packages\\sklearn\\tree\\_classes.py:277: FutureWarning: `max_features='auto'` has been deprecated in 1.1 and will be removed in 1.3. To keep the past behaviour, explicitly set `max_features=1.0'`.\n",
      "  warnings.warn(\n",
      "C:\\Users\\DELL\\anaconda3\\lib\\site-packages\\sklearn\\tree\\_classes.py:277: FutureWarning: `max_features='auto'` has been deprecated in 1.1 and will be removed in 1.3. To keep the past behaviour, explicitly set `max_features=1.0'`.\n",
      "  warnings.warn(\n",
      "C:\\Users\\DELL\\anaconda3\\lib\\site-packages\\sklearn\\tree\\_classes.py:277: FutureWarning: `max_features='auto'` has been deprecated in 1.1 and will be removed in 1.3. To keep the past behaviour, explicitly set `max_features=1.0'`.\n",
      "  warnings.warn(\n",
      "C:\\Users\\DELL\\anaconda3\\lib\\site-packages\\sklearn\\tree\\_classes.py:277: FutureWarning: `max_features='auto'` has been deprecated in 1.1 and will be removed in 1.3. To keep the past behaviour, explicitly set `max_features=1.0'`.\n",
      "  warnings.warn(\n",
      "C:\\Users\\DELL\\anaconda3\\lib\\site-packages\\sklearn\\tree\\_classes.py:277: FutureWarning: `max_features='auto'` has been deprecated in 1.1 and will be removed in 1.3. To keep the past behaviour, explicitly set `max_features=1.0'`.\n",
      "  warnings.warn(\n",
      "C:\\Users\\DELL\\anaconda3\\lib\\site-packages\\sklearn\\tree\\_classes.py:277: FutureWarning: `max_features='auto'` has been deprecated in 1.1 and will be removed in 1.3. To keep the past behaviour, explicitly set `max_features=1.0'`.\n",
      "  warnings.warn(\n",
      "C:\\Users\\DELL\\anaconda3\\lib\\site-packages\\sklearn\\tree\\_classes.py:277: FutureWarning: `max_features='auto'` has been deprecated in 1.1 and will be removed in 1.3. To keep the past behaviour, explicitly set `max_features=1.0'`.\n",
      "  warnings.warn(\n",
      "C:\\Users\\DELL\\anaconda3\\lib\\site-packages\\sklearn\\tree\\_classes.py:277: FutureWarning: `max_features='auto'` has been deprecated in 1.1 and will be removed in 1.3. To keep the past behaviour, explicitly set `max_features=1.0'`.\n",
      "  warnings.warn(\n",
      "C:\\Users\\DELL\\anaconda3\\lib\\site-packages\\sklearn\\tree\\_classes.py:277: FutureWarning: `max_features='auto'` has been deprecated in 1.1 and will be removed in 1.3. To keep the past behaviour, explicitly set `max_features=1.0'`.\n",
      "  warnings.warn(\n",
      "C:\\Users\\DELL\\anaconda3\\lib\\site-packages\\sklearn\\tree\\_classes.py:277: FutureWarning: `max_features='auto'` has been deprecated in 1.1 and will be removed in 1.3. To keep the past behaviour, explicitly set `max_features=1.0'`.\n",
      "  warnings.warn(\n",
      "C:\\Users\\DELL\\anaconda3\\lib\\site-packages\\sklearn\\tree\\_classes.py:277: FutureWarning: `max_features='auto'` has been deprecated in 1.1 and will be removed in 1.3. To keep the past behaviour, explicitly set `max_features=1.0'`.\n",
      "  warnings.warn(\n",
      "C:\\Users\\DELL\\anaconda3\\lib\\site-packages\\sklearn\\tree\\_classes.py:277: FutureWarning: `max_features='auto'` has been deprecated in 1.1 and will be removed in 1.3. To keep the past behaviour, explicitly set `max_features=1.0'`.\n",
      "  warnings.warn(\n",
      "C:\\Users\\DELL\\anaconda3\\lib\\site-packages\\sklearn\\tree\\_classes.py:277: FutureWarning: `max_features='auto'` has been deprecated in 1.1 and will be removed in 1.3. To keep the past behaviour, explicitly set `max_features=1.0'`.\n",
      "  warnings.warn(\n",
      "C:\\Users\\DELL\\anaconda3\\lib\\site-packages\\sklearn\\tree\\_classes.py:277: FutureWarning: `max_features='auto'` has been deprecated in 1.1 and will be removed in 1.3. To keep the past behaviour, explicitly set `max_features=1.0'`.\n",
      "  warnings.warn(\n",
      "C:\\Users\\DELL\\anaconda3\\lib\\site-packages\\sklearn\\tree\\_classes.py:277: FutureWarning: `max_features='auto'` has been deprecated in 1.1 and will be removed in 1.3. To keep the past behaviour, explicitly set `max_features=1.0'`.\n",
      "  warnings.warn(\n",
      "C:\\Users\\DELL\\anaconda3\\lib\\site-packages\\sklearn\\tree\\_classes.py:277: FutureWarning: `max_features='auto'` has been deprecated in 1.1 and will be removed in 1.3. To keep the past behaviour, explicitly set `max_features=1.0'`.\n",
      "  warnings.warn(\n",
      "C:\\Users\\DELL\\anaconda3\\lib\\site-packages\\sklearn\\tree\\_classes.py:277: FutureWarning: `max_features='auto'` has been deprecated in 1.1 and will be removed in 1.3. To keep the past behaviour, explicitly set `max_features=1.0'`.\n",
      "  warnings.warn(\n",
      "C:\\Users\\DELL\\anaconda3\\lib\\site-packages\\sklearn\\tree\\_classes.py:277: FutureWarning: `max_features='auto'` has been deprecated in 1.1 and will be removed in 1.3. To keep the past behaviour, explicitly set `max_features=1.0'`.\n",
      "  warnings.warn(\n",
      "C:\\Users\\DELL\\anaconda3\\lib\\site-packages\\sklearn\\tree\\_classes.py:277: FutureWarning: `max_features='auto'` has been deprecated in 1.1 and will be removed in 1.3. To keep the past behaviour, explicitly set `max_features=1.0'`.\n",
      "  warnings.warn(\n",
      "C:\\Users\\DELL\\anaconda3\\lib\\site-packages\\sklearn\\tree\\_classes.py:277: FutureWarning: `max_features='auto'` has been deprecated in 1.1 and will be removed in 1.3. To keep the past behaviour, explicitly set `max_features=1.0'`.\n",
      "  warnings.warn(\n",
      "C:\\Users\\DELL\\anaconda3\\lib\\site-packages\\sklearn\\tree\\_classes.py:277: FutureWarning: `max_features='auto'` has been deprecated in 1.1 and will be removed in 1.3. To keep the past behaviour, explicitly set `max_features=1.0'`.\n",
      "  warnings.warn(\n",
      "C:\\Users\\DELL\\anaconda3\\lib\\site-packages\\sklearn\\tree\\_classes.py:277: FutureWarning: `max_features='auto'` has been deprecated in 1.1 and will be removed in 1.3. To keep the past behaviour, explicitly set `max_features=1.0'`.\n",
      "  warnings.warn(\n",
      "C:\\Users\\DELL\\anaconda3\\lib\\site-packages\\sklearn\\tree\\_classes.py:277: FutureWarning: `max_features='auto'` has been deprecated in 1.1 and will be removed in 1.3. To keep the past behaviour, explicitly set `max_features=1.0'`.\n",
      "  warnings.warn(\n",
      "C:\\Users\\DELL\\anaconda3\\lib\\site-packages\\sklearn\\tree\\_classes.py:277: FutureWarning: `max_features='auto'` has been deprecated in 1.1 and will be removed in 1.3. To keep the past behaviour, explicitly set `max_features=1.0'`.\n",
      "  warnings.warn(\n",
      "C:\\Users\\DELL\\anaconda3\\lib\\site-packages\\sklearn\\tree\\_classes.py:277: FutureWarning: `max_features='auto'` has been deprecated in 1.1 and will be removed in 1.3. To keep the past behaviour, explicitly set `max_features=1.0'`.\n",
      "  warnings.warn(\n",
      "C:\\Users\\DELL\\anaconda3\\lib\\site-packages\\sklearn\\tree\\_classes.py:277: FutureWarning: `max_features='auto'` has been deprecated in 1.1 and will be removed in 1.3. To keep the past behaviour, explicitly set `max_features=1.0'`.\n",
      "  warnings.warn(\n",
      "C:\\Users\\DELL\\anaconda3\\lib\\site-packages\\sklearn\\tree\\_classes.py:277: FutureWarning: `max_features='auto'` has been deprecated in 1.1 and will be removed in 1.3. To keep the past behaviour, explicitly set `max_features=1.0'`.\n",
      "  warnings.warn(\n",
      "C:\\Users\\DELL\\anaconda3\\lib\\site-packages\\sklearn\\tree\\_classes.py:277: FutureWarning: `max_features='auto'` has been deprecated in 1.1 and will be removed in 1.3. To keep the past behaviour, explicitly set `max_features=1.0'`.\n",
      "  warnings.warn(\n",
      "C:\\Users\\DELL\\anaconda3\\lib\\site-packages\\sklearn\\tree\\_classes.py:277: FutureWarning: `max_features='auto'` has been deprecated in 1.1 and will be removed in 1.3. To keep the past behaviour, explicitly set `max_features=1.0'`.\n",
      "  warnings.warn(\n",
      "C:\\Users\\DELL\\anaconda3\\lib\\site-packages\\sklearn\\tree\\_classes.py:277: FutureWarning: `max_features='auto'` has been deprecated in 1.1 and will be removed in 1.3. To keep the past behaviour, explicitly set `max_features=1.0'`.\n",
      "  warnings.warn(\n",
      "C:\\Users\\DELL\\anaconda3\\lib\\site-packages\\sklearn\\tree\\_classes.py:277: FutureWarning: `max_features='auto'` has been deprecated in 1.1 and will be removed in 1.3. To keep the past behaviour, explicitly set `max_features=1.0'`.\n",
      "  warnings.warn(\n",
      "C:\\Users\\DELL\\anaconda3\\lib\\site-packages\\sklearn\\tree\\_classes.py:277: FutureWarning: `max_features='auto'` has been deprecated in 1.1 and will be removed in 1.3. To keep the past behaviour, explicitly set `max_features=1.0'`.\n",
      "  warnings.warn(\n",
      "C:\\Users\\DELL\\anaconda3\\lib\\site-packages\\sklearn\\tree\\_classes.py:277: FutureWarning: `max_features='auto'` has been deprecated in 1.1 and will be removed in 1.3. To keep the past behaviour, explicitly set `max_features=1.0'`.\n",
      "  warnings.warn(\n",
      "C:\\Users\\DELL\\anaconda3\\lib\\site-packages\\sklearn\\tree\\_classes.py:277: FutureWarning: `max_features='auto'` has been deprecated in 1.1 and will be removed in 1.3. To keep the past behaviour, explicitly set `max_features=1.0'`.\n",
      "  warnings.warn(\n",
      "C:\\Users\\DELL\\anaconda3\\lib\\site-packages\\sklearn\\tree\\_classes.py:277: FutureWarning: `max_features='auto'` has been deprecated in 1.1 and will be removed in 1.3. To keep the past behaviour, explicitly set `max_features=1.0'`.\n",
      "  warnings.warn(\n",
      "C:\\Users\\DELL\\anaconda3\\lib\\site-packages\\sklearn\\tree\\_classes.py:277: FutureWarning: `max_features='auto'` has been deprecated in 1.1 and will be removed in 1.3. To keep the past behaviour, explicitly set `max_features=1.0'`.\n",
      "  warnings.warn(\n",
      "C:\\Users\\DELL\\anaconda3\\lib\\site-packages\\sklearn\\tree\\_classes.py:277: FutureWarning: `max_features='auto'` has been deprecated in 1.1 and will be removed in 1.3. To keep the past behaviour, explicitly set `max_features=1.0'`.\n",
      "  warnings.warn(\n",
      "C:\\Users\\DELL\\anaconda3\\lib\\site-packages\\sklearn\\tree\\_classes.py:277: FutureWarning: `max_features='auto'` has been deprecated in 1.1 and will be removed in 1.3. To keep the past behaviour, explicitly set `max_features=1.0'`.\n",
      "  warnings.warn(\n",
      "C:\\Users\\DELL\\anaconda3\\lib\\site-packages\\sklearn\\tree\\_classes.py:277: FutureWarning: `max_features='auto'` has been deprecated in 1.1 and will be removed in 1.3. To keep the past behaviour, explicitly set `max_features=1.0'`.\n",
      "  warnings.warn(\n",
      "C:\\Users\\DELL\\anaconda3\\lib\\site-packages\\sklearn\\tree\\_classes.py:277: FutureWarning: `max_features='auto'` has been deprecated in 1.1 and will be removed in 1.3. To keep the past behaviour, explicitly set `max_features=1.0'`.\n",
      "  warnings.warn(\n",
      "C:\\Users\\DELL\\anaconda3\\lib\\site-packages\\sklearn\\tree\\_classes.py:277: FutureWarning: `max_features='auto'` has been deprecated in 1.1 and will be removed in 1.3. To keep the past behaviour, explicitly set `max_features=1.0'`.\n",
      "  warnings.warn(\n",
      "C:\\Users\\DELL\\anaconda3\\lib\\site-packages\\sklearn\\tree\\_classes.py:277: FutureWarning: `max_features='auto'` has been deprecated in 1.1 and will be removed in 1.3. To keep the past behaviour, explicitly set `max_features=1.0'`.\n",
      "  warnings.warn(\n",
      "C:\\Users\\DELL\\anaconda3\\lib\\site-packages\\sklearn\\tree\\_classes.py:277: FutureWarning: `max_features='auto'` has been deprecated in 1.1 and will be removed in 1.3. To keep the past behaviour, explicitly set `max_features=1.0'`.\n",
      "  warnings.warn(\n",
      "C:\\Users\\DELL\\anaconda3\\lib\\site-packages\\sklearn\\tree\\_classes.py:277: FutureWarning: `max_features='auto'` has been deprecated in 1.1 and will be removed in 1.3. To keep the past behaviour, explicitly set `max_features=1.0'`.\n",
      "  warnings.warn(\n",
      "C:\\Users\\DELL\\anaconda3\\lib\\site-packages\\sklearn\\tree\\_classes.py:277: FutureWarning: `max_features='auto'` has been deprecated in 1.1 and will be removed in 1.3. To keep the past behaviour, explicitly set `max_features=1.0'`.\n",
      "  warnings.warn(\n",
      "C:\\Users\\DELL\\anaconda3\\lib\\site-packages\\sklearn\\tree\\_classes.py:277: FutureWarning: `max_features='auto'` has been deprecated in 1.1 and will be removed in 1.3. To keep the past behaviour, explicitly set `max_features=1.0'`.\n",
      "  warnings.warn(\n",
      "C:\\Users\\DELL\\anaconda3\\lib\\site-packages\\sklearn\\tree\\_classes.py:277: FutureWarning: `max_features='auto'` has been deprecated in 1.1 and will be removed in 1.3. To keep the past behaviour, explicitly set `max_features=1.0'`.\n",
      "  warnings.warn(\n",
      "C:\\Users\\DELL\\anaconda3\\lib\\site-packages\\sklearn\\tree\\_classes.py:277: FutureWarning: `max_features='auto'` has been deprecated in 1.1 and will be removed in 1.3. To keep the past behaviour, explicitly set `max_features=1.0'`.\n",
      "  warnings.warn(\n",
      "C:\\Users\\DELL\\anaconda3\\lib\\site-packages\\sklearn\\tree\\_classes.py:277: FutureWarning: `max_features='auto'` has been deprecated in 1.1 and will be removed in 1.3. To keep the past behaviour, explicitly set `max_features=1.0'`.\n",
      "  warnings.warn(\n",
      "C:\\Users\\DELL\\anaconda3\\lib\\site-packages\\sklearn\\tree\\_classes.py:277: FutureWarning: `max_features='auto'` has been deprecated in 1.1 and will be removed in 1.3. To keep the past behaviour, explicitly set `max_features=1.0'`.\n",
      "  warnings.warn(\n",
      "C:\\Users\\DELL\\anaconda3\\lib\\site-packages\\sklearn\\tree\\_classes.py:277: FutureWarning: `max_features='auto'` has been deprecated in 1.1 and will be removed in 1.3. To keep the past behaviour, explicitly set `max_features=1.0'`.\n",
      "  warnings.warn(\n",
      "C:\\Users\\DELL\\anaconda3\\lib\\site-packages\\sklearn\\tree\\_classes.py:277: FutureWarning: `max_features='auto'` has been deprecated in 1.1 and will be removed in 1.3. To keep the past behaviour, explicitly set `max_features=1.0'`.\n",
      "  warnings.warn(\n",
      "C:\\Users\\DELL\\anaconda3\\lib\\site-packages\\sklearn\\tree\\_classes.py:277: FutureWarning: `max_features='auto'` has been deprecated in 1.1 and will be removed in 1.3. To keep the past behaviour, explicitly set `max_features=1.0'`.\n",
      "  warnings.warn(\n",
      "C:\\Users\\DELL\\anaconda3\\lib\\site-packages\\sklearn\\tree\\_classes.py:277: FutureWarning: `max_features='auto'` has been deprecated in 1.1 and will be removed in 1.3. To keep the past behaviour, explicitly set `max_features=1.0'`.\n",
      "  warnings.warn(\n",
      "C:\\Users\\DELL\\anaconda3\\lib\\site-packages\\sklearn\\tree\\_classes.py:277: FutureWarning: `max_features='auto'` has been deprecated in 1.1 and will be removed in 1.3. To keep the past behaviour, explicitly set `max_features=1.0'`.\n",
      "  warnings.warn(\n",
      "C:\\Users\\DELL\\anaconda3\\lib\\site-packages\\sklearn\\tree\\_classes.py:277: FutureWarning: `max_features='auto'` has been deprecated in 1.1 and will be removed in 1.3. To keep the past behaviour, explicitly set `max_features=1.0'`.\n",
      "  warnings.warn(\n",
      "C:\\Users\\DELL\\anaconda3\\lib\\site-packages\\sklearn\\tree\\_classes.py:277: FutureWarning: `max_features='auto'` has been deprecated in 1.1 and will be removed in 1.3. To keep the past behaviour, explicitly set `max_features=1.0'`.\n",
      "  warnings.warn(\n",
      "C:\\Users\\DELL\\anaconda3\\lib\\site-packages\\sklearn\\tree\\_classes.py:277: FutureWarning: `max_features='auto'` has been deprecated in 1.1 and will be removed in 1.3. To keep the past behaviour, explicitly set `max_features=1.0'`.\n",
      "  warnings.warn(\n",
      "C:\\Users\\DELL\\anaconda3\\lib\\site-packages\\sklearn\\tree\\_classes.py:277: FutureWarning: `max_features='auto'` has been deprecated in 1.1 and will be removed in 1.3. To keep the past behaviour, explicitly set `max_features=1.0'`.\n",
      "  warnings.warn(\n",
      "C:\\Users\\DELL\\anaconda3\\lib\\site-packages\\sklearn\\tree\\_classes.py:277: FutureWarning: `max_features='auto'` has been deprecated in 1.1 and will be removed in 1.3. To keep the past behaviour, explicitly set `max_features=1.0'`.\n",
      "  warnings.warn(\n",
      "C:\\Users\\DELL\\anaconda3\\lib\\site-packages\\sklearn\\tree\\_classes.py:277: FutureWarning: `max_features='auto'` has been deprecated in 1.1 and will be removed in 1.3. To keep the past behaviour, explicitly set `max_features=1.0'`.\n",
      "  warnings.warn(\n",
      "C:\\Users\\DELL\\anaconda3\\lib\\site-packages\\sklearn\\tree\\_classes.py:277: FutureWarning: `max_features='auto'` has been deprecated in 1.1 and will be removed in 1.3. To keep the past behaviour, explicitly set `max_features=1.0'`.\n",
      "  warnings.warn(\n",
      "C:\\Users\\DELL\\anaconda3\\lib\\site-packages\\sklearn\\tree\\_classes.py:277: FutureWarning: `max_features='auto'` has been deprecated in 1.1 and will be removed in 1.3. To keep the past behaviour, explicitly set `max_features=1.0'`.\n",
      "  warnings.warn(\n",
      "C:\\Users\\DELL\\anaconda3\\lib\\site-packages\\sklearn\\tree\\_classes.py:277: FutureWarning: `max_features='auto'` has been deprecated in 1.1 and will be removed in 1.3. To keep the past behaviour, explicitly set `max_features=1.0'`.\n",
      "  warnings.warn(\n",
      "C:\\Users\\DELL\\anaconda3\\lib\\site-packages\\sklearn\\tree\\_classes.py:277: FutureWarning: `max_features='auto'` has been deprecated in 1.1 and will be removed in 1.3. To keep the past behaviour, explicitly set `max_features=1.0'`.\n",
      "  warnings.warn(\n",
      "C:\\Users\\DELL\\anaconda3\\lib\\site-packages\\sklearn\\tree\\_classes.py:277: FutureWarning: `max_features='auto'` has been deprecated in 1.1 and will be removed in 1.3. To keep the past behaviour, explicitly set `max_features=1.0'`.\n",
      "  warnings.warn(\n",
      "C:\\Users\\DELL\\anaconda3\\lib\\site-packages\\sklearn\\tree\\_classes.py:277: FutureWarning: `max_features='auto'` has been deprecated in 1.1 and will be removed in 1.3. To keep the past behaviour, explicitly set `max_features=1.0'`.\n",
      "  warnings.warn(\n",
      "C:\\Users\\DELL\\anaconda3\\lib\\site-packages\\sklearn\\tree\\_classes.py:277: FutureWarning: `max_features='auto'` has been deprecated in 1.1 and will be removed in 1.3. To keep the past behaviour, explicitly set `max_features=1.0'`.\n",
      "  warnings.warn(\n",
      "C:\\Users\\DELL\\anaconda3\\lib\\site-packages\\sklearn\\tree\\_classes.py:277: FutureWarning: `max_features='auto'` has been deprecated in 1.1 and will be removed in 1.3. To keep the past behaviour, explicitly set `max_features=1.0'`.\n",
      "  warnings.warn(\n",
      "C:\\Users\\DELL\\anaconda3\\lib\\site-packages\\sklearn\\tree\\_classes.py:277: FutureWarning: `max_features='auto'` has been deprecated in 1.1 and will be removed in 1.3. To keep the past behaviour, explicitly set `max_features=1.0'`.\n",
      "  warnings.warn(\n",
      "C:\\Users\\DELL\\anaconda3\\lib\\site-packages\\sklearn\\tree\\_classes.py:277: FutureWarning: `max_features='auto'` has been deprecated in 1.1 and will be removed in 1.3. To keep the past behaviour, explicitly set `max_features=1.0'`.\n",
      "  warnings.warn(\n",
      "C:\\Users\\DELL\\anaconda3\\lib\\site-packages\\sklearn\\tree\\_classes.py:277: FutureWarning: `max_features='auto'` has been deprecated in 1.1 and will be removed in 1.3. To keep the past behaviour, explicitly set `max_features=1.0'`.\n",
      "  warnings.warn(\n",
      "C:\\Users\\DELL\\anaconda3\\lib\\site-packages\\sklearn\\tree\\_classes.py:277: FutureWarning: `max_features='auto'` has been deprecated in 1.1 and will be removed in 1.3. To keep the past behaviour, explicitly set `max_features=1.0'`.\n",
      "  warnings.warn(\n",
      "C:\\Users\\DELL\\anaconda3\\lib\\site-packages\\sklearn\\tree\\_classes.py:277: FutureWarning: `max_features='auto'` has been deprecated in 1.1 and will be removed in 1.3. To keep the past behaviour, explicitly set `max_features=1.0'`.\n",
      "  warnings.warn(\n",
      "C:\\Users\\DELL\\anaconda3\\lib\\site-packages\\sklearn\\tree\\_classes.py:277: FutureWarning: `max_features='auto'` has been deprecated in 1.1 and will be removed in 1.3. To keep the past behaviour, explicitly set `max_features=1.0'`.\n",
      "  warnings.warn(\n",
      "C:\\Users\\DELL\\anaconda3\\lib\\site-packages\\sklearn\\tree\\_classes.py:277: FutureWarning: `max_features='auto'` has been deprecated in 1.1 and will be removed in 1.3. To keep the past behaviour, explicitly set `max_features=1.0'`.\n",
      "  warnings.warn(\n",
      "C:\\Users\\DELL\\anaconda3\\lib\\site-packages\\sklearn\\tree\\_classes.py:277: FutureWarning: `max_features='auto'` has been deprecated in 1.1 and will be removed in 1.3. To keep the past behaviour, explicitly set `max_features=1.0'`.\n",
      "  warnings.warn(\n",
      "C:\\Users\\DELL\\anaconda3\\lib\\site-packages\\sklearn\\tree\\_classes.py:277: FutureWarning: `max_features='auto'` has been deprecated in 1.1 and will be removed in 1.3. To keep the past behaviour, explicitly set `max_features=1.0'`.\n",
      "  warnings.warn(\n",
      "C:\\Users\\DELL\\anaconda3\\lib\\site-packages\\sklearn\\tree\\_classes.py:277: FutureWarning: `max_features='auto'` has been deprecated in 1.1 and will be removed in 1.3. To keep the past behaviour, explicitly set `max_features=1.0'`.\n",
      "  warnings.warn(\n",
      "C:\\Users\\DELL\\anaconda3\\lib\\site-packages\\sklearn\\tree\\_classes.py:277: FutureWarning: `max_features='auto'` has been deprecated in 1.1 and will be removed in 1.3. To keep the past behaviour, explicitly set `max_features=1.0'`.\n",
      "  warnings.warn(\n",
      "C:\\Users\\DELL\\anaconda3\\lib\\site-packages\\sklearn\\tree\\_classes.py:277: FutureWarning: `max_features='auto'` has been deprecated in 1.1 and will be removed in 1.3. To keep the past behaviour, explicitly set `max_features=1.0'`.\n",
      "  warnings.warn(\n",
      "C:\\Users\\DELL\\anaconda3\\lib\\site-packages\\sklearn\\tree\\_classes.py:277: FutureWarning: `max_features='auto'` has been deprecated in 1.1 and will be removed in 1.3. To keep the past behaviour, explicitly set `max_features=1.0'`.\n",
      "  warnings.warn(\n",
      "C:\\Users\\DELL\\anaconda3\\lib\\site-packages\\sklearn\\tree\\_classes.py:277: FutureWarning: `max_features='auto'` has been deprecated in 1.1 and will be removed in 1.3. To keep the past behaviour, explicitly set `max_features=1.0'`.\n",
      "  warnings.warn(\n",
      "C:\\Users\\DELL\\anaconda3\\lib\\site-packages\\sklearn\\tree\\_classes.py:277: FutureWarning: `max_features='auto'` has been deprecated in 1.1 and will be removed in 1.3. To keep the past behaviour, explicitly set `max_features=1.0'`.\n",
      "  warnings.warn(\n",
      "C:\\Users\\DELL\\anaconda3\\lib\\site-packages\\sklearn\\tree\\_classes.py:277: FutureWarning: `max_features='auto'` has been deprecated in 1.1 and will be removed in 1.3. To keep the past behaviour, explicitly set `max_features=1.0'`.\n",
      "  warnings.warn(\n",
      "C:\\Users\\DELL\\anaconda3\\lib\\site-packages\\sklearn\\tree\\_classes.py:277: FutureWarning: `max_features='auto'` has been deprecated in 1.1 and will be removed in 1.3. To keep the past behaviour, explicitly set `max_features=1.0'`.\n",
      "  warnings.warn(\n",
      "C:\\Users\\DELL\\anaconda3\\lib\\site-packages\\sklearn\\tree\\_classes.py:277: FutureWarning: `max_features='auto'` has been deprecated in 1.1 and will be removed in 1.3. To keep the past behaviour, explicitly set `max_features=1.0'`.\n",
      "  warnings.warn(\n",
      "C:\\Users\\DELL\\anaconda3\\lib\\site-packages\\sklearn\\tree\\_classes.py:277: FutureWarning: `max_features='auto'` has been deprecated in 1.1 and will be removed in 1.3. To keep the past behaviour, explicitly set `max_features=1.0'`.\n",
      "  warnings.warn(\n",
      "C:\\Users\\DELL\\anaconda3\\lib\\site-packages\\sklearn\\tree\\_classes.py:277: FutureWarning: `max_features='auto'` has been deprecated in 1.1 and will be removed in 1.3. To keep the past behaviour, explicitly set `max_features=1.0'`.\n",
      "  warnings.warn(\n",
      "C:\\Users\\DELL\\anaconda3\\lib\\site-packages\\sklearn\\tree\\_classes.py:277: FutureWarning: `max_features='auto'` has been deprecated in 1.1 and will be removed in 1.3. To keep the past behaviour, explicitly set `max_features=1.0'`.\n",
      "  warnings.warn(\n",
      "C:\\Users\\DELL\\anaconda3\\lib\\site-packages\\sklearn\\tree\\_classes.py:277: FutureWarning: `max_features='auto'` has been deprecated in 1.1 and will be removed in 1.3. To keep the past behaviour, explicitly set `max_features=1.0'`.\n",
      "  warnings.warn(\n",
      "C:\\Users\\DELL\\anaconda3\\lib\\site-packages\\sklearn\\tree\\_classes.py:277: FutureWarning: `max_features='auto'` has been deprecated in 1.1 and will be removed in 1.3. To keep the past behaviour, explicitly set `max_features=1.0'`.\n",
      "  warnings.warn(\n",
      "C:\\Users\\DELL\\anaconda3\\lib\\site-packages\\sklearn\\tree\\_classes.py:277: FutureWarning: `max_features='auto'` has been deprecated in 1.1 and will be removed in 1.3. To keep the past behaviour, explicitly set `max_features=1.0'`.\n",
      "  warnings.warn(\n",
      "C:\\Users\\DELL\\anaconda3\\lib\\site-packages\\sklearn\\tree\\_classes.py:277: FutureWarning: `max_features='auto'` has been deprecated in 1.1 and will be removed in 1.3. To keep the past behaviour, explicitly set `max_features=1.0'`.\n",
      "  warnings.warn(\n",
      "C:\\Users\\DELL\\anaconda3\\lib\\site-packages\\sklearn\\tree\\_classes.py:277: FutureWarning: `max_features='auto'` has been deprecated in 1.1 and will be removed in 1.3. To keep the past behaviour, explicitly set `max_features=1.0'`.\n",
      "  warnings.warn(\n",
      "C:\\Users\\DELL\\anaconda3\\lib\\site-packages\\sklearn\\tree\\_classes.py:277: FutureWarning: `max_features='auto'` has been deprecated in 1.1 and will be removed in 1.3. To keep the past behaviour, explicitly set `max_features=1.0'`.\n",
      "  warnings.warn(\n",
      "C:\\Users\\DELL\\anaconda3\\lib\\site-packages\\sklearn\\tree\\_classes.py:277: FutureWarning: `max_features='auto'` has been deprecated in 1.1 and will be removed in 1.3. To keep the past behaviour, explicitly set `max_features=1.0'`.\n",
      "  warnings.warn(\n",
      "C:\\Users\\DELL\\anaconda3\\lib\\site-packages\\sklearn\\tree\\_classes.py:277: FutureWarning: `max_features='auto'` has been deprecated in 1.1 and will be removed in 1.3. To keep the past behaviour, explicitly set `max_features=1.0'`.\n",
      "  warnings.warn(\n",
      "C:\\Users\\DELL\\anaconda3\\lib\\site-packages\\sklearn\\tree\\_classes.py:277: FutureWarning: `max_features='auto'` has been deprecated in 1.1 and will be removed in 1.3. To keep the past behaviour, explicitly set `max_features=1.0'`.\n",
      "  warnings.warn(\n",
      "C:\\Users\\DELL\\anaconda3\\lib\\site-packages\\sklearn\\tree\\_classes.py:277: FutureWarning: `max_features='auto'` has been deprecated in 1.1 and will be removed in 1.3. To keep the past behaviour, explicitly set `max_features=1.0'`.\n",
      "  warnings.warn(\n",
      "C:\\Users\\DELL\\anaconda3\\lib\\site-packages\\sklearn\\tree\\_classes.py:277: FutureWarning: `max_features='auto'` has been deprecated in 1.1 and will be removed in 1.3. To keep the past behaviour, explicitly set `max_features=1.0'`.\n",
      "  warnings.warn(\n",
      "C:\\Users\\DELL\\anaconda3\\lib\\site-packages\\sklearn\\tree\\_classes.py:277: FutureWarning: `max_features='auto'` has been deprecated in 1.1 and will be removed in 1.3. To keep the past behaviour, explicitly set `max_features=1.0'`.\n",
      "  warnings.warn(\n",
      "C:\\Users\\DELL\\anaconda3\\lib\\site-packages\\sklearn\\tree\\_classes.py:277: FutureWarning: `max_features='auto'` has been deprecated in 1.1 and will be removed in 1.3. To keep the past behaviour, explicitly set `max_features=1.0'`.\n",
      "  warnings.warn(\n",
      "C:\\Users\\DELL\\anaconda3\\lib\\site-packages\\sklearn\\tree\\_classes.py:277: FutureWarning: `max_features='auto'` has been deprecated in 1.1 and will be removed in 1.3. To keep the past behaviour, explicitly set `max_features=1.0'`.\n",
      "  warnings.warn(\n",
      "C:\\Users\\DELL\\anaconda3\\lib\\site-packages\\sklearn\\tree\\_classes.py:277: FutureWarning: `max_features='auto'` has been deprecated in 1.1 and will be removed in 1.3. To keep the past behaviour, explicitly set `max_features=1.0'`.\n",
      "  warnings.warn(\n",
      "C:\\Users\\DELL\\anaconda3\\lib\\site-packages\\sklearn\\tree\\_classes.py:277: FutureWarning: `max_features='auto'` has been deprecated in 1.1 and will be removed in 1.3. To keep the past behaviour, explicitly set `max_features=1.0'`.\n",
      "  warnings.warn(\n",
      "C:\\Users\\DELL\\anaconda3\\lib\\site-packages\\sklearn\\tree\\_classes.py:277: FutureWarning: `max_features='auto'` has been deprecated in 1.1 and will be removed in 1.3. To keep the past behaviour, explicitly set `max_features=1.0'`.\n",
      "  warnings.warn(\n",
      "C:\\Users\\DELL\\anaconda3\\lib\\site-packages\\sklearn\\tree\\_classes.py:277: FutureWarning: `max_features='auto'` has been deprecated in 1.1 and will be removed in 1.3. To keep the past behaviour, explicitly set `max_features=1.0'`.\n",
      "  warnings.warn(\n",
      "C:\\Users\\DELL\\anaconda3\\lib\\site-packages\\sklearn\\tree\\_classes.py:277: FutureWarning: `max_features='auto'` has been deprecated in 1.1 and will be removed in 1.3. To keep the past behaviour, explicitly set `max_features=1.0'`.\n",
      "  warnings.warn(\n",
      "C:\\Users\\DELL\\anaconda3\\lib\\site-packages\\sklearn\\tree\\_classes.py:277: FutureWarning: `max_features='auto'` has been deprecated in 1.1 and will be removed in 1.3. To keep the past behaviour, explicitly set `max_features=1.0'`.\n",
      "  warnings.warn(\n",
      "C:\\Users\\DELL\\anaconda3\\lib\\site-packages\\sklearn\\tree\\_classes.py:277: FutureWarning: `max_features='auto'` has been deprecated in 1.1 and will be removed in 1.3. To keep the past behaviour, explicitly set `max_features=1.0'`.\n",
      "  warnings.warn(\n",
      "C:\\Users\\DELL\\anaconda3\\lib\\site-packages\\sklearn\\tree\\_classes.py:277: FutureWarning: `max_features='auto'` has been deprecated in 1.1 and will be removed in 1.3. To keep the past behaviour, explicitly set `max_features=1.0'`.\n",
      "  warnings.warn(\n",
      "C:\\Users\\DELL\\anaconda3\\lib\\site-packages\\sklearn\\tree\\_classes.py:277: FutureWarning: `max_features='auto'` has been deprecated in 1.1 and will be removed in 1.3. To keep the past behaviour, explicitly set `max_features=1.0'`.\n",
      "  warnings.warn(\n",
      "C:\\Users\\DELL\\anaconda3\\lib\\site-packages\\sklearn\\tree\\_classes.py:277: FutureWarning: `max_features='auto'` has been deprecated in 1.1 and will be removed in 1.3. To keep the past behaviour, explicitly set `max_features=1.0'`.\n",
      "  warnings.warn(\n",
      "C:\\Users\\DELL\\anaconda3\\lib\\site-packages\\sklearn\\tree\\_classes.py:277: FutureWarning: `max_features='auto'` has been deprecated in 1.1 and will be removed in 1.3. To keep the past behaviour, explicitly set `max_features=1.0'`.\n",
      "  warnings.warn(\n",
      "C:\\Users\\DELL\\anaconda3\\lib\\site-packages\\sklearn\\tree\\_classes.py:277: FutureWarning: `max_features='auto'` has been deprecated in 1.1 and will be removed in 1.3. To keep the past behaviour, explicitly set `max_features=1.0'`.\n",
      "  warnings.warn(\n",
      "C:\\Users\\DELL\\anaconda3\\lib\\site-packages\\sklearn\\tree\\_classes.py:277: FutureWarning: `max_features='auto'` has been deprecated in 1.1 and will be removed in 1.3. To keep the past behaviour, explicitly set `max_features=1.0'`.\n",
      "  warnings.warn(\n",
      "C:\\Users\\DELL\\anaconda3\\lib\\site-packages\\sklearn\\tree\\_classes.py:277: FutureWarning: `max_features='auto'` has been deprecated in 1.1 and will be removed in 1.3. To keep the past behaviour, explicitly set `max_features=1.0'`.\n",
      "  warnings.warn(\n",
      "C:\\Users\\DELL\\anaconda3\\lib\\site-packages\\sklearn\\tree\\_classes.py:277: FutureWarning: `max_features='auto'` has been deprecated in 1.1 and will be removed in 1.3. To keep the past behaviour, explicitly set `max_features=1.0'`.\n",
      "  warnings.warn(\n",
      "C:\\Users\\DELL\\anaconda3\\lib\\site-packages\\sklearn\\tree\\_classes.py:277: FutureWarning: `max_features='auto'` has been deprecated in 1.1 and will be removed in 1.3. To keep the past behaviour, explicitly set `max_features=1.0'`.\n",
      "  warnings.warn(\n",
      "C:\\Users\\DELL\\anaconda3\\lib\\site-packages\\sklearn\\tree\\_classes.py:277: FutureWarning: `max_features='auto'` has been deprecated in 1.1 and will be removed in 1.3. To keep the past behaviour, explicitly set `max_features=1.0'`.\n",
      "  warnings.warn(\n",
      "C:\\Users\\DELL\\anaconda3\\lib\\site-packages\\sklearn\\tree\\_classes.py:277: FutureWarning: `max_features='auto'` has been deprecated in 1.1 and will be removed in 1.3. To keep the past behaviour, explicitly set `max_features=1.0'`.\n",
      "  warnings.warn(\n",
      "C:\\Users\\DELL\\anaconda3\\lib\\site-packages\\sklearn\\tree\\_classes.py:277: FutureWarning: `max_features='auto'` has been deprecated in 1.1 and will be removed in 1.3. To keep the past behaviour, explicitly set `max_features=1.0'`.\n",
      "  warnings.warn(\n",
      "C:\\Users\\DELL\\anaconda3\\lib\\site-packages\\sklearn\\tree\\_classes.py:277: FutureWarning: `max_features='auto'` has been deprecated in 1.1 and will be removed in 1.3. To keep the past behaviour, explicitly set `max_features=1.0'`.\n",
      "  warnings.warn(\n",
      "C:\\Users\\DELL\\anaconda3\\lib\\site-packages\\sklearn\\tree\\_classes.py:277: FutureWarning: `max_features='auto'` has been deprecated in 1.1 and will be removed in 1.3. To keep the past behaviour, explicitly set `max_features=1.0'`.\n",
      "  warnings.warn(\n",
      "C:\\Users\\DELL\\anaconda3\\lib\\site-packages\\sklearn\\tree\\_classes.py:277: FutureWarning: `max_features='auto'` has been deprecated in 1.1 and will be removed in 1.3. To keep the past behaviour, explicitly set `max_features=1.0'`.\n",
      "  warnings.warn(\n",
      "C:\\Users\\DELL\\anaconda3\\lib\\site-packages\\sklearn\\tree\\_classes.py:277: FutureWarning: `max_features='auto'` has been deprecated in 1.1 and will be removed in 1.3. To keep the past behaviour, explicitly set `max_features=1.0'`.\n",
      "  warnings.warn(\n",
      "C:\\Users\\DELL\\anaconda3\\lib\\site-packages\\sklearn\\tree\\_classes.py:277: FutureWarning: `max_features='auto'` has been deprecated in 1.1 and will be removed in 1.3. To keep the past behaviour, explicitly set `max_features=1.0'`.\n",
      "  warnings.warn(\n",
      "C:\\Users\\DELL\\anaconda3\\lib\\site-packages\\sklearn\\tree\\_classes.py:277: FutureWarning: `max_features='auto'` has been deprecated in 1.1 and will be removed in 1.3. To keep the past behaviour, explicitly set `max_features=1.0'`.\n",
      "  warnings.warn(\n",
      "C:\\Users\\DELL\\anaconda3\\lib\\site-packages\\sklearn\\tree\\_classes.py:277: FutureWarning: `max_features='auto'` has been deprecated in 1.1 and will be removed in 1.3. To keep the past behaviour, explicitly set `max_features=1.0'`.\n",
      "  warnings.warn(\n",
      "C:\\Users\\DELL\\anaconda3\\lib\\site-packages\\sklearn\\tree\\_classes.py:277: FutureWarning: `max_features='auto'` has been deprecated in 1.1 and will be removed in 1.3. To keep the past behaviour, explicitly set `max_features=1.0'`.\n",
      "  warnings.warn(\n",
      "C:\\Users\\DELL\\anaconda3\\lib\\site-packages\\sklearn\\tree\\_classes.py:277: FutureWarning: `max_features='auto'` has been deprecated in 1.1 and will be removed in 1.3. To keep the past behaviour, explicitly set `max_features=1.0'`.\n",
      "  warnings.warn(\n",
      "C:\\Users\\DELL\\anaconda3\\lib\\site-packages\\sklearn\\tree\\_classes.py:277: FutureWarning: `max_features='auto'` has been deprecated in 1.1 and will be removed in 1.3. To keep the past behaviour, explicitly set `max_features=1.0'`.\n",
      "  warnings.warn(\n",
      "C:\\Users\\DELL\\anaconda3\\lib\\site-packages\\sklearn\\tree\\_classes.py:277: FutureWarning: `max_features='auto'` has been deprecated in 1.1 and will be removed in 1.3. To keep the past behaviour, explicitly set `max_features=1.0'`.\n",
      "  warnings.warn(\n",
      "C:\\Users\\DELL\\anaconda3\\lib\\site-packages\\sklearn\\tree\\_classes.py:277: FutureWarning: `max_features='auto'` has been deprecated in 1.1 and will be removed in 1.3. To keep the past behaviour, explicitly set `max_features=1.0'`.\n",
      "  warnings.warn(\n",
      "C:\\Users\\DELL\\anaconda3\\lib\\site-packages\\sklearn\\tree\\_classes.py:277: FutureWarning: `max_features='auto'` has been deprecated in 1.1 and will be removed in 1.3. To keep the past behaviour, explicitly set `max_features=1.0'`.\n",
      "  warnings.warn(\n",
      "C:\\Users\\DELL\\anaconda3\\lib\\site-packages\\sklearn\\tree\\_classes.py:277: FutureWarning: `max_features='auto'` has been deprecated in 1.1 and will be removed in 1.3. To keep the past behaviour, explicitly set `max_features=1.0'`.\n",
      "  warnings.warn(\n",
      "C:\\Users\\DELL\\anaconda3\\lib\\site-packages\\sklearn\\tree\\_classes.py:277: FutureWarning: `max_features='auto'` has been deprecated in 1.1 and will be removed in 1.3. To keep the past behaviour, explicitly set `max_features=1.0'`.\n",
      "  warnings.warn(\n",
      "C:\\Users\\DELL\\anaconda3\\lib\\site-packages\\sklearn\\tree\\_classes.py:277: FutureWarning: `max_features='auto'` has been deprecated in 1.1 and will be removed in 1.3. To keep the past behaviour, explicitly set `max_features=1.0'`.\n",
      "  warnings.warn(\n",
      "C:\\Users\\DELL\\anaconda3\\lib\\site-packages\\sklearn\\tree\\_classes.py:277: FutureWarning: `max_features='auto'` has been deprecated in 1.1 and will be removed in 1.3. To keep the past behaviour, explicitly set `max_features=1.0'`.\n",
      "  warnings.warn(\n",
      "C:\\Users\\DELL\\anaconda3\\lib\\site-packages\\sklearn\\tree\\_classes.py:277: FutureWarning: `max_features='auto'` has been deprecated in 1.1 and will be removed in 1.3. To keep the past behaviour, explicitly set `max_features=1.0'`.\n",
      "  warnings.warn(\n",
      "C:\\Users\\DELL\\anaconda3\\lib\\site-packages\\sklearn\\tree\\_classes.py:277: FutureWarning: `max_features='auto'` has been deprecated in 1.1 and will be removed in 1.3. To keep the past behaviour, explicitly set `max_features=1.0'`.\n",
      "  warnings.warn(\n",
      "C:\\Users\\DELL\\anaconda3\\lib\\site-packages\\sklearn\\tree\\_classes.py:277: FutureWarning: `max_features='auto'` has been deprecated in 1.1 and will be removed in 1.3. To keep the past behaviour, explicitly set `max_features=1.0'`.\n",
      "  warnings.warn(\n",
      "C:\\Users\\DELL\\anaconda3\\lib\\site-packages\\sklearn\\tree\\_classes.py:277: FutureWarning: `max_features='auto'` has been deprecated in 1.1 and will be removed in 1.3. To keep the past behaviour, explicitly set `max_features=1.0'`.\n",
      "  warnings.warn(\n",
      "C:\\Users\\DELL\\anaconda3\\lib\\site-packages\\sklearn\\tree\\_classes.py:277: FutureWarning: `max_features='auto'` has been deprecated in 1.1 and will be removed in 1.3. To keep the past behaviour, explicitly set `max_features=1.0'`.\n",
      "  warnings.warn(\n",
      "C:\\Users\\DELL\\anaconda3\\lib\\site-packages\\sklearn\\tree\\_classes.py:277: FutureWarning: `max_features='auto'` has been deprecated in 1.1 and will be removed in 1.3. To keep the past behaviour, explicitly set `max_features=1.0'`.\n",
      "  warnings.warn(\n",
      "C:\\Users\\DELL\\anaconda3\\lib\\site-packages\\sklearn\\tree\\_classes.py:277: FutureWarning: `max_features='auto'` has been deprecated in 1.1 and will be removed in 1.3. To keep the past behaviour, explicitly set `max_features=1.0'`.\n",
      "  warnings.warn(\n",
      "C:\\Users\\DELL\\anaconda3\\lib\\site-packages\\sklearn\\tree\\_classes.py:277: FutureWarning: `max_features='auto'` has been deprecated in 1.1 and will be removed in 1.3. To keep the past behaviour, explicitly set `max_features=1.0'`.\n",
      "  warnings.warn(\n",
      "C:\\Users\\DELL\\anaconda3\\lib\\site-packages\\sklearn\\tree\\_classes.py:277: FutureWarning: `max_features='auto'` has been deprecated in 1.1 and will be removed in 1.3. To keep the past behaviour, explicitly set `max_features=1.0'`.\n",
      "  warnings.warn(\n",
      "C:\\Users\\DELL\\anaconda3\\lib\\site-packages\\sklearn\\tree\\_classes.py:277: FutureWarning: `max_features='auto'` has been deprecated in 1.1 and will be removed in 1.3. To keep the past behaviour, explicitly set `max_features=1.0'`.\n",
      "  warnings.warn(\n",
      "C:\\Users\\DELL\\anaconda3\\lib\\site-packages\\sklearn\\tree\\_classes.py:277: FutureWarning: `max_features='auto'` has been deprecated in 1.1 and will be removed in 1.3. To keep the past behaviour, explicitly set `max_features=1.0'`.\n",
      "  warnings.warn(\n",
      "C:\\Users\\DELL\\anaconda3\\lib\\site-packages\\sklearn\\tree\\_classes.py:277: FutureWarning: `max_features='auto'` has been deprecated in 1.1 and will be removed in 1.3. To keep the past behaviour, explicitly set `max_features=1.0'`.\n",
      "  warnings.warn(\n",
      "C:\\Users\\DELL\\anaconda3\\lib\\site-packages\\sklearn\\tree\\_classes.py:277: FutureWarning: `max_features='auto'` has been deprecated in 1.1 and will be removed in 1.3. To keep the past behaviour, explicitly set `max_features=1.0'`.\n",
      "  warnings.warn(\n",
      "C:\\Users\\DELL\\anaconda3\\lib\\site-packages\\sklearn\\tree\\_classes.py:277: FutureWarning: `max_features='auto'` has been deprecated in 1.1 and will be removed in 1.3. To keep the past behaviour, explicitly set `max_features=1.0'`.\n",
      "  warnings.warn(\n",
      "C:\\Users\\DELL\\anaconda3\\lib\\site-packages\\sklearn\\tree\\_classes.py:277: FutureWarning: `max_features='auto'` has been deprecated in 1.1 and will be removed in 1.3. To keep the past behaviour, explicitly set `max_features=1.0'`.\n",
      "  warnings.warn(\n",
      "C:\\Users\\DELL\\anaconda3\\lib\\site-packages\\sklearn\\tree\\_classes.py:277: FutureWarning: `max_features='auto'` has been deprecated in 1.1 and will be removed in 1.3. To keep the past behaviour, explicitly set `max_features=1.0'`.\n",
      "  warnings.warn(\n",
      "C:\\Users\\DELL\\anaconda3\\lib\\site-packages\\sklearn\\tree\\_classes.py:277: FutureWarning: `max_features='auto'` has been deprecated in 1.1 and will be removed in 1.3. To keep the past behaviour, explicitly set `max_features=1.0'`.\n",
      "  warnings.warn(\n",
      "C:\\Users\\DELL\\anaconda3\\lib\\site-packages\\sklearn\\tree\\_classes.py:277: FutureWarning: `max_features='auto'` has been deprecated in 1.1 and will be removed in 1.3. To keep the past behaviour, explicitly set `max_features=1.0'`.\n",
      "  warnings.warn(\n",
      "C:\\Users\\DELL\\anaconda3\\lib\\site-packages\\sklearn\\tree\\_classes.py:277: FutureWarning: `max_features='auto'` has been deprecated in 1.1 and will be removed in 1.3. To keep the past behaviour, explicitly set `max_features=1.0'`.\n",
      "  warnings.warn(\n",
      "C:\\Users\\DELL\\anaconda3\\lib\\site-packages\\sklearn\\tree\\_classes.py:277: FutureWarning: `max_features='auto'` has been deprecated in 1.1 and will be removed in 1.3. To keep the past behaviour, explicitly set `max_features=1.0'`.\n",
      "  warnings.warn(\n",
      "C:\\Users\\DELL\\anaconda3\\lib\\site-packages\\sklearn\\tree\\_classes.py:277: FutureWarning: `max_features='auto'` has been deprecated in 1.1 and will be removed in 1.3. To keep the past behaviour, explicitly set `max_features=1.0'`.\n",
      "  warnings.warn(\n",
      "C:\\Users\\DELL\\anaconda3\\lib\\site-packages\\sklearn\\tree\\_classes.py:277: FutureWarning: `max_features='auto'` has been deprecated in 1.1 and will be removed in 1.3. To keep the past behaviour, explicitly set `max_features=1.0'`.\n",
      "  warnings.warn(\n",
      "C:\\Users\\DELL\\anaconda3\\lib\\site-packages\\sklearn\\tree\\_classes.py:277: FutureWarning: `max_features='auto'` has been deprecated in 1.1 and will be removed in 1.3. To keep the past behaviour, explicitly set `max_features=1.0'`.\n",
      "  warnings.warn(\n",
      "C:\\Users\\DELL\\anaconda3\\lib\\site-packages\\sklearn\\tree\\_classes.py:277: FutureWarning: `max_features='auto'` has been deprecated in 1.1 and will be removed in 1.3. To keep the past behaviour, explicitly set `max_features=1.0'`.\n",
      "  warnings.warn(\n",
      "C:\\Users\\DELL\\anaconda3\\lib\\site-packages\\sklearn\\tree\\_classes.py:277: FutureWarning: `max_features='auto'` has been deprecated in 1.1 and will be removed in 1.3. To keep the past behaviour, explicitly set `max_features=1.0'`.\n",
      "  warnings.warn(\n",
      "C:\\Users\\DELL\\anaconda3\\lib\\site-packages\\sklearn\\tree\\_classes.py:277: FutureWarning: `max_features='auto'` has been deprecated in 1.1 and will be removed in 1.3. To keep the past behaviour, explicitly set `max_features=1.0'`.\n",
      "  warnings.warn(\n",
      "C:\\Users\\DELL\\anaconda3\\lib\\site-packages\\sklearn\\tree\\_classes.py:277: FutureWarning: `max_features='auto'` has been deprecated in 1.1 and will be removed in 1.3. To keep the past behaviour, explicitly set `max_features=1.0'`.\n",
      "  warnings.warn(\n",
      "C:\\Users\\DELL\\anaconda3\\lib\\site-packages\\sklearn\\tree\\_classes.py:277: FutureWarning: `max_features='auto'` has been deprecated in 1.1 and will be removed in 1.3. To keep the past behaviour, explicitly set `max_features=1.0'`.\n",
      "  warnings.warn(\n",
      "C:\\Users\\DELL\\anaconda3\\lib\\site-packages\\sklearn\\tree\\_classes.py:277: FutureWarning: `max_features='auto'` has been deprecated in 1.1 and will be removed in 1.3. To keep the past behaviour, explicitly set `max_features=1.0'`.\n",
      "  warnings.warn(\n",
      "C:\\Users\\DELL\\anaconda3\\lib\\site-packages\\sklearn\\tree\\_classes.py:277: FutureWarning: `max_features='auto'` has been deprecated in 1.1 and will be removed in 1.3. To keep the past behaviour, explicitly set `max_features=1.0'`.\n",
      "  warnings.warn(\n",
      "C:\\Users\\DELL\\anaconda3\\lib\\site-packages\\sklearn\\tree\\_classes.py:277: FutureWarning: `max_features='auto'` has been deprecated in 1.1 and will be removed in 1.3. To keep the past behaviour, explicitly set `max_features=1.0'`.\n",
      "  warnings.warn(\n",
      "C:\\Users\\DELL\\anaconda3\\lib\\site-packages\\sklearn\\tree\\_classes.py:277: FutureWarning: `max_features='auto'` has been deprecated in 1.1 and will be removed in 1.3. To keep the past behaviour, explicitly set `max_features=1.0'`.\n",
      "  warnings.warn(\n",
      "C:\\Users\\DELL\\anaconda3\\lib\\site-packages\\sklearn\\tree\\_classes.py:277: FutureWarning: `max_features='auto'` has been deprecated in 1.1 and will be removed in 1.3. To keep the past behaviour, explicitly set `max_features=1.0'`.\n",
      "  warnings.warn(\n",
      "C:\\Users\\DELL\\anaconda3\\lib\\site-packages\\sklearn\\tree\\_classes.py:277: FutureWarning: `max_features='auto'` has been deprecated in 1.1 and will be removed in 1.3. To keep the past behaviour, explicitly set `max_features=1.0'`.\n",
      "  warnings.warn(\n",
      "C:\\Users\\DELL\\anaconda3\\lib\\site-packages\\sklearn\\tree\\_classes.py:277: FutureWarning: `max_features='auto'` has been deprecated in 1.1 and will be removed in 1.3. To keep the past behaviour, explicitly set `max_features=1.0'`.\n",
      "  warnings.warn(\n",
      "C:\\Users\\DELL\\anaconda3\\lib\\site-packages\\sklearn\\tree\\_classes.py:277: FutureWarning: `max_features='auto'` has been deprecated in 1.1 and will be removed in 1.3. To keep the past behaviour, explicitly set `max_features=1.0'`.\n",
      "  warnings.warn(\n",
      "C:\\Users\\DELL\\anaconda3\\lib\\site-packages\\sklearn\\tree\\_classes.py:277: FutureWarning: `max_features='auto'` has been deprecated in 1.1 and will be removed in 1.3. To keep the past behaviour, explicitly set `max_features=1.0'`.\n",
      "  warnings.warn(\n",
      "C:\\Users\\DELL\\anaconda3\\lib\\site-packages\\sklearn\\tree\\_classes.py:277: FutureWarning: `max_features='auto'` has been deprecated in 1.1 and will be removed in 1.3. To keep the past behaviour, explicitly set `max_features=1.0'`.\n",
      "  warnings.warn(\n"
     ]
    },
    {
     "name": "stdout",
     "output_type": "stream",
     "text": [
      "Meilleurs paramètres: {'regressor__max_depth': 10, 'regressor__max_features': 'auto', 'regressor__min_samples_leaf': 4, 'regressor__min_samples_split': 10}\n"
     ]
    },
    {
     "name": "stderr",
     "output_type": "stream",
     "text": [
      "C:\\Users\\DELL\\anaconda3\\lib\\site-packages\\sklearn\\tree\\_classes.py:277: FutureWarning: `max_features='auto'` has been deprecated in 1.1 and will be removed in 1.3. To keep the past behaviour, explicitly set `max_features=1.0'`.\n",
      "  warnings.warn(\n"
     ]
    }
   ],
   "source": [
    "from sklearn.pipeline import Pipeline\n",
    "from sklearn.model_selection import GridSearchCV\n",
    "from sklearn.tree import DecisionTreeRegressor\n",
    "\n",
    "# Créer un pipeline avec le modèle Decision Tree\n",
    "dt_pipe = Pipeline(steps=[('preprocessor', preprocessor),\n",
    "    (\"regressor\", DecisionTreeRegressor())\n",
    "])\n",
    "\n",
    "# Définir la grille des paramètres à rechercher\n",
    "param_grid = {\n",
    "    'regressor__max_depth': [None, 5, 10, 15],\n",
    "    'regressor__min_samples_split': [2, 5, 10],\n",
    "    'regressor__min_samples_leaf': [1, 2, 4],\n",
    "    'regressor__max_features': ['auto', 'sqrt', 'log2']\n",
    "}\n",
    "\n",
    "# Créer l'objet GridSearchCV\n",
    "grid_search = GridSearchCV(estimator=dt_pipe, param_grid=param_grid, cv=5, scoring='r2')\n",
    "\n",
    "# Exécuter la recherche sur la grille\n",
    "grid_search.fit(X_train, y_train)\n",
    "\n",
    "# Afficher les meilleurs paramètres\n",
    "best_params = grid_search.best_params_\n",
    "print(\"Meilleurs paramètres:\", best_params)"
   ]
  },
  {
   "cell_type": "markdown",
   "id": "4779d5ba-866c-48bc-b342-3e48cbdf692f",
   "metadata": {},
   "source": [
    "<p style=\"text-align:justify;font-family:times;font-size:15px\">Appliquons le meilleur modèle alors à nos données. </p>"
   ]
  },
  {
   "cell_type": "code",
   "execution_count": 171,
   "id": "2b553cf7-75b8-469c-b82a-ad8bdc549d3c",
   "metadata": {},
   "outputs": [
    {
     "name": "stderr",
     "output_type": "stream",
     "text": [
      "C:\\Users\\DELL\\anaconda3\\lib\\site-packages\\sklearn\\tree\\_classes.py:277: FutureWarning: `max_features='auto'` has been deprecated in 1.1 and will be removed in 1.3. To keep the past behaviour, explicitly set `max_features=1.0'`.\n",
      "  warnings.warn(\n"
     ]
    },
    {
     "data": {
      "text/html": [
       "<div>\n",
       "<style scoped>\n",
       "    .dataframe tbody tr th:only-of-type {\n",
       "        vertical-align: middle;\n",
       "    }\n",
       "\n",
       "    .dataframe tbody tr th {\n",
       "        vertical-align: top;\n",
       "    }\n",
       "\n",
       "    .dataframe thead th {\n",
       "        text-align: right;\n",
       "    }\n",
       "</style>\n",
       "<table border=\"1\" class=\"dataframe\">\n",
       "  <thead>\n",
       "    <tr style=\"text-align: right;\">\n",
       "      <th></th>\n",
       "      <th>metric</th>\n",
       "      <th>train</th>\n",
       "      <th>test</th>\n",
       "    </tr>\n",
       "  </thead>\n",
       "  <tbody>\n",
       "    <tr>\n",
       "      <th>0</th>\n",
       "      <td>r2_score</td>\n",
       "      <td>0.944956</td>\n",
       "      <td>0.830987</td>\n",
       "    </tr>\n",
       "    <tr>\n",
       "      <th>1</th>\n",
       "      <td>mean_squared_error</td>\n",
       "      <td>0.084946</td>\n",
       "      <td>0.274684</td>\n",
       "    </tr>\n",
       "    <tr>\n",
       "      <th>2</th>\n",
       "      <td>mean_absolute_percentage_error</td>\n",
       "      <td>0.014095</td>\n",
       "      <td>0.023558</td>\n",
       "    </tr>\n",
       "    <tr>\n",
       "      <th>3</th>\n",
       "      <td>max_error</td>\n",
       "      <td>1.256584</td>\n",
       "      <td>5.053674</td>\n",
       "    </tr>\n",
       "    <tr>\n",
       "      <th>4</th>\n",
       "      <td>mean_absolute_error</td>\n",
       "      <td>0.205668</td>\n",
       "      <td>0.346220</td>\n",
       "    </tr>\n",
       "  </tbody>\n",
       "</table>\n",
       "</div>"
      ],
      "text/plain": [
       "                           metric     train      test\n",
       "0                        r2_score  0.944956  0.830987\n",
       "1              mean_squared_error  0.084946  0.274684\n",
       "2  mean_absolute_percentage_error  0.014095  0.023558\n",
       "3                       max_error  1.256584  5.053674\n",
       "4             mean_absolute_error  0.205668  0.346220"
      ]
     },
     "execution_count": 171,
     "metadata": {},
     "output_type": "execute_result"
    }
   ],
   "source": [
    "dt_best_model = grid_search.best_estimator_\n",
    "dt_best_model.fit(X_train, y_train)\n",
    "\n",
    "# Afficher les performances sur les ensembles d'entraînement et de test\n",
    "get_all_performances(value_train=(y_train, dt_best_model.predict(X_train)),\n",
    "                     values_test=(y_test, dt_best_model.predict(X_test)),\n",
    "                     metrics=METRICS)"
   ]
  },
  {
   "cell_type": "markdown",
   "id": "76ac82f1-6794-4498-934a-73161435dcd7",
   "metadata": {},
   "source": [
    "<p style=\"text-align:justify;font-family:times;font-size:15px\">  Bien que les erreurs aient diminué elles sont moindre sur le jeu d'entrainement que sur le jeu de test. Le risque de surapprentissage persiste. </p>"
   ]
  },
  {
   "cell_type": "markdown",
   "id": "e802274e-3e3f-4e52-898f-83d6f2fa2f7c",
   "metadata": {},
   "source": [
    "<h4 style=\"text-align:justify;color:red;font-size:20px;font-family:Roboto\">4. RandomForest</h4>"
   ]
  },
  {
   "cell_type": "code",
   "execution_count": 172,
   "id": "01dff418-17bd-409d-b855-f123051393a3",
   "metadata": {},
   "outputs": [
    {
     "name": "stderr",
     "output_type": "stream",
     "text": [
      "C:\\Users\\DELL\\anaconda3\\lib\\site-packages\\sklearn\\pipeline.py:405: DataConversionWarning: A column-vector y was passed when a 1d array was expected. Please change the shape of y to (n_samples,), for example using ravel().\n",
      "  self._final_estimator.fit(Xt, y, **fit_params_last_step)\n"
     ]
    },
    {
     "name": "stdout",
     "output_type": "stream",
     "text": [
      "Model error: SiteEnergyUse(kBtu)    0.2194\n",
      "dtype: float64\n"
     ]
    },
    {
     "name": "stderr",
     "output_type": "stream",
     "text": [
      "C:\\Users\\DELL\\anaconda3\\lib\\site-packages\\numpy\\core\\fromnumeric.py:3472: FutureWarning: In a future version, DataFrame.mean(axis=None) will return a scalar mean over the entire DataFrame. To retain the old behavior, use 'frame.mean(axis=0)' or just 'frame.mean()'\n",
      "  return mean(axis=axis, dtype=dtype, out=out, **kwargs)\n",
      "C:\\Users\\DELL\\anaconda3\\lib\\site-packages\\numpy\\core\\fromnumeric.py:3472: FutureWarning: In a future version, DataFrame.mean(axis=None) will return a scalar mean over the entire DataFrame. To retain the old behavior, use 'frame.mean(axis=0)' or just 'frame.mean()'\n",
      "  return mean(axis=axis, dtype=dtype, out=out, **kwargs)\n"
     ]
    },
    {
     "data": {
      "text/html": [
       "<div>\n",
       "<style scoped>\n",
       "    .dataframe tbody tr th:only-of-type {\n",
       "        vertical-align: middle;\n",
       "    }\n",
       "\n",
       "    .dataframe tbody tr th {\n",
       "        vertical-align: top;\n",
       "    }\n",
       "\n",
       "    .dataframe thead th {\n",
       "        text-align: right;\n",
       "    }\n",
       "</style>\n",
       "<table border=\"1\" class=\"dataframe\">\n",
       "  <thead>\n",
       "    <tr style=\"text-align: right;\">\n",
       "      <th></th>\n",
       "      <th>metric</th>\n",
       "      <th>train</th>\n",
       "      <th>test</th>\n",
       "    </tr>\n",
       "  </thead>\n",
       "  <tbody>\n",
       "    <tr>\n",
       "      <th>0</th>\n",
       "      <td>r2_score</td>\n",
       "      <td>0.984590</td>\n",
       "      <td>0.865005</td>\n",
       "    </tr>\n",
       "    <tr>\n",
       "      <th>1</th>\n",
       "      <td>mean_squared_error</td>\n",
       "      <td>0.023782</td>\n",
       "      <td>0.219398</td>\n",
       "    </tr>\n",
       "    <tr>\n",
       "      <th>2</th>\n",
       "      <td>mean_absolute_percentage_error</td>\n",
       "      <td>0.007226</td>\n",
       "      <td>0.020408</td>\n",
       "    </tr>\n",
       "    <tr>\n",
       "      <th>3</th>\n",
       "      <td>max_error</td>\n",
       "      <td>0.697762</td>\n",
       "      <td>5.238787</td>\n",
       "    </tr>\n",
       "    <tr>\n",
       "      <th>4</th>\n",
       "      <td>mean_absolute_error</td>\n",
       "      <td>0.106082</td>\n",
       "      <td>0.299389</td>\n",
       "    </tr>\n",
       "  </tbody>\n",
       "</table>\n",
       "</div>"
      ],
      "text/plain": [
       "                           metric     train      test\n",
       "0                        r2_score  0.984590  0.865005\n",
       "1              mean_squared_error  0.023782  0.219398\n",
       "2  mean_absolute_percentage_error  0.007226  0.020408\n",
       "3                       max_error  0.697762  5.238787\n",
       "4             mean_absolute_error  0.106082  0.299389"
      ]
     },
     "execution_count": 172,
     "metadata": {},
     "output_type": "execute_result"
    }
   ],
   "source": [
    "from sklearn.ensemble import RandomForestRegressor\n",
    "rf_reg = Pipeline(steps=[\n",
    "    ('preprocessor', preprocessor),\n",
    "    (\"regressor\", RandomForestRegressor())\n",
    "])\n",
    "\n",
    "# Entraîner le modèle Random Forest\n",
    "rf_results = train_model(model=rf_reg,\n",
    "                         x_train=X_train, y_train=y_train,\n",
    "                         x_test=X_test, y_test=y_test)\n",
    "\n",
    "# Obtenir l'estimateur du modèle Random Forest\n",
    "rf_estimator = rf_results[\"estimator\"]\n",
    "\n",
    "# Afficher les performances sur les ensembles d'entraînement et de test\n",
    "get_all_performances(value_train=(y_train, rf_estimator.predict(X_train)),\n",
    "                     values_test=(y_test, rf_estimator.predict(X_test)),\n",
    "                     metrics=METRICS)"
   ]
  },
  {
   "cell_type": "markdown",
   "id": "99da6206-f89b-44f5-9f89-7198b7ecbe60",
   "metadata": {},
   "source": [
    "<p style=\"text-align:justify;color:blue;font-size:15px;font-family:Roboto\">Optimisation des hyperparamètres</p>"
   ]
  },
  {
   "cell_type": "code",
   "execution_count": 173,
   "id": "53eef1a9-7800-4c4b-8153-edbe036535f5",
   "metadata": {},
   "outputs": [
    {
     "name": "stderr",
     "output_type": "stream",
     "text": [
      "C:\\Users\\DELL\\anaconda3\\lib\\site-packages\\sklearn\\pipeline.py:405: DataConversionWarning: A column-vector y was passed when a 1d array was expected. Please change the shape of y to (n_samples,), for example using ravel().\n",
      "  self._final_estimator.fit(Xt, y, **fit_params_last_step)\n",
      "C:\\Users\\DELL\\anaconda3\\lib\\site-packages\\sklearn\\pipeline.py:405: DataConversionWarning: A column-vector y was passed when a 1d array was expected. Please change the shape of y to (n_samples,), for example using ravel().\n",
      "  self._final_estimator.fit(Xt, y, **fit_params_last_step)\n",
      "C:\\Users\\DELL\\anaconda3\\lib\\site-packages\\sklearn\\pipeline.py:405: DataConversionWarning: A column-vector y was passed when a 1d array was expected. Please change the shape of y to (n_samples,), for example using ravel().\n",
      "  self._final_estimator.fit(Xt, y, **fit_params_last_step)\n",
      "C:\\Users\\DELL\\anaconda3\\lib\\site-packages\\sklearn\\pipeline.py:405: DataConversionWarning: A column-vector y was passed when a 1d array was expected. Please change the shape of y to (n_samples,), for example using ravel().\n",
      "  self._final_estimator.fit(Xt, y, **fit_params_last_step)\n",
      "C:\\Users\\DELL\\anaconda3\\lib\\site-packages\\sklearn\\pipeline.py:405: DataConversionWarning: A column-vector y was passed when a 1d array was expected. Please change the shape of y to (n_samples,), for example using ravel().\n",
      "  self._final_estimator.fit(Xt, y, **fit_params_last_step)\n",
      "C:\\Users\\DELL\\anaconda3\\lib\\site-packages\\sklearn\\pipeline.py:405: DataConversionWarning: A column-vector y was passed when a 1d array was expected. Please change the shape of y to (n_samples,), for example using ravel().\n",
      "  self._final_estimator.fit(Xt, y, **fit_params_last_step)\n",
      "C:\\Users\\DELL\\anaconda3\\lib\\site-packages\\sklearn\\pipeline.py:405: DataConversionWarning: A column-vector y was passed when a 1d array was expected. Please change the shape of y to (n_samples,), for example using ravel().\n",
      "  self._final_estimator.fit(Xt, y, **fit_params_last_step)\n",
      "C:\\Users\\DELL\\anaconda3\\lib\\site-packages\\sklearn\\pipeline.py:405: DataConversionWarning: A column-vector y was passed when a 1d array was expected. Please change the shape of y to (n_samples,), for example using ravel().\n",
      "  self._final_estimator.fit(Xt, y, **fit_params_last_step)\n",
      "C:\\Users\\DELL\\anaconda3\\lib\\site-packages\\sklearn\\pipeline.py:405: DataConversionWarning: A column-vector y was passed when a 1d array was expected. Please change the shape of y to (n_samples,), for example using ravel().\n",
      "  self._final_estimator.fit(Xt, y, **fit_params_last_step)\n",
      "C:\\Users\\DELL\\anaconda3\\lib\\site-packages\\sklearn\\pipeline.py:405: DataConversionWarning: A column-vector y was passed when a 1d array was expected. Please change the shape of y to (n_samples,), for example using ravel().\n",
      "  self._final_estimator.fit(Xt, y, **fit_params_last_step)\n",
      "C:\\Users\\DELL\\anaconda3\\lib\\site-packages\\sklearn\\pipeline.py:405: DataConversionWarning: A column-vector y was passed when a 1d array was expected. Please change the shape of y to (n_samples,), for example using ravel().\n",
      "  self._final_estimator.fit(Xt, y, **fit_params_last_step)\n",
      "C:\\Users\\DELL\\anaconda3\\lib\\site-packages\\sklearn\\pipeline.py:405: DataConversionWarning: A column-vector y was passed when a 1d array was expected. Please change the shape of y to (n_samples,), for example using ravel().\n",
      "  self._final_estimator.fit(Xt, y, **fit_params_last_step)\n",
      "C:\\Users\\DELL\\anaconda3\\lib\\site-packages\\sklearn\\pipeline.py:405: DataConversionWarning: A column-vector y was passed when a 1d array was expected. Please change the shape of y to (n_samples,), for example using ravel().\n",
      "  self._final_estimator.fit(Xt, y, **fit_params_last_step)\n",
      "C:\\Users\\DELL\\anaconda3\\lib\\site-packages\\sklearn\\pipeline.py:405: DataConversionWarning: A column-vector y was passed when a 1d array was expected. Please change the shape of y to (n_samples,), for example using ravel().\n",
      "  self._final_estimator.fit(Xt, y, **fit_params_last_step)\n",
      "C:\\Users\\DELL\\anaconda3\\lib\\site-packages\\sklearn\\pipeline.py:405: DataConversionWarning: A column-vector y was passed when a 1d array was expected. Please change the shape of y to (n_samples,), for example using ravel().\n",
      "  self._final_estimator.fit(Xt, y, **fit_params_last_step)\n",
      "C:\\Users\\DELL\\anaconda3\\lib\\site-packages\\sklearn\\pipeline.py:405: DataConversionWarning: A column-vector y was passed when a 1d array was expected. Please change the shape of y to (n_samples,), for example using ravel().\n",
      "  self._final_estimator.fit(Xt, y, **fit_params_last_step)\n",
      "C:\\Users\\DELL\\anaconda3\\lib\\site-packages\\sklearn\\pipeline.py:405: DataConversionWarning: A column-vector y was passed when a 1d array was expected. Please change the shape of y to (n_samples,), for example using ravel().\n",
      "  self._final_estimator.fit(Xt, y, **fit_params_last_step)\n",
      "C:\\Users\\DELL\\anaconda3\\lib\\site-packages\\sklearn\\pipeline.py:405: DataConversionWarning: A column-vector y was passed when a 1d array was expected. Please change the shape of y to (n_samples,), for example using ravel().\n",
      "  self._final_estimator.fit(Xt, y, **fit_params_last_step)\n",
      "C:\\Users\\DELL\\anaconda3\\lib\\site-packages\\sklearn\\pipeline.py:405: DataConversionWarning: A column-vector y was passed when a 1d array was expected. Please change the shape of y to (n_samples,), for example using ravel().\n",
      "  self._final_estimator.fit(Xt, y, **fit_params_last_step)\n",
      "C:\\Users\\DELL\\anaconda3\\lib\\site-packages\\sklearn\\pipeline.py:405: DataConversionWarning: A column-vector y was passed when a 1d array was expected. Please change the shape of y to (n_samples,), for example using ravel().\n",
      "  self._final_estimator.fit(Xt, y, **fit_params_last_step)\n",
      "C:\\Users\\DELL\\anaconda3\\lib\\site-packages\\sklearn\\pipeline.py:405: DataConversionWarning: A column-vector y was passed when a 1d array was expected. Please change the shape of y to (n_samples,), for example using ravel().\n",
      "  self._final_estimator.fit(Xt, y, **fit_params_last_step)\n",
      "C:\\Users\\DELL\\anaconda3\\lib\\site-packages\\sklearn\\pipeline.py:405: DataConversionWarning: A column-vector y was passed when a 1d array was expected. Please change the shape of y to (n_samples,), for example using ravel().\n",
      "  self._final_estimator.fit(Xt, y, **fit_params_last_step)\n",
      "C:\\Users\\DELL\\anaconda3\\lib\\site-packages\\sklearn\\pipeline.py:405: DataConversionWarning: A column-vector y was passed when a 1d array was expected. Please change the shape of y to (n_samples,), for example using ravel().\n",
      "  self._final_estimator.fit(Xt, y, **fit_params_last_step)\n",
      "C:\\Users\\DELL\\anaconda3\\lib\\site-packages\\sklearn\\pipeline.py:405: DataConversionWarning: A column-vector y was passed when a 1d array was expected. Please change the shape of y to (n_samples,), for example using ravel().\n",
      "  self._final_estimator.fit(Xt, y, **fit_params_last_step)\n",
      "C:\\Users\\DELL\\anaconda3\\lib\\site-packages\\sklearn\\pipeline.py:405: DataConversionWarning: A column-vector y was passed when a 1d array was expected. Please change the shape of y to (n_samples,), for example using ravel().\n",
      "  self._final_estimator.fit(Xt, y, **fit_params_last_step)\n",
      "C:\\Users\\DELL\\anaconda3\\lib\\site-packages\\sklearn\\pipeline.py:405: DataConversionWarning: A column-vector y was passed when a 1d array was expected. Please change the shape of y to (n_samples,), for example using ravel().\n",
      "  self._final_estimator.fit(Xt, y, **fit_params_last_step)\n",
      "C:\\Users\\DELL\\anaconda3\\lib\\site-packages\\sklearn\\pipeline.py:405: DataConversionWarning: A column-vector y was passed when a 1d array was expected. Please change the shape of y to (n_samples,), for example using ravel().\n",
      "  self._final_estimator.fit(Xt, y, **fit_params_last_step)\n",
      "C:\\Users\\DELL\\anaconda3\\lib\\site-packages\\sklearn\\pipeline.py:405: DataConversionWarning: A column-vector y was passed when a 1d array was expected. Please change the shape of y to (n_samples,), for example using ravel().\n",
      "  self._final_estimator.fit(Xt, y, **fit_params_last_step)\n",
      "C:\\Users\\DELL\\anaconda3\\lib\\site-packages\\sklearn\\pipeline.py:405: DataConversionWarning: A column-vector y was passed when a 1d array was expected. Please change the shape of y to (n_samples,), for example using ravel().\n",
      "  self._final_estimator.fit(Xt, y, **fit_params_last_step)\n",
      "C:\\Users\\DELL\\anaconda3\\lib\\site-packages\\sklearn\\pipeline.py:405: DataConversionWarning: A column-vector y was passed when a 1d array was expected. Please change the shape of y to (n_samples,), for example using ravel().\n",
      "  self._final_estimator.fit(Xt, y, **fit_params_last_step)\n",
      "C:\\Users\\DELL\\anaconda3\\lib\\site-packages\\sklearn\\pipeline.py:405: DataConversionWarning: A column-vector y was passed when a 1d array was expected. Please change the shape of y to (n_samples,), for example using ravel().\n",
      "  self._final_estimator.fit(Xt, y, **fit_params_last_step)\n",
      "C:\\Users\\DELL\\anaconda3\\lib\\site-packages\\sklearn\\pipeline.py:405: DataConversionWarning: A column-vector y was passed when a 1d array was expected. Please change the shape of y to (n_samples,), for example using ravel().\n",
      "  self._final_estimator.fit(Xt, y, **fit_params_last_step)\n",
      "C:\\Users\\DELL\\anaconda3\\lib\\site-packages\\sklearn\\pipeline.py:405: DataConversionWarning: A column-vector y was passed when a 1d array was expected. Please change the shape of y to (n_samples,), for example using ravel().\n",
      "  self._final_estimator.fit(Xt, y, **fit_params_last_step)\n",
      "C:\\Users\\DELL\\anaconda3\\lib\\site-packages\\sklearn\\pipeline.py:405: DataConversionWarning: A column-vector y was passed when a 1d array was expected. Please change the shape of y to (n_samples,), for example using ravel().\n",
      "  self._final_estimator.fit(Xt, y, **fit_params_last_step)\n",
      "C:\\Users\\DELL\\anaconda3\\lib\\site-packages\\sklearn\\pipeline.py:405: DataConversionWarning: A column-vector y was passed when a 1d array was expected. Please change the shape of y to (n_samples,), for example using ravel().\n",
      "  self._final_estimator.fit(Xt, y, **fit_params_last_step)\n",
      "C:\\Users\\DELL\\anaconda3\\lib\\site-packages\\sklearn\\pipeline.py:405: DataConversionWarning: A column-vector y was passed when a 1d array was expected. Please change the shape of y to (n_samples,), for example using ravel().\n",
      "  self._final_estimator.fit(Xt, y, **fit_params_last_step)\n",
      "C:\\Users\\DELL\\anaconda3\\lib\\site-packages\\sklearn\\pipeline.py:405: DataConversionWarning: A column-vector y was passed when a 1d array was expected. Please change the shape of y to (n_samples,), for example using ravel().\n",
      "  self._final_estimator.fit(Xt, y, **fit_params_last_step)\n",
      "C:\\Users\\DELL\\anaconda3\\lib\\site-packages\\sklearn\\pipeline.py:405: DataConversionWarning: A column-vector y was passed when a 1d array was expected. Please change the shape of y to (n_samples,), for example using ravel().\n",
      "  self._final_estimator.fit(Xt, y, **fit_params_last_step)\n",
      "C:\\Users\\DELL\\anaconda3\\lib\\site-packages\\sklearn\\pipeline.py:405: DataConversionWarning: A column-vector y was passed when a 1d array was expected. Please change the shape of y to (n_samples,), for example using ravel().\n",
      "  self._final_estimator.fit(Xt, y, **fit_params_last_step)\n",
      "C:\\Users\\DELL\\anaconda3\\lib\\site-packages\\sklearn\\pipeline.py:405: DataConversionWarning: A column-vector y was passed when a 1d array was expected. Please change the shape of y to (n_samples,), for example using ravel().\n",
      "  self._final_estimator.fit(Xt, y, **fit_params_last_step)\n",
      "C:\\Users\\DELL\\anaconda3\\lib\\site-packages\\sklearn\\pipeline.py:405: DataConversionWarning: A column-vector y was passed when a 1d array was expected. Please change the shape of y to (n_samples,), for example using ravel().\n",
      "  self._final_estimator.fit(Xt, y, **fit_params_last_step)\n",
      "C:\\Users\\DELL\\anaconda3\\lib\\site-packages\\sklearn\\pipeline.py:405: DataConversionWarning: A column-vector y was passed when a 1d array was expected. Please change the shape of y to (n_samples,), for example using ravel().\n",
      "  self._final_estimator.fit(Xt, y, **fit_params_last_step)\n",
      "C:\\Users\\DELL\\anaconda3\\lib\\site-packages\\sklearn\\pipeline.py:405: DataConversionWarning: A column-vector y was passed when a 1d array was expected. Please change the shape of y to (n_samples,), for example using ravel().\n",
      "  self._final_estimator.fit(Xt, y, **fit_params_last_step)\n",
      "C:\\Users\\DELL\\anaconda3\\lib\\site-packages\\sklearn\\pipeline.py:405: DataConversionWarning: A column-vector y was passed when a 1d array was expected. Please change the shape of y to (n_samples,), for example using ravel().\n",
      "  self._final_estimator.fit(Xt, y, **fit_params_last_step)\n",
      "C:\\Users\\DELL\\anaconda3\\lib\\site-packages\\sklearn\\pipeline.py:405: DataConversionWarning: A column-vector y was passed when a 1d array was expected. Please change the shape of y to (n_samples,), for example using ravel().\n",
      "  self._final_estimator.fit(Xt, y, **fit_params_last_step)\n",
      "C:\\Users\\DELL\\anaconda3\\lib\\site-packages\\sklearn\\pipeline.py:405: DataConversionWarning: A column-vector y was passed when a 1d array was expected. Please change the shape of y to (n_samples,), for example using ravel().\n",
      "  self._final_estimator.fit(Xt, y, **fit_params_last_step)\n",
      "C:\\Users\\DELL\\anaconda3\\lib\\site-packages\\sklearn\\pipeline.py:405: DataConversionWarning: A column-vector y was passed when a 1d array was expected. Please change the shape of y to (n_samples,), for example using ravel().\n",
      "  self._final_estimator.fit(Xt, y, **fit_params_last_step)\n",
      "C:\\Users\\DELL\\anaconda3\\lib\\site-packages\\sklearn\\pipeline.py:405: DataConversionWarning: A column-vector y was passed when a 1d array was expected. Please change the shape of y to (n_samples,), for example using ravel().\n",
      "  self._final_estimator.fit(Xt, y, **fit_params_last_step)\n",
      "C:\\Users\\DELL\\anaconda3\\lib\\site-packages\\sklearn\\pipeline.py:405: DataConversionWarning: A column-vector y was passed when a 1d array was expected. Please change the shape of y to (n_samples,), for example using ravel().\n",
      "  self._final_estimator.fit(Xt, y, **fit_params_last_step)\n",
      "C:\\Users\\DELL\\anaconda3\\lib\\site-packages\\sklearn\\pipeline.py:405: DataConversionWarning: A column-vector y was passed when a 1d array was expected. Please change the shape of y to (n_samples,), for example using ravel().\n",
      "  self._final_estimator.fit(Xt, y, **fit_params_last_step)\n",
      "C:\\Users\\DELL\\anaconda3\\lib\\site-packages\\sklearn\\pipeline.py:405: DataConversionWarning: A column-vector y was passed when a 1d array was expected. Please change the shape of y to (n_samples,), for example using ravel().\n",
      "  self._final_estimator.fit(Xt, y, **fit_params_last_step)\n",
      "C:\\Users\\DELL\\anaconda3\\lib\\site-packages\\sklearn\\pipeline.py:405: DataConversionWarning: A column-vector y was passed when a 1d array was expected. Please change the shape of y to (n_samples,), for example using ravel().\n",
      "  self._final_estimator.fit(Xt, y, **fit_params_last_step)\n",
      "C:\\Users\\DELL\\anaconda3\\lib\\site-packages\\sklearn\\pipeline.py:405: DataConversionWarning: A column-vector y was passed when a 1d array was expected. Please change the shape of y to (n_samples,), for example using ravel().\n",
      "  self._final_estimator.fit(Xt, y, **fit_params_last_step)\n",
      "C:\\Users\\DELL\\anaconda3\\lib\\site-packages\\sklearn\\pipeline.py:405: DataConversionWarning: A column-vector y was passed when a 1d array was expected. Please change the shape of y to (n_samples,), for example using ravel().\n",
      "  self._final_estimator.fit(Xt, y, **fit_params_last_step)\n",
      "C:\\Users\\DELL\\anaconda3\\lib\\site-packages\\sklearn\\pipeline.py:405: DataConversionWarning: A column-vector y was passed when a 1d array was expected. Please change the shape of y to (n_samples,), for example using ravel().\n",
      "  self._final_estimator.fit(Xt, y, **fit_params_last_step)\n",
      "C:\\Users\\DELL\\anaconda3\\lib\\site-packages\\sklearn\\pipeline.py:405: DataConversionWarning: A column-vector y was passed when a 1d array was expected. Please change the shape of y to (n_samples,), for example using ravel().\n",
      "  self._final_estimator.fit(Xt, y, **fit_params_last_step)\n",
      "C:\\Users\\DELL\\anaconda3\\lib\\site-packages\\sklearn\\pipeline.py:405: DataConversionWarning: A column-vector y was passed when a 1d array was expected. Please change the shape of y to (n_samples,), for example using ravel().\n",
      "  self._final_estimator.fit(Xt, y, **fit_params_last_step)\n",
      "C:\\Users\\DELL\\anaconda3\\lib\\site-packages\\sklearn\\pipeline.py:405: DataConversionWarning: A column-vector y was passed when a 1d array was expected. Please change the shape of y to (n_samples,), for example using ravel().\n",
      "  self._final_estimator.fit(Xt, y, **fit_params_last_step)\n",
      "C:\\Users\\DELL\\anaconda3\\lib\\site-packages\\sklearn\\pipeline.py:405: DataConversionWarning: A column-vector y was passed when a 1d array was expected. Please change the shape of y to (n_samples,), for example using ravel().\n",
      "  self._final_estimator.fit(Xt, y, **fit_params_last_step)\n",
      "C:\\Users\\DELL\\anaconda3\\lib\\site-packages\\sklearn\\pipeline.py:405: DataConversionWarning: A column-vector y was passed when a 1d array was expected. Please change the shape of y to (n_samples,), for example using ravel().\n",
      "  self._final_estimator.fit(Xt, y, **fit_params_last_step)\n",
      "C:\\Users\\DELL\\anaconda3\\lib\\site-packages\\sklearn\\pipeline.py:405: DataConversionWarning: A column-vector y was passed when a 1d array was expected. Please change the shape of y to (n_samples,), for example using ravel().\n",
      "  self._final_estimator.fit(Xt, y, **fit_params_last_step)\n"
     ]
    },
    {
     "name": "stdout",
     "output_type": "stream",
     "text": [
      "Meilleurs paramètres: {'regressor__max_depth': 10, 'regressor__min_samples_split': 5, 'regressor__n_estimators': 300}\n"
     ]
    }
   ],
   "source": [
    "rf_reg = Pipeline(steps=[\n",
    "    ('preprocessor', preprocessor),\n",
    "    (\"regressor\", RandomForestRegressor())\n",
    "])\n",
    "\n",
    "# Définir la grille des paramètres à rechercher\n",
    "param_grid = {\n",
    "    'regressor__n_estimators': [200, 300],\n",
    "    'regressor__max_depth': [None, 10, 20],\n",
    "    'regressor__min_samples_split': [5, 10],\n",
    "}\n",
    "\n",
    "# Créer l'objet GridSearchCV\n",
    "grid_search = GridSearchCV(estimator=rf_reg, param_grid=param_grid, cv=5, scoring='r2')\n",
    "\n",
    "# Exécuter la recherche sur la grille\n",
    "grid_search.fit(X_train, y_train)\n",
    "\n",
    "# Afficher les meilleurs paramètres\n",
    "best_params = grid_search.best_params_\n",
    "print(\"Meilleurs paramètres:\", best_params)"
   ]
  },
  {
   "cell_type": "code",
   "execution_count": 174,
   "id": "9c15bb55-2dfe-4a64-93fe-7dc23a8d3616",
   "metadata": {},
   "outputs": [
    {
     "name": "stderr",
     "output_type": "stream",
     "text": [
      "C:\\Users\\DELL\\anaconda3\\lib\\site-packages\\sklearn\\pipeline.py:405: DataConversionWarning: A column-vector y was passed when a 1d array was expected. Please change the shape of y to (n_samples,), for example using ravel().\n",
      "  self._final_estimator.fit(Xt, y, **fit_params_last_step)\n"
     ]
    },
    {
     "data": {
      "text/html": [
       "<div>\n",
       "<style scoped>\n",
       "    .dataframe tbody tr th:only-of-type {\n",
       "        vertical-align: middle;\n",
       "    }\n",
       "\n",
       "    .dataframe tbody tr th {\n",
       "        vertical-align: top;\n",
       "    }\n",
       "\n",
       "    .dataframe thead th {\n",
       "        text-align: right;\n",
       "    }\n",
       "</style>\n",
       "<table border=\"1\" class=\"dataframe\">\n",
       "  <thead>\n",
       "    <tr style=\"text-align: right;\">\n",
       "      <th></th>\n",
       "      <th>metric</th>\n",
       "      <th>train</th>\n",
       "      <th>test</th>\n",
       "    </tr>\n",
       "  </thead>\n",
       "  <tbody>\n",
       "    <tr>\n",
       "      <th>0</th>\n",
       "      <td>r2_score</td>\n",
       "      <td>0.969054</td>\n",
       "      <td>0.866281</td>\n",
       "    </tr>\n",
       "    <tr>\n",
       "      <th>1</th>\n",
       "      <td>mean_squared_error</td>\n",
       "      <td>0.047757</td>\n",
       "      <td>0.217323</td>\n",
       "    </tr>\n",
       "    <tr>\n",
       "      <th>2</th>\n",
       "      <td>mean_absolute_percentage_error</td>\n",
       "      <td>0.010543</td>\n",
       "      <td>0.020435</td>\n",
       "    </tr>\n",
       "    <tr>\n",
       "      <th>3</th>\n",
       "      <td>max_error</td>\n",
       "      <td>0.884892</td>\n",
       "      <td>5.096181</td>\n",
       "    </tr>\n",
       "    <tr>\n",
       "      <th>4</th>\n",
       "      <td>mean_absolute_error</td>\n",
       "      <td>0.154273</td>\n",
       "      <td>0.299542</td>\n",
       "    </tr>\n",
       "  </tbody>\n",
       "</table>\n",
       "</div>"
      ],
      "text/plain": [
       "                           metric     train      test\n",
       "0                        r2_score  0.969054  0.866281\n",
       "1              mean_squared_error  0.047757  0.217323\n",
       "2  mean_absolute_percentage_error  0.010543  0.020435\n",
       "3                       max_error  0.884892  5.096181\n",
       "4             mean_absolute_error  0.154273  0.299542"
      ]
     },
     "execution_count": 174,
     "metadata": {},
     "output_type": "execute_result"
    }
   ],
   "source": [
    "# Entraîner le modèle Random Forest avec les meilleurs paramètres trouvés\n",
    "rf_best_model = grid_search.best_estimator_\n",
    "rf_best_model.fit(X_train, y_train)\n",
    "\n",
    "# Afficher les performances sur les ensembles d'entraînement et de test\n",
    "get_all_performances(value_train=(y_train, rf_best_model.predict(X_train)),\n",
    "                     values_test=(y_test, rf_best_model.predict(X_test)),\n",
    "                     metrics=METRICS)"
   ]
  },
  {
   "cell_type": "markdown",
   "id": "11e3bafa-04eb-4964-9c6a-f14ca9342a55",
   "metadata": {},
   "source": [
    "<p style=\"text-align:justify;font-family:times;font-size:15px\">  Bien que les erreurs aient diminué, l'écart entre les erreurs sur le jeu d'apprentissage et le jeu de test est assez grand. Le modèle ne performe que sur le jeu d'entrainement. Essatons de voir si on ne peut éliminer certaines variables pour améliorer la performance de notre modèle. Pour cela nous ferons appel au PPScore</p>"
   ]
  },
  {
   "cell_type": "markdown",
   "id": "7f007558-87c6-437b-8559-298efaf9e843",
   "metadata": {},
   "source": [
    "<h4 style=\"text-align:justify;color:red;font-size:20px;font-family:Roboto\">5. XGBoost</h4>"
   ]
  },
  {
   "cell_type": "code",
   "execution_count": null,
   "id": "86347906-c1d0-4f93-a3f5-34cb474f6f5c",
   "metadata": {},
   "outputs": [],
   "source": [
    "pip install xgboost"
   ]
  },
  {
   "cell_type": "code",
   "execution_count": 176,
   "id": "f4fc7576-0cac-40ed-b1ef-c4c1e51fd478",
   "metadata": {},
   "outputs": [
    {
     "name": "stdout",
     "output_type": "stream",
     "text": [
      "Model error: SiteEnergyUse(kBtu)    0.19595\n",
      "dtype: float64\n"
     ]
    },
    {
     "name": "stderr",
     "output_type": "stream",
     "text": [
      "C:\\Users\\DELL\\anaconda3\\lib\\site-packages\\numpy\\core\\fromnumeric.py:3472: FutureWarning: In a future version, DataFrame.mean(axis=None) will return a scalar mean over the entire DataFrame. To retain the old behavior, use 'frame.mean(axis=0)' or just 'frame.mean()'\n",
      "  return mean(axis=axis, dtype=dtype, out=out, **kwargs)\n",
      "C:\\Users\\DELL\\anaconda3\\lib\\site-packages\\numpy\\core\\fromnumeric.py:3472: FutureWarning: In a future version, DataFrame.mean(axis=None) will return a scalar mean over the entire DataFrame. To retain the old behavior, use 'frame.mean(axis=0)' or just 'frame.mean()'\n",
      "  return mean(axis=axis, dtype=dtype, out=out, **kwargs)\n"
     ]
    },
    {
     "data": {
      "text/html": [
       "<div>\n",
       "<style scoped>\n",
       "    .dataframe tbody tr th:only-of-type {\n",
       "        vertical-align: middle;\n",
       "    }\n",
       "\n",
       "    .dataframe tbody tr th {\n",
       "        vertical-align: top;\n",
       "    }\n",
       "\n",
       "    .dataframe thead th {\n",
       "        text-align: right;\n",
       "    }\n",
       "</style>\n",
       "<table border=\"1\" class=\"dataframe\">\n",
       "  <thead>\n",
       "    <tr style=\"text-align: right;\">\n",
       "      <th></th>\n",
       "      <th>metric</th>\n",
       "      <th>train</th>\n",
       "      <th>test</th>\n",
       "    </tr>\n",
       "  </thead>\n",
       "  <tbody>\n",
       "    <tr>\n",
       "      <th>0</th>\n",
       "      <td>r2_score</td>\n",
       "      <td>0.998823</td>\n",
       "      <td>0.879431</td>\n",
       "    </tr>\n",
       "    <tr>\n",
       "      <th>1</th>\n",
       "      <td>mean_squared_error</td>\n",
       "      <td>0.001817</td>\n",
       "      <td>0.195952</td>\n",
       "    </tr>\n",
       "    <tr>\n",
       "      <th>2</th>\n",
       "      <td>mean_absolute_percentage_error</td>\n",
       "      <td>0.001964</td>\n",
       "      <td>0.022247</td>\n",
       "    </tr>\n",
       "    <tr>\n",
       "      <th>3</th>\n",
       "      <td>max_error</td>\n",
       "      <td>0.189428</td>\n",
       "      <td>2.259458</td>\n",
       "    </tr>\n",
       "    <tr>\n",
       "      <th>4</th>\n",
       "      <td>mean_absolute_error</td>\n",
       "      <td>0.028552</td>\n",
       "      <td>0.324385</td>\n",
       "    </tr>\n",
       "  </tbody>\n",
       "</table>\n",
       "</div>"
      ],
      "text/plain": [
       "                           metric     train      test\n",
       "0                        r2_score  0.998823  0.879431\n",
       "1              mean_squared_error  0.001817  0.195952\n",
       "2  mean_absolute_percentage_error  0.001964  0.022247\n",
       "3                       max_error  0.189428  2.259458\n",
       "4             mean_absolute_error  0.028552  0.324385"
      ]
     },
     "execution_count": 176,
     "metadata": {},
     "output_type": "execute_result"
    }
   ],
   "source": [
    "import xgboost\n",
    "from xgboost import XGBRegressor\n",
    "xgb_reg = Pipeline(steps=[\n",
    "    ('preprocessor', preprocessor),\n",
    "    (\"regressor\", XGBRegressor())\n",
    "])\n",
    "\n",
    "# Entraîner le modèle XGBoost\n",
    "xgb_results = train_model(model=xgb_reg,\n",
    "                          x_train=X_train, y_train=y_train,\n",
    "                          x_test=X_test, y_test=y_test)\n",
    "\n",
    "# Obtenir l'estimateur du modèle XGBoost\n",
    "xgb_estimator = xgb_results[\"estimator\"]\n",
    "\n",
    "# Afficher les performances sur les ensembles d'entraînement et de test\n",
    "get_all_performances(value_train=(y_train, xgb_estimator.predict(X_train)),\n",
    "                     values_test=(y_test, xgb_estimator.predict(X_test)),\n",
    "                     metrics=METRICS)"
   ]
  },
  {
   "cell_type": "markdown",
   "id": "275364e3-fcb8-4f6c-8978-4441cc0f652e",
   "metadata": {},
   "source": [
    "<p style=\"text-align:justify;font-family:times;font-size:15px\"> Le coefficient de détermination (r2_score) est proche de 1 pour l'ensemble d'entraînement, ce qui suggère que le modèle explique bien la variance des données d'entraînement. Cependant, il est légèrement inférieur pour l'ensemble de test, indiquant une légère baisse de performance lorsqu'on évalue le modèle sur des données qu'il n'a pas vues pendant l'entraînement. Il y a une possibilité de surajustement, mais dans l'ensemble, le modèle semble bien généraliser. </p>\n",
    "\n",
    "<p style=\"text-align:justify;font-family:times;font-size:15px\"> L'erreur quadratique moyenne (mean_squared_error) est très faible pour l'ensemble d'entraînement, indiquant de bonnes performances de prédiction sur ces données. Cependant, elle est plus élevée pour l'ensemble de test, ce qui signifie que les prédictions du modèle sont moins précises sur de nouvelles données.</p>"
   ]
  },
  {
   "cell_type": "markdown",
   "id": "52672a14-68d7-45a5-9d71-70af57aaae45",
   "metadata": {},
   "source": [
    "<p style=\"text-align:justify;color:blue;font-size:15px;font-family:Roboto\">Optimisation des hyperparamètres</p>"
   ]
  },
  {
   "cell_type": "code",
   "execution_count": 177,
   "id": "6fd0228c-0fb9-428b-9e6f-2871cc510344",
   "metadata": {},
   "outputs": [
    {
     "name": "stdout",
     "output_type": "stream",
     "text": [
      "Meilleurs paramètres: {'regressor__learning_rate': 0.1, 'regressor__max_depth': 5, 'regressor__min_child_weight': 3, 'regressor__n_estimators': 100}\n"
     ]
    }
   ],
   "source": [
    "xgb_reg = Pipeline(steps=[\n",
    "    ('preprocessor', preprocessor),\n",
    "    (\"regressor\", XGBRegressor())\n",
    "])\n",
    "\n",
    "# Définir la grille des paramètres à rechercher\n",
    "param_grid = {\n",
    "    'regressor__n_estimators': [100, 200, 300],\n",
    "    'regressor__max_depth': [3, 5, 7],\n",
    "    'regressor__learning_rate': [0.01, 0.05, 0.1],\n",
    "    'regressor__min_child_weight': [1, 3, 5]\n",
    "}\n",
    "\n",
    "# Créer l'objet GridSearchCV\n",
    "grid_search = GridSearchCV(estimator=xgb_reg, param_grid=param_grid, cv=5, scoring='r2')\n",
    "\n",
    "# Exécuter la recherche sur la grille\n",
    "grid_search.fit(X_train, y_train)\n",
    "\n",
    "# Afficher les meilleurs paramètres\n",
    "best_params = grid_search.best_params_\n",
    "print(\"Meilleurs paramètres:\", best_params)"
   ]
  },
  {
   "cell_type": "code",
   "execution_count": 178,
   "id": "af34b4f0-23e3-4a62-b5b4-fda8e1c5ad02",
   "metadata": {},
   "outputs": [
    {
     "data": {
      "text/html": [
       "<div>\n",
       "<style scoped>\n",
       "    .dataframe tbody tr th:only-of-type {\n",
       "        vertical-align: middle;\n",
       "    }\n",
       "\n",
       "    .dataframe tbody tr th {\n",
       "        vertical-align: top;\n",
       "    }\n",
       "\n",
       "    .dataframe thead th {\n",
       "        text-align: right;\n",
       "    }\n",
       "</style>\n",
       "<table border=\"1\" class=\"dataframe\">\n",
       "  <thead>\n",
       "    <tr style=\"text-align: right;\">\n",
       "      <th></th>\n",
       "      <th>metric</th>\n",
       "      <th>train</th>\n",
       "      <th>test</th>\n",
       "    </tr>\n",
       "  </thead>\n",
       "  <tbody>\n",
       "    <tr>\n",
       "      <th>0</th>\n",
       "      <td>r2_score</td>\n",
       "      <td>0.968906</td>\n",
       "      <td>0.900654</td>\n",
       "    </tr>\n",
       "    <tr>\n",
       "      <th>1</th>\n",
       "      <td>mean_squared_error</td>\n",
       "      <td>0.047985</td>\n",
       "      <td>0.161460</td>\n",
       "    </tr>\n",
       "    <tr>\n",
       "      <th>2</th>\n",
       "      <td>mean_absolute_percentage_error</td>\n",
       "      <td>0.010421</td>\n",
       "      <td>0.019906</td>\n",
       "    </tr>\n",
       "    <tr>\n",
       "      <th>3</th>\n",
       "      <td>max_error</td>\n",
       "      <td>0.964597</td>\n",
       "      <td>2.130011</td>\n",
       "    </tr>\n",
       "    <tr>\n",
       "      <th>4</th>\n",
       "      <td>mean_absolute_error</td>\n",
       "      <td>0.151647</td>\n",
       "      <td>0.289658</td>\n",
       "    </tr>\n",
       "  </tbody>\n",
       "</table>\n",
       "</div>"
      ],
      "text/plain": [
       "                           metric     train      test\n",
       "0                        r2_score  0.968906  0.900654\n",
       "1              mean_squared_error  0.047985  0.161460\n",
       "2  mean_absolute_percentage_error  0.010421  0.019906\n",
       "3                       max_error  0.964597  2.130011\n",
       "4             mean_absolute_error  0.151647  0.289658"
      ]
     },
     "execution_count": 178,
     "metadata": {},
     "output_type": "execute_result"
    }
   ],
   "source": [
    "\n",
    "# Entraîner le modèle XGBoost avec les meilleurs paramètres trouvés\n",
    "xgb_best_model = grid_search.best_estimator_\n",
    "xgb_best_model.fit(X_train, y_train)\n",
    "\n",
    "# Afficher les performances sur les ensembles d'entraînement et de test\n",
    "get_all_performances(value_train=(y_train, xgb_best_model.predict(X_train)),\n",
    "                     values_test=(y_test, xgb_best_model.predict(X_test)),\n",
    "                     metrics=METRICS)"
   ]
  },
  {
   "cell_type": "markdown",
   "id": "ed1a24b1-e617-4416-907e-52b95b897d06",
   "metadata": {},
   "source": [
    "<p style=\"text-align:justify;font-family:times;font-size:15px\">  Le coefficient de détermination (r2_score) est élevé pour les deux ensembles, ce qui indique que le modèle capture bien la variance des données. Il y a une légère baisse de performance par rapport à l'ensemble d'entraînement, mais le modèle semble généraliser raisonnablement bien sur l'ensemble de test. </p>\n",
    "<p style=\"text-align:justify;font-family:times;font-size:15px\">  L'erreur quadratique moyenne (mean_squared_error) est plus faible pour l'ensemble d'entraînement que pour l'ensemble de test, ce qui indique que le modèle a une meilleure précision sur les données d'entraînement. Cependant, les valeurs sont toutes deux acceptables et indiquent une bonne capacité du modèle à prédire les valeurs cibles. </p>"
   ]
  },
  {
   "cell_type": "markdown",
   "id": "114b4171-a197-4395-b50c-765e40b7d9fb",
   "metadata": {},
   "source": [
    "<h4 style=\"text-align:justify;color:red;font-size:20px;font-family:Roboto\">6. Support Vector Regressor</h4>"
   ]
  },
  {
   "cell_type": "markdown",
   "id": "da0deacc-2dc1-4ce0-91e9-2816ff44e813",
   "metadata": {},
   "source": [
    "<p style=\"text-align:justify;font-family:times;font-size:15px\">Le Support Vector Regressor (SVR) est un algorithme d'apprentissage supervisé utilisé pour la régression. Contrairement aux méthodes traditionnelles, SVR vise à minimiser le risque structurel plutôt que l'erreur de prédiction, en optimisant une marge maximale entre les points de données et une droite de régression. Il utilise des fonctions de noyau pour gérer les relations non linéaires entre les variables et est robuste aux données bruitées grâce à la gestion des marges. SVR est efficace même dans les espaces de grande dimension, ce qui en fait un choix adapté pour les ensembles de données complexes ou comportant un grand nombre de variables explicatives.</p>"
   ]
  },
  {
   "cell_type": "code",
   "execution_count": 179,
   "id": "3ba0302f-156b-474d-b329-5ef24f16af11",
   "metadata": {},
   "outputs": [
    {
     "name": "stderr",
     "output_type": "stream",
     "text": [
      "C:\\Users\\DELL\\anaconda3\\lib\\site-packages\\sklearn\\utils\\validation.py:1143: DataConversionWarning: A column-vector y was passed when a 1d array was expected. Please change the shape of y to (n_samples, ), for example using ravel().\n",
      "  y = column_or_1d(y, warn=True)\n",
      "C:\\Users\\DELL\\anaconda3\\lib\\site-packages\\numpy\\core\\fromnumeric.py:3472: FutureWarning: In a future version, DataFrame.mean(axis=None) will return a scalar mean over the entire DataFrame. To retain the old behavior, use 'frame.mean(axis=0)' or just 'frame.mean()'\n",
      "  return mean(axis=axis, dtype=dtype, out=out, **kwargs)\n"
     ]
    },
    {
     "name": "stdout",
     "output_type": "stream",
     "text": [
      "Model error: SiteEnergyUse(kBtu)    0.23301\n",
      "dtype: float64\n"
     ]
    },
    {
     "name": "stderr",
     "output_type": "stream",
     "text": [
      "C:\\Users\\DELL\\anaconda3\\lib\\site-packages\\numpy\\core\\fromnumeric.py:3472: FutureWarning: In a future version, DataFrame.mean(axis=None) will return a scalar mean over the entire DataFrame. To retain the old behavior, use 'frame.mean(axis=0)' or just 'frame.mean()'\n",
      "  return mean(axis=axis, dtype=dtype, out=out, **kwargs)\n"
     ]
    },
    {
     "data": {
      "text/html": [
       "<div>\n",
       "<style scoped>\n",
       "    .dataframe tbody tr th:only-of-type {\n",
       "        vertical-align: middle;\n",
       "    }\n",
       "\n",
       "    .dataframe tbody tr th {\n",
       "        vertical-align: top;\n",
       "    }\n",
       "\n",
       "    .dataframe thead th {\n",
       "        text-align: right;\n",
       "    }\n",
       "</style>\n",
       "<table border=\"1\" class=\"dataframe\">\n",
       "  <thead>\n",
       "    <tr style=\"text-align: right;\">\n",
       "      <th></th>\n",
       "      <th>metric</th>\n",
       "      <th>train</th>\n",
       "      <th>test</th>\n",
       "    </tr>\n",
       "  </thead>\n",
       "  <tbody>\n",
       "    <tr>\n",
       "      <th>0</th>\n",
       "      <td>r2_score</td>\n",
       "      <td>0.885080</td>\n",
       "      <td>0.856627</td>\n",
       "    </tr>\n",
       "    <tr>\n",
       "      <th>1</th>\n",
       "      <td>mean_squared_error</td>\n",
       "      <td>0.177349</td>\n",
       "      <td>0.233014</td>\n",
       "    </tr>\n",
       "    <tr>\n",
       "      <th>2</th>\n",
       "      <td>mean_absolute_percentage_error</td>\n",
       "      <td>0.021370</td>\n",
       "      <td>0.023839</td>\n",
       "    </tr>\n",
       "    <tr>\n",
       "      <th>3</th>\n",
       "      <td>max_error</td>\n",
       "      <td>2.748955</td>\n",
       "      <td>3.043635</td>\n",
       "    </tr>\n",
       "    <tr>\n",
       "      <th>4</th>\n",
       "      <td>mean_absolute_error</td>\n",
       "      <td>0.309758</td>\n",
       "      <td>0.342690</td>\n",
       "    </tr>\n",
       "  </tbody>\n",
       "</table>\n",
       "</div>"
      ],
      "text/plain": [
       "                           metric     train      test\n",
       "0                        r2_score  0.885080  0.856627\n",
       "1              mean_squared_error  0.177349  0.233014\n",
       "2  mean_absolute_percentage_error  0.021370  0.023839\n",
       "3                       max_error  2.748955  3.043635\n",
       "4             mean_absolute_error  0.309758  0.342690"
      ]
     },
     "execution_count": 179,
     "metadata": {},
     "output_type": "execute_result"
    }
   ],
   "source": [
    "from sklearn.svm import SVR\n",
    "svr_reg = Pipeline(steps=[\n",
    "    ('preprocessor', preprocessor),\n",
    "    (\"regressor\", SVR())\n",
    "])\n",
    "\n",
    "# Entraîner le modèle SVR\n",
    "svr_results = train_model(model=svr_reg,\n",
    "                          x_train=X_train, y_train=y_train,\n",
    "                          x_test=X_test, y_test=y_test)\n",
    "\n",
    "# Obtenir l'estimateur du modèle SVR\n",
    "svr_estimator = svr_results[\"estimator\"]\n",
    "\n",
    "# Afficher les performances sur les ensembles d'entraînement et de test\n",
    "get_all_performances(value_train=(y_train, svr_estimator.predict(X_train)),\n",
    "                     values_test=(y_test, svr_estimator.predict(X_test)),\n",
    "                     metrics=METRICS)"
   ]
  },
  {
   "cell_type": "markdown",
   "id": "91ecdab8-bf34-415f-9f16-a8b06d7e0040",
   "metadata": {},
   "source": [
    "<p style=\"text-align:justify;font-family:times;font-size:15px\">  Le modèle de SVR a un coefficient de détermination aussi bien sur le test que sur le train proche de 1. Ce qui veut dire qu'il explique bien la variance. En terme d'erreur, les erreurs sont généralement faible et un peu plus élevé sur le jeu d'entrainement. Cependant la marge n'étant pas assez, le modèle généralisera bien. </p>"
   ]
  },
  {
   "cell_type": "markdown",
   "id": "5026ef87-4045-4db1-aac3-ff4df5c23f78",
   "metadata": {},
   "source": [
    "<p style=\"text-align:justify;color:blue;font-size:15px;font-family:Roboto\">Optimisation des hyperparamètres</p>"
   ]
  },
  {
   "cell_type": "code",
   "execution_count": 180,
   "id": "8b208a47-1818-46c1-9674-3d3be94cf281",
   "metadata": {},
   "outputs": [
    {
     "name": "stderr",
     "output_type": "stream",
     "text": [
      "C:\\Users\\DELL\\anaconda3\\lib\\site-packages\\sklearn\\utils\\validation.py:1143: DataConversionWarning: A column-vector y was passed when a 1d array was expected. Please change the shape of y to (n_samples, ), for example using ravel().\n",
      "  y = column_or_1d(y, warn=True)\n",
      "C:\\Users\\DELL\\anaconda3\\lib\\site-packages\\sklearn\\utils\\validation.py:1143: DataConversionWarning: A column-vector y was passed when a 1d array was expected. Please change the shape of y to (n_samples, ), for example using ravel().\n",
      "  y = column_or_1d(y, warn=True)\n",
      "C:\\Users\\DELL\\anaconda3\\lib\\site-packages\\sklearn\\utils\\validation.py:1143: DataConversionWarning: A column-vector y was passed when a 1d array was expected. Please change the shape of y to (n_samples, ), for example using ravel().\n",
      "  y = column_or_1d(y, warn=True)\n",
      "C:\\Users\\DELL\\anaconda3\\lib\\site-packages\\sklearn\\utils\\validation.py:1143: DataConversionWarning: A column-vector y was passed when a 1d array was expected. Please change the shape of y to (n_samples, ), for example using ravel().\n",
      "  y = column_or_1d(y, warn=True)\n",
      "C:\\Users\\DELL\\anaconda3\\lib\\site-packages\\sklearn\\utils\\validation.py:1143: DataConversionWarning: A column-vector y was passed when a 1d array was expected. Please change the shape of y to (n_samples, ), for example using ravel().\n",
      "  y = column_or_1d(y, warn=True)\n",
      "C:\\Users\\DELL\\anaconda3\\lib\\site-packages\\sklearn\\utils\\validation.py:1143: DataConversionWarning: A column-vector y was passed when a 1d array was expected. Please change the shape of y to (n_samples, ), for example using ravel().\n",
      "  y = column_or_1d(y, warn=True)\n",
      "C:\\Users\\DELL\\anaconda3\\lib\\site-packages\\sklearn\\utils\\validation.py:1143: DataConversionWarning: A column-vector y was passed when a 1d array was expected. Please change the shape of y to (n_samples, ), for example using ravel().\n",
      "  y = column_or_1d(y, warn=True)\n",
      "C:\\Users\\DELL\\anaconda3\\lib\\site-packages\\sklearn\\utils\\validation.py:1143: DataConversionWarning: A column-vector y was passed when a 1d array was expected. Please change the shape of y to (n_samples, ), for example using ravel().\n",
      "  y = column_or_1d(y, warn=True)\n",
      "C:\\Users\\DELL\\anaconda3\\lib\\site-packages\\sklearn\\utils\\validation.py:1143: DataConversionWarning: A column-vector y was passed when a 1d array was expected. Please change the shape of y to (n_samples, ), for example using ravel().\n",
      "  y = column_or_1d(y, warn=True)\n",
      "C:\\Users\\DELL\\anaconda3\\lib\\site-packages\\sklearn\\utils\\validation.py:1143: DataConversionWarning: A column-vector y was passed when a 1d array was expected. Please change the shape of y to (n_samples, ), for example using ravel().\n",
      "  y = column_or_1d(y, warn=True)\n",
      "C:\\Users\\DELL\\anaconda3\\lib\\site-packages\\sklearn\\utils\\validation.py:1143: DataConversionWarning: A column-vector y was passed when a 1d array was expected. Please change the shape of y to (n_samples, ), for example using ravel().\n",
      "  y = column_or_1d(y, warn=True)\n",
      "C:\\Users\\DELL\\anaconda3\\lib\\site-packages\\sklearn\\utils\\validation.py:1143: DataConversionWarning: A column-vector y was passed when a 1d array was expected. Please change the shape of y to (n_samples, ), for example using ravel().\n",
      "  y = column_or_1d(y, warn=True)\n",
      "C:\\Users\\DELL\\anaconda3\\lib\\site-packages\\sklearn\\utils\\validation.py:1143: DataConversionWarning: A column-vector y was passed when a 1d array was expected. Please change the shape of y to (n_samples, ), for example using ravel().\n",
      "  y = column_or_1d(y, warn=True)\n",
      "C:\\Users\\DELL\\anaconda3\\lib\\site-packages\\sklearn\\utils\\validation.py:1143: DataConversionWarning: A column-vector y was passed when a 1d array was expected. Please change the shape of y to (n_samples, ), for example using ravel().\n",
      "  y = column_or_1d(y, warn=True)\n",
      "C:\\Users\\DELL\\anaconda3\\lib\\site-packages\\sklearn\\utils\\validation.py:1143: DataConversionWarning: A column-vector y was passed when a 1d array was expected. Please change the shape of y to (n_samples, ), for example using ravel().\n",
      "  y = column_or_1d(y, warn=True)\n",
      "C:\\Users\\DELL\\anaconda3\\lib\\site-packages\\sklearn\\utils\\validation.py:1143: DataConversionWarning: A column-vector y was passed when a 1d array was expected. Please change the shape of y to (n_samples, ), for example using ravel().\n",
      "  y = column_or_1d(y, warn=True)\n",
      "C:\\Users\\DELL\\anaconda3\\lib\\site-packages\\sklearn\\utils\\validation.py:1143: DataConversionWarning: A column-vector y was passed when a 1d array was expected. Please change the shape of y to (n_samples, ), for example using ravel().\n",
      "  y = column_or_1d(y, warn=True)\n",
      "C:\\Users\\DELL\\anaconda3\\lib\\site-packages\\sklearn\\utils\\validation.py:1143: DataConversionWarning: A column-vector y was passed when a 1d array was expected. Please change the shape of y to (n_samples, ), for example using ravel().\n",
      "  y = column_or_1d(y, warn=True)\n",
      "C:\\Users\\DELL\\anaconda3\\lib\\site-packages\\sklearn\\utils\\validation.py:1143: DataConversionWarning: A column-vector y was passed when a 1d array was expected. Please change the shape of y to (n_samples, ), for example using ravel().\n",
      "  y = column_or_1d(y, warn=True)\n",
      "C:\\Users\\DELL\\anaconda3\\lib\\site-packages\\sklearn\\utils\\validation.py:1143: DataConversionWarning: A column-vector y was passed when a 1d array was expected. Please change the shape of y to (n_samples, ), for example using ravel().\n",
      "  y = column_or_1d(y, warn=True)\n",
      "C:\\Users\\DELL\\anaconda3\\lib\\site-packages\\sklearn\\utils\\validation.py:1143: DataConversionWarning: A column-vector y was passed when a 1d array was expected. Please change the shape of y to (n_samples, ), for example using ravel().\n",
      "  y = column_or_1d(y, warn=True)\n",
      "C:\\Users\\DELL\\anaconda3\\lib\\site-packages\\sklearn\\utils\\validation.py:1143: DataConversionWarning: A column-vector y was passed when a 1d array was expected. Please change the shape of y to (n_samples, ), for example using ravel().\n",
      "  y = column_or_1d(y, warn=True)\n",
      "C:\\Users\\DELL\\anaconda3\\lib\\site-packages\\sklearn\\utils\\validation.py:1143: DataConversionWarning: A column-vector y was passed when a 1d array was expected. Please change the shape of y to (n_samples, ), for example using ravel().\n",
      "  y = column_or_1d(y, warn=True)\n",
      "C:\\Users\\DELL\\anaconda3\\lib\\site-packages\\sklearn\\utils\\validation.py:1143: DataConversionWarning: A column-vector y was passed when a 1d array was expected. Please change the shape of y to (n_samples, ), for example using ravel().\n",
      "  y = column_or_1d(y, warn=True)\n",
      "C:\\Users\\DELL\\anaconda3\\lib\\site-packages\\sklearn\\utils\\validation.py:1143: DataConversionWarning: A column-vector y was passed when a 1d array was expected. Please change the shape of y to (n_samples, ), for example using ravel().\n",
      "  y = column_or_1d(y, warn=True)\n",
      "C:\\Users\\DELL\\anaconda3\\lib\\site-packages\\sklearn\\utils\\validation.py:1143: DataConversionWarning: A column-vector y was passed when a 1d array was expected. Please change the shape of y to (n_samples, ), for example using ravel().\n",
      "  y = column_or_1d(y, warn=True)\n",
      "C:\\Users\\DELL\\anaconda3\\lib\\site-packages\\sklearn\\utils\\validation.py:1143: DataConversionWarning: A column-vector y was passed when a 1d array was expected. Please change the shape of y to (n_samples, ), for example using ravel().\n",
      "  y = column_or_1d(y, warn=True)\n",
      "C:\\Users\\DELL\\anaconda3\\lib\\site-packages\\sklearn\\utils\\validation.py:1143: DataConversionWarning: A column-vector y was passed when a 1d array was expected. Please change the shape of y to (n_samples, ), for example using ravel().\n",
      "  y = column_or_1d(y, warn=True)\n",
      "C:\\Users\\DELL\\anaconda3\\lib\\site-packages\\sklearn\\utils\\validation.py:1143: DataConversionWarning: A column-vector y was passed when a 1d array was expected. Please change the shape of y to (n_samples, ), for example using ravel().\n",
      "  y = column_or_1d(y, warn=True)\n",
      "C:\\Users\\DELL\\anaconda3\\lib\\site-packages\\sklearn\\utils\\validation.py:1143: DataConversionWarning: A column-vector y was passed when a 1d array was expected. Please change the shape of y to (n_samples, ), for example using ravel().\n",
      "  y = column_or_1d(y, warn=True)\n",
      "C:\\Users\\DELL\\anaconda3\\lib\\site-packages\\sklearn\\utils\\validation.py:1143: DataConversionWarning: A column-vector y was passed when a 1d array was expected. Please change the shape of y to (n_samples, ), for example using ravel().\n",
      "  y = column_or_1d(y, warn=True)\n",
      "C:\\Users\\DELL\\anaconda3\\lib\\site-packages\\sklearn\\utils\\validation.py:1143: DataConversionWarning: A column-vector y was passed when a 1d array was expected. Please change the shape of y to (n_samples, ), for example using ravel().\n",
      "  y = column_or_1d(y, warn=True)\n",
      "C:\\Users\\DELL\\anaconda3\\lib\\site-packages\\sklearn\\utils\\validation.py:1143: DataConversionWarning: A column-vector y was passed when a 1d array was expected. Please change the shape of y to (n_samples, ), for example using ravel().\n",
      "  y = column_or_1d(y, warn=True)\n",
      "C:\\Users\\DELL\\anaconda3\\lib\\site-packages\\sklearn\\utils\\validation.py:1143: DataConversionWarning: A column-vector y was passed when a 1d array was expected. Please change the shape of y to (n_samples, ), for example using ravel().\n",
      "  y = column_or_1d(y, warn=True)\n",
      "C:\\Users\\DELL\\anaconda3\\lib\\site-packages\\sklearn\\utils\\validation.py:1143: DataConversionWarning: A column-vector y was passed when a 1d array was expected. Please change the shape of y to (n_samples, ), for example using ravel().\n",
      "  y = column_or_1d(y, warn=True)\n",
      "C:\\Users\\DELL\\anaconda3\\lib\\site-packages\\sklearn\\utils\\validation.py:1143: DataConversionWarning: A column-vector y was passed when a 1d array was expected. Please change the shape of y to (n_samples, ), for example using ravel().\n",
      "  y = column_or_1d(y, warn=True)\n",
      "C:\\Users\\DELL\\anaconda3\\lib\\site-packages\\sklearn\\utils\\validation.py:1143: DataConversionWarning: A column-vector y was passed when a 1d array was expected. Please change the shape of y to (n_samples, ), for example using ravel().\n",
      "  y = column_or_1d(y, warn=True)\n",
      "C:\\Users\\DELL\\anaconda3\\lib\\site-packages\\sklearn\\utils\\validation.py:1143: DataConversionWarning: A column-vector y was passed when a 1d array was expected. Please change the shape of y to (n_samples, ), for example using ravel().\n",
      "  y = column_or_1d(y, warn=True)\n",
      "C:\\Users\\DELL\\anaconda3\\lib\\site-packages\\sklearn\\utils\\validation.py:1143: DataConversionWarning: A column-vector y was passed when a 1d array was expected. Please change the shape of y to (n_samples, ), for example using ravel().\n",
      "  y = column_or_1d(y, warn=True)\n",
      "C:\\Users\\DELL\\anaconda3\\lib\\site-packages\\sklearn\\utils\\validation.py:1143: DataConversionWarning: A column-vector y was passed when a 1d array was expected. Please change the shape of y to (n_samples, ), for example using ravel().\n",
      "  y = column_or_1d(y, warn=True)\n",
      "C:\\Users\\DELL\\anaconda3\\lib\\site-packages\\sklearn\\utils\\validation.py:1143: DataConversionWarning: A column-vector y was passed when a 1d array was expected. Please change the shape of y to (n_samples, ), for example using ravel().\n",
      "  y = column_or_1d(y, warn=True)\n",
      "C:\\Users\\DELL\\anaconda3\\lib\\site-packages\\sklearn\\utils\\validation.py:1143: DataConversionWarning: A column-vector y was passed when a 1d array was expected. Please change the shape of y to (n_samples, ), for example using ravel().\n",
      "  y = column_or_1d(y, warn=True)\n",
      "C:\\Users\\DELL\\anaconda3\\lib\\site-packages\\sklearn\\utils\\validation.py:1143: DataConversionWarning: A column-vector y was passed when a 1d array was expected. Please change the shape of y to (n_samples, ), for example using ravel().\n",
      "  y = column_or_1d(y, warn=True)\n",
      "C:\\Users\\DELL\\anaconda3\\lib\\site-packages\\sklearn\\utils\\validation.py:1143: DataConversionWarning: A column-vector y was passed when a 1d array was expected. Please change the shape of y to (n_samples, ), for example using ravel().\n",
      "  y = column_or_1d(y, warn=True)\n",
      "C:\\Users\\DELL\\anaconda3\\lib\\site-packages\\sklearn\\utils\\validation.py:1143: DataConversionWarning: A column-vector y was passed when a 1d array was expected. Please change the shape of y to (n_samples, ), for example using ravel().\n",
      "  y = column_or_1d(y, warn=True)\n",
      "C:\\Users\\DELL\\anaconda3\\lib\\site-packages\\sklearn\\utils\\validation.py:1143: DataConversionWarning: A column-vector y was passed when a 1d array was expected. Please change the shape of y to (n_samples, ), for example using ravel().\n",
      "  y = column_or_1d(y, warn=True)\n",
      "C:\\Users\\DELL\\anaconda3\\lib\\site-packages\\sklearn\\utils\\validation.py:1143: DataConversionWarning: A column-vector y was passed when a 1d array was expected. Please change the shape of y to (n_samples, ), for example using ravel().\n",
      "  y = column_or_1d(y, warn=True)\n",
      "C:\\Users\\DELL\\anaconda3\\lib\\site-packages\\sklearn\\utils\\validation.py:1143: DataConversionWarning: A column-vector y was passed when a 1d array was expected. Please change the shape of y to (n_samples, ), for example using ravel().\n",
      "  y = column_or_1d(y, warn=True)\n",
      "C:\\Users\\DELL\\anaconda3\\lib\\site-packages\\sklearn\\utils\\validation.py:1143: DataConversionWarning: A column-vector y was passed when a 1d array was expected. Please change the shape of y to (n_samples, ), for example using ravel().\n",
      "  y = column_or_1d(y, warn=True)\n",
      "C:\\Users\\DELL\\anaconda3\\lib\\site-packages\\sklearn\\utils\\validation.py:1143: DataConversionWarning: A column-vector y was passed when a 1d array was expected. Please change the shape of y to (n_samples, ), for example using ravel().\n",
      "  y = column_or_1d(y, warn=True)\n",
      "C:\\Users\\DELL\\anaconda3\\lib\\site-packages\\sklearn\\utils\\validation.py:1143: DataConversionWarning: A column-vector y was passed when a 1d array was expected. Please change the shape of y to (n_samples, ), for example using ravel().\n",
      "  y = column_or_1d(y, warn=True)\n",
      "C:\\Users\\DELL\\anaconda3\\lib\\site-packages\\sklearn\\utils\\validation.py:1143: DataConversionWarning: A column-vector y was passed when a 1d array was expected. Please change the shape of y to (n_samples, ), for example using ravel().\n",
      "  y = column_or_1d(y, warn=True)\n",
      "C:\\Users\\DELL\\anaconda3\\lib\\site-packages\\sklearn\\utils\\validation.py:1143: DataConversionWarning: A column-vector y was passed when a 1d array was expected. Please change the shape of y to (n_samples, ), for example using ravel().\n",
      "  y = column_or_1d(y, warn=True)\n",
      "C:\\Users\\DELL\\anaconda3\\lib\\site-packages\\sklearn\\utils\\validation.py:1143: DataConversionWarning: A column-vector y was passed when a 1d array was expected. Please change the shape of y to (n_samples, ), for example using ravel().\n",
      "  y = column_or_1d(y, warn=True)\n",
      "C:\\Users\\DELL\\anaconda3\\lib\\site-packages\\sklearn\\utils\\validation.py:1143: DataConversionWarning: A column-vector y was passed when a 1d array was expected. Please change the shape of y to (n_samples, ), for example using ravel().\n",
      "  y = column_or_1d(y, warn=True)\n",
      "C:\\Users\\DELL\\anaconda3\\lib\\site-packages\\sklearn\\utils\\validation.py:1143: DataConversionWarning: A column-vector y was passed when a 1d array was expected. Please change the shape of y to (n_samples, ), for example using ravel().\n",
      "  y = column_or_1d(y, warn=True)\n",
      "C:\\Users\\DELL\\anaconda3\\lib\\site-packages\\sklearn\\utils\\validation.py:1143: DataConversionWarning: A column-vector y was passed when a 1d array was expected. Please change the shape of y to (n_samples, ), for example using ravel().\n",
      "  y = column_or_1d(y, warn=True)\n",
      "C:\\Users\\DELL\\anaconda3\\lib\\site-packages\\sklearn\\utils\\validation.py:1143: DataConversionWarning: A column-vector y was passed when a 1d array was expected. Please change the shape of y to (n_samples, ), for example using ravel().\n",
      "  y = column_or_1d(y, warn=True)\n",
      "C:\\Users\\DELL\\anaconda3\\lib\\site-packages\\sklearn\\utils\\validation.py:1143: DataConversionWarning: A column-vector y was passed when a 1d array was expected. Please change the shape of y to (n_samples, ), for example using ravel().\n",
      "  y = column_or_1d(y, warn=True)\n",
      "C:\\Users\\DELL\\anaconda3\\lib\\site-packages\\sklearn\\utils\\validation.py:1143: DataConversionWarning: A column-vector y was passed when a 1d array was expected. Please change the shape of y to (n_samples, ), for example using ravel().\n",
      "  y = column_or_1d(y, warn=True)\n",
      "C:\\Users\\DELL\\anaconda3\\lib\\site-packages\\sklearn\\utils\\validation.py:1143: DataConversionWarning: A column-vector y was passed when a 1d array was expected. Please change the shape of y to (n_samples, ), for example using ravel().\n",
      "  y = column_or_1d(y, warn=True)\n"
     ]
    },
    {
     "name": "stdout",
     "output_type": "stream",
     "text": [
      "Meilleurs paramètres: {'regressor__C': 10, 'regressor__gamma': 'scale', 'regressor__kernel': 'rbf'}\n"
     ]
    }
   ],
   "source": [
    "svr_reg = Pipeline(steps=[\n",
    "    ('preprocessor', preprocessor),\n",
    "    (\"regressor\", SVR())\n",
    "])\n",
    "\n",
    "# Définir la grille des paramètres à rechercher\n",
    "param_grid = {\n",
    "    'regressor__kernel': ['linear', 'rbf'],\n",
    "    'regressor__C': [0.1, 1, 10],\n",
    "    'regressor__gamma': ['scale', 'auto']\n",
    "}\n",
    "\n",
    "# Créer l'objet GridSearchCV\n",
    "grid_search = GridSearchCV(estimator=svr_reg, param_grid=param_grid, cv=5, scoring='r2')\n",
    "\n",
    "# Exécuter la recherche sur la grille\n",
    "grid_search.fit(X_train, y_train)\n",
    "\n",
    "# Afficher les meilleurs paramètres\n",
    "best_params = grid_search.best_params_\n",
    "print(\"Meilleurs paramètres:\", best_params)"
   ]
  },
  {
   "cell_type": "code",
   "execution_count": 181,
   "id": "3ed15e3b-a5eb-486f-a35c-6667608e905c",
   "metadata": {},
   "outputs": [
    {
     "name": "stderr",
     "output_type": "stream",
     "text": [
      "C:\\Users\\DELL\\anaconda3\\lib\\site-packages\\sklearn\\utils\\validation.py:1143: DataConversionWarning: A column-vector y was passed when a 1d array was expected. Please change the shape of y to (n_samples, ), for example using ravel().\n",
      "  y = column_or_1d(y, warn=True)\n"
     ]
    },
    {
     "data": {
      "text/html": [
       "<div>\n",
       "<style scoped>\n",
       "    .dataframe tbody tr th:only-of-type {\n",
       "        vertical-align: middle;\n",
       "    }\n",
       "\n",
       "    .dataframe tbody tr th {\n",
       "        vertical-align: top;\n",
       "    }\n",
       "\n",
       "    .dataframe thead th {\n",
       "        text-align: right;\n",
       "    }\n",
       "</style>\n",
       "<table border=\"1\" class=\"dataframe\">\n",
       "  <thead>\n",
       "    <tr style=\"text-align: right;\">\n",
       "      <th></th>\n",
       "      <th>metric</th>\n",
       "      <th>train</th>\n",
       "      <th>test</th>\n",
       "    </tr>\n",
       "  </thead>\n",
       "  <tbody>\n",
       "    <tr>\n",
       "      <th>0</th>\n",
       "      <td>r2_score</td>\n",
       "      <td>0.903230</td>\n",
       "      <td>0.870426</td>\n",
       "    </tr>\n",
       "    <tr>\n",
       "      <th>1</th>\n",
       "      <td>mean_squared_error</td>\n",
       "      <td>0.149339</td>\n",
       "      <td>0.210587</td>\n",
       "    </tr>\n",
       "    <tr>\n",
       "      <th>2</th>\n",
       "      <td>mean_absolute_percentage_error</td>\n",
       "      <td>0.018663</td>\n",
       "      <td>0.022410</td>\n",
       "    </tr>\n",
       "    <tr>\n",
       "      <th>3</th>\n",
       "      <td>max_error</td>\n",
       "      <td>2.794815</td>\n",
       "      <td>3.131595</td>\n",
       "    </tr>\n",
       "    <tr>\n",
       "      <th>4</th>\n",
       "      <td>mean_absolute_error</td>\n",
       "      <td>0.269487</td>\n",
       "      <td>0.321970</td>\n",
       "    </tr>\n",
       "  </tbody>\n",
       "</table>\n",
       "</div>"
      ],
      "text/plain": [
       "                           metric     train      test\n",
       "0                        r2_score  0.903230  0.870426\n",
       "1              mean_squared_error  0.149339  0.210587\n",
       "2  mean_absolute_percentage_error  0.018663  0.022410\n",
       "3                       max_error  2.794815  3.131595\n",
       "4             mean_absolute_error  0.269487  0.321970"
      ]
     },
     "execution_count": 181,
     "metadata": {},
     "output_type": "execute_result"
    }
   ],
   "source": [
    "\n",
    "# Entraîner le modèle SVR avec les meilleurs paramètres trouvés\n",
    "svr_best_model = grid_search.best_estimator_\n",
    "svr_best_model.fit(X_train, y_train)\n",
    "\n",
    "# Afficher les performances sur les ensembles d'entraînement et de test\n",
    "get_all_performances(value_train=(y_train, svr_best_model.predict(X_train)),\n",
    "                     values_test=(y_test, svr_best_model.predict(X_test)),\n",
    "                     metrics=METRICS)"
   ]
  },
  {
   "cell_type": "markdown",
   "id": "dcf3e28f-c43c-4199-957a-e3654faa61bb",
   "metadata": {},
   "source": [
    "<p style=\"text-align:justify;font-family:times;font-size:15px\">  Les erreurs sont minimisés et la part de variance expliquée encore plus grande autant sur les jeux d'entrainement que de test. </p>"
   ]
  },
  {
   "cell_type": "markdown",
   "id": "e0650034-7ce9-4609-9bc6-c0af59a3137a",
   "metadata": {},
   "source": [
    "<h4 style=\"text-align:justify;color:red;font-size:20px;font-family:Roboto\">7. Comparaison des modèles</h4>"
   ]
  },
  {
   "cell_type": "markdown",
   "id": "7ee2f3f7-d900-4cf8-a560-8b9ef789c491",
   "metadata": {},
   "source": [
    "<p style=\"text-align:justify;font-family:times;font-size:15px\"> Passons en revue les différents meilleurs modèles obtenues avec leur score </p>"
   ]
  },
  {
   "cell_type": "code",
   "execution_count": 183,
   "id": "f3658f80-8884-49b8-b703-01dbd10b90d9",
   "metadata": {},
   "outputs": [
    {
     "name": "stdout",
     "output_type": "stream",
     "text": [
      "Model: SVR\n",
      "                           metric     train      test\n",
      "0                        r2_score  0.903230  0.870426\n",
      "1              mean_squared_error  0.149339  0.210587\n",
      "2  mean_absolute_percentage_error  0.018663  0.022410\n",
      "3                       max_error  2.794815  3.131595\n",
      "4             mean_absolute_error  0.269487  0.321970\n",
      "\n",
      "\n",
      "Model: XGBoost\n",
      "                           metric     train      test\n",
      "0                        r2_score  0.968906  0.900654\n",
      "1              mean_squared_error  0.047985  0.161460\n",
      "2  mean_absolute_percentage_error  0.010421  0.019906\n",
      "3                       max_error  0.964597  2.130011\n",
      "4             mean_absolute_error  0.151647  0.289658\n",
      "\n",
      "\n",
      "Model: Random Forest\n",
      "                           metric     train      test\n",
      "0                        r2_score  0.969054  0.866281\n",
      "1              mean_squared_error  0.047757  0.217323\n",
      "2  mean_absolute_percentage_error  0.010543  0.020435\n",
      "3                       max_error  0.884892  5.096181\n",
      "4             mean_absolute_error  0.154273  0.299542\n",
      "\n",
      "\n",
      "Model: Linear Regression\n",
      "                           metric     train      test\n",
      "0                        r2_score  0.897818  0.876200\n",
      "1              mean_squared_error  0.157691  0.201202\n",
      "2  mean_absolute_percentage_error  0.020505  0.022257\n",
      "3                       max_error  2.483572  3.208325\n",
      "4             mean_absolute_error  0.297023  0.319447\n",
      "\n",
      "\n",
      "Model: ElasticNet\n",
      "                           metric     train      test\n",
      "0                        r2_score  0.632984  0.594060\n",
      "1              mean_squared_error  0.566391  0.659745\n",
      "2  mean_absolute_percentage_error  0.038431  0.041188\n",
      "3                       max_error  4.710104  4.453478\n",
      "4             mean_absolute_error  0.556026  0.588455\n",
      "\n",
      "\n",
      "Model: Decision Tree\n",
      "                           metric     train      test\n",
      "0                        r2_score  0.944956  0.830987\n",
      "1              mean_squared_error  0.084946  0.274684\n",
      "2  mean_absolute_percentage_error  0.014095  0.023558\n",
      "3                       max_error  1.256584  5.053674\n",
      "4             mean_absolute_error  0.205668  0.346220\n",
      "\n",
      "\n"
     ]
    }
   ],
   "source": [
    "models = [svr_best_model, xgb_best_model, rf_best_model, lr_best_model, eln_best_model, dt_best_model]\n",
    "model_names = ['SVR', 'XGBoost', 'Random Forest', 'Linear Regression', 'ElasticNet', 'Decision Tree']\n",
    "\n",
    "for model, model_name in zip(models, model_names):\n",
    "    print(\"Model:\", model_name)\n",
    "    print(get_all_performances(value_train=(y_train, model.predict(X_train)),\n",
    "                                values_test=(y_test, model.predict(X_test)),\n",
    "                                metrics=METRICS))\n",
    "    print(\"\\n\")"
   ]
  },
  {
   "cell_type": "markdown",
   "id": "21e38b43-5b20-4b03-a4ac-6060c592dcd9",
   "metadata": {},
   "source": [
    "<p style=\"text-align:justify;font-family:times;font-size:15px\"> La comparaison de ces modèles nous permet de conclure que le xgboost est le meilleur modèle en terme de variance expliquée et de pourcentage d'erreur tant sur le jeu de données test que celui d'entrainement</p>"
   ]
  },
  {
   "cell_type": "markdown",
   "id": "b8771f17-4397-44de-9eca-b9418cbeb9b1",
   "metadata": {},
   "source": [
    "<h3 style=\"text-align:justify;color:black;font-size:26px;font-family:Georgia\"> B. Modélisation avec EnergyStarSCORE</h3>"
   ]
  },
  {
   "cell_type": "code",
   "execution_count": 203,
   "id": "d8c243ff-57ec-44ad-b30f-3eee4ed60214",
   "metadata": {},
   "outputs": [],
   "source": [
    "data_2 = pd.read_csv(Path(DATA, \"2016_Building_Energy_final.csv\"))"
   ]
  },
  {
   "cell_type": "code",
   "execution_count": 259,
   "id": "7d28ef5e-dae8-4d24-a5a4-684c23c92e60",
   "metadata": {},
   "outputs": [],
   "source": [
    "df_cat = data_2.select_dtypes(include=['object'])\n",
    "\n",
    "# Sélectionnez les colonnes numériques\n",
    "df_num = data_2.select_dtypes(exclude=['object'])\n",
    "\n",
    "# Concaténez les DataFrames dans le bon ordre\n",
    "data_2 = pd.concat([df_cat, df_num], axis=1)\n",
    "X_index = data_2.columns != \"SiteEnergyUse(kBtu)\"  # Récupérer les colonnes différentes de \"SiteEnergyUse(kBtu)\"\n",
    "y_index = data_2.columns == \"SiteEnergyUse(kBtu)\"  # Récupérer la colonne \"SiteEnergyUse(kBtu)\"\n",
    "\n",
    "# Séparer les caractéristiques (X) et la cible (y) en utilisant iloc\n",
    "X = data_2.iloc[:, X_index]\n",
    "y = np.log1p(data_2.iloc[:, y_index])"
   ]
  },
  {
   "cell_type": "code",
   "execution_count": 260,
   "id": "a8a817c1-5582-473d-9458-2891a1f96e22",
   "metadata": {},
   "outputs": [
    {
     "data": {
      "text/plain": [
       "(['BuildingType',\n",
       "  'Neighborhood',\n",
       "  'PrimaryProperty',\n",
       "  'SecondLargest',\n",
       "  'ThirdLargest'],\n",
       " ['PropertyGFAParking',\n",
       "  'PropertyGFABuilding(s)',\n",
       "  'LargestPropertyUseTypeGFA',\n",
       "  'SecondLargestPropertyUseTypeGFA',\n",
       "  'ThirdLargestPropertyUseTypeGFA',\n",
       "  'TotalGHGEmissions',\n",
       "  'YearBuilt',\n",
       "  'NumberofBuildings',\n",
       "  'NumberofFloors',\n",
       "  'NumberOfPropertyUseTypes',\n",
       "  'NombreAnnees'])"
      ]
     },
     "execution_count": 260,
     "metadata": {},
     "output_type": "execute_result"
    }
   ],
   "source": [
    "num_columns =  ['PropertyGFAParking',\n",
    "  'PropertyGFABuilding(s)',\n",
    "  'LargestPropertyUseTypeGFA',\n",
    "  'SecondLargestPropertyUseTypeGFA',\n",
    "  'ThirdLargestPropertyUseTypeGFA',\n",
    "  'TotalGHGEmissions',\n",
    "                'YearBuilt',\n",
    "                'NumberofBuildings',\n",
    "                'NumberofFloors',\n",
    "                'NumberOfPropertyUseTypes',\n",
    "                'NombreAnnees'\n",
    "                           \n",
    "]\n",
    "obj_columns = list(data_2.select_dtypes(include=['object', 'bool']).columns)\n",
    "obj_columns,num_columns"
   ]
  },
  {
   "cell_type": "code",
   "execution_count": 270,
   "id": "2bd83316-896e-49df-b247-2db6742a2629",
   "metadata": {},
   "outputs": [
    {
     "data": {
      "text/plain": [
       "Index(['BuildingType', 'Neighborhood', 'PrimaryProperty', 'SecondLargest',\n",
       "       'ThirdLargest', 'CouncilDistrictCode', 'YearBuilt', 'NumberofBuildings',\n",
       "       'NumberofFloors', 'PropertyGFAParking', 'PropertyGFABuilding(s)',\n",
       "       'LargestPropertyUseTypeGFA', 'SecondLargestPropertyUseTypeGFA',\n",
       "       'ThirdLargestPropertyUseTypeGFA', 'ENERGYSTARScore',\n",
       "       'TotalGHGEmissions', 'NumberOfPropertyUseTypes', 'NombreAnnees'],\n",
       "      dtype='object')"
      ]
     },
     "execution_count": 270,
     "metadata": {},
     "output_type": "execute_result"
    }
   ],
   "source": [
    "X_train.columns"
   ]
  },
  {
   "cell_type": "code",
   "execution_count": 262,
   "id": "21e6fe83-bc0b-4218-847c-3df312694206",
   "metadata": {},
   "outputs": [],
   "source": [
    "X_train,X_test,y_train,y_test=train_test_split(X,y,test_size=0.3,random_state=42)"
   ]
  },
  {
   "cell_type": "code",
   "execution_count": 271,
   "id": "f3d0d906-297f-4064-a392-7abeb4ab61ab",
   "metadata": {},
   "outputs": [
    {
     "data": {
      "text/html": [
       "<style>#sk-container-id-24 {color: black;background-color: white;}#sk-container-id-24 pre{padding: 0;}#sk-container-id-24 div.sk-toggleable {background-color: white;}#sk-container-id-24 label.sk-toggleable__label {cursor: pointer;display: block;width: 100%;margin-bottom: 0;padding: 0.3em;box-sizing: border-box;text-align: center;}#sk-container-id-24 label.sk-toggleable__label-arrow:before {content: \"▸\";float: left;margin-right: 0.25em;color: #696969;}#sk-container-id-24 label.sk-toggleable__label-arrow:hover:before {color: black;}#sk-container-id-24 div.sk-estimator:hover label.sk-toggleable__label-arrow:before {color: black;}#sk-container-id-24 div.sk-toggleable__content {max-height: 0;max-width: 0;overflow: hidden;text-align: left;background-color: #f0f8ff;}#sk-container-id-24 div.sk-toggleable__content pre {margin: 0.2em;color: black;border-radius: 0.25em;background-color: #f0f8ff;}#sk-container-id-24 input.sk-toggleable__control:checked~div.sk-toggleable__content {max-height: 200px;max-width: 100%;overflow: auto;}#sk-container-id-24 input.sk-toggleable__control:checked~label.sk-toggleable__label-arrow:before {content: \"▾\";}#sk-container-id-24 div.sk-estimator input.sk-toggleable__control:checked~label.sk-toggleable__label {background-color: #d4ebff;}#sk-container-id-24 div.sk-label input.sk-toggleable__control:checked~label.sk-toggleable__label {background-color: #d4ebff;}#sk-container-id-24 input.sk-hidden--visually {border: 0;clip: rect(1px 1px 1px 1px);clip: rect(1px, 1px, 1px, 1px);height: 1px;margin: -1px;overflow: hidden;padding: 0;position: absolute;width: 1px;}#sk-container-id-24 div.sk-estimator {font-family: monospace;background-color: #f0f8ff;border: 1px dotted black;border-radius: 0.25em;box-sizing: border-box;margin-bottom: 0.5em;}#sk-container-id-24 div.sk-estimator:hover {background-color: #d4ebff;}#sk-container-id-24 div.sk-parallel-item::after {content: \"\";width: 100%;border-bottom: 1px solid gray;flex-grow: 1;}#sk-container-id-24 div.sk-label:hover label.sk-toggleable__label {background-color: #d4ebff;}#sk-container-id-24 div.sk-serial::before {content: \"\";position: absolute;border-left: 1px solid gray;box-sizing: border-box;top: 0;bottom: 0;left: 50%;z-index: 0;}#sk-container-id-24 div.sk-serial {display: flex;flex-direction: column;align-items: center;background-color: white;padding-right: 0.2em;padding-left: 0.2em;position: relative;}#sk-container-id-24 div.sk-item {position: relative;z-index: 1;}#sk-container-id-24 div.sk-parallel {display: flex;align-items: stretch;justify-content: center;background-color: white;position: relative;}#sk-container-id-24 div.sk-item::before, #sk-container-id-24 div.sk-parallel-item::before {content: \"\";position: absolute;border-left: 1px solid gray;box-sizing: border-box;top: 0;bottom: 0;left: 50%;z-index: -1;}#sk-container-id-24 div.sk-parallel-item {display: flex;flex-direction: column;z-index: 1;position: relative;background-color: white;}#sk-container-id-24 div.sk-parallel-item:first-child::after {align-self: flex-end;width: 50%;}#sk-container-id-24 div.sk-parallel-item:last-child::after {align-self: flex-start;width: 50%;}#sk-container-id-24 div.sk-parallel-item:only-child::after {width: 0;}#sk-container-id-24 div.sk-dashed-wrapped {border: 1px dashed gray;margin: 0 0.4em 0.5em 0.4em;box-sizing: border-box;padding-bottom: 0.4em;background-color: white;}#sk-container-id-24 div.sk-label label {font-family: monospace;font-weight: bold;display: inline-block;line-height: 1.2em;}#sk-container-id-24 div.sk-label-container {text-align: center;}#sk-container-id-24 div.sk-container {/* jupyter's `normalize.less` sets `[hidden] { display: none; }` but bootstrap.min.css set `[hidden] { display: none !important; }` so we also need the `!important` here to be able to override the default hidden behavior on the sphinx rendered scikit-learn.org. See: https://github.com/scikit-learn/scikit-learn/issues/21755 */display: inline-block !important;position: relative;}#sk-container-id-24 div.sk-text-repr-fallback {display: none;}</style><div id=\"sk-container-id-24\" class=\"sk-top-container\"><div class=\"sk-text-repr-fallback\"><pre>Pipeline(steps=[(&#x27;preprocessor&#x27;,\n",
       "                 ColumnTransformer(transformers=[(&#x27;cat&#x27;,\n",
       "                                                  Pipeline(steps=[(&#x27;onehot&#x27;,\n",
       "                                                                   OneHotEncoder(handle_unknown=&#x27;ignore&#x27;))]),\n",
       "                                                  [&#x27;BuildingType&#x27;,\n",
       "                                                   &#x27;Neighborhood&#x27;,\n",
       "                                                   &#x27;PrimaryProperty&#x27;,\n",
       "                                                   &#x27;SecondLargest&#x27;,\n",
       "                                                   &#x27;ThirdLargest&#x27;]),\n",
       "                                                 (&#x27;num&#x27;,\n",
       "                                                  Pipeline(steps=[(&#x27;log1p&#x27;,\n",
       "                                                                   FunctionTransformer(func=&lt;ufunc &#x27;log1p&#x27;&gt;))]),\n",
       "                                                  [&#x27;PropertyGFAParking&#x27;,\n",
       "                                                   &#x27;PropertyGFABuilding(s)&#x27;,\n",
       "                                                   &#x27;LargestPropertyUseTypeGFA&#x27;,\n",
       "                                                   &#x27;SecondLargestPropertyUseTypeGFA&#x27;,\n",
       "                                                   &#x27;ThirdLargestPropertyUseTypeGFA&#x27;,\n",
       "                                                   &#x27;TotalGHGEmissions&#x27;,\n",
       "                                                   &#x27;YearBuilt&#x27;,\n",
       "                                                   &#x27;NumberofBuildings&#x27;,\n",
       "                                                   &#x27;NumberofFloors&#x27;,\n",
       "                                                   &#x27;NumberOfPropertyUseTypes&#x27;,\n",
       "                                                   &#x27;NombreAnnees&#x27;]),\n",
       "                                                 (&#x27;impute&#x27;,\n",
       "                                                  Pipeline(steps=[(&#x27;imputer&#x27;,\n",
       "                                                                   KNNImputer())]),\n",
       "                                                  [&#x27;ENERGYSTARScore&#x27;])]))])</pre><b>In a Jupyter environment, please rerun this cell to show the HTML representation or trust the notebook. <br />On GitHub, the HTML representation is unable to render, please try loading this page with nbviewer.org.</b></div><div class=\"sk-container\" hidden><div class=\"sk-item sk-dashed-wrapped\"><div class=\"sk-label-container\"><div class=\"sk-label sk-toggleable\"><input class=\"sk-toggleable__control sk-hidden--visually\" id=\"sk-estimator-id-202\" type=\"checkbox\" ><label for=\"sk-estimator-id-202\" class=\"sk-toggleable__label sk-toggleable__label-arrow\">Pipeline</label><div class=\"sk-toggleable__content\"><pre>Pipeline(steps=[(&#x27;preprocessor&#x27;,\n",
       "                 ColumnTransformer(transformers=[(&#x27;cat&#x27;,\n",
       "                                                  Pipeline(steps=[(&#x27;onehot&#x27;,\n",
       "                                                                   OneHotEncoder(handle_unknown=&#x27;ignore&#x27;))]),\n",
       "                                                  [&#x27;BuildingType&#x27;,\n",
       "                                                   &#x27;Neighborhood&#x27;,\n",
       "                                                   &#x27;PrimaryProperty&#x27;,\n",
       "                                                   &#x27;SecondLargest&#x27;,\n",
       "                                                   &#x27;ThirdLargest&#x27;]),\n",
       "                                                 (&#x27;num&#x27;,\n",
       "                                                  Pipeline(steps=[(&#x27;log1p&#x27;,\n",
       "                                                                   FunctionTransformer(func=&lt;ufunc &#x27;log1p&#x27;&gt;))]),\n",
       "                                                  [&#x27;PropertyGFAParking&#x27;,\n",
       "                                                   &#x27;PropertyGFABuilding(s)&#x27;,\n",
       "                                                   &#x27;LargestPropertyUseTypeGFA&#x27;,\n",
       "                                                   &#x27;SecondLargestPropertyUseTypeGFA&#x27;,\n",
       "                                                   &#x27;ThirdLargestPropertyUseTypeGFA&#x27;,\n",
       "                                                   &#x27;TotalGHGEmissions&#x27;,\n",
       "                                                   &#x27;YearBuilt&#x27;,\n",
       "                                                   &#x27;NumberofBuildings&#x27;,\n",
       "                                                   &#x27;NumberofFloors&#x27;,\n",
       "                                                   &#x27;NumberOfPropertyUseTypes&#x27;,\n",
       "                                                   &#x27;NombreAnnees&#x27;]),\n",
       "                                                 (&#x27;impute&#x27;,\n",
       "                                                  Pipeline(steps=[(&#x27;imputer&#x27;,\n",
       "                                                                   KNNImputer())]),\n",
       "                                                  [&#x27;ENERGYSTARScore&#x27;])]))])</pre></div></div></div><div class=\"sk-serial\"><div class=\"sk-item sk-dashed-wrapped\"><div class=\"sk-label-container\"><div class=\"sk-label sk-toggleable\"><input class=\"sk-toggleable__control sk-hidden--visually\" id=\"sk-estimator-id-203\" type=\"checkbox\" ><label for=\"sk-estimator-id-203\" class=\"sk-toggleable__label sk-toggleable__label-arrow\">preprocessor: ColumnTransformer</label><div class=\"sk-toggleable__content\"><pre>ColumnTransformer(transformers=[(&#x27;cat&#x27;,\n",
       "                                 Pipeline(steps=[(&#x27;onehot&#x27;,\n",
       "                                                  OneHotEncoder(handle_unknown=&#x27;ignore&#x27;))]),\n",
       "                                 [&#x27;BuildingType&#x27;, &#x27;Neighborhood&#x27;,\n",
       "                                  &#x27;PrimaryProperty&#x27;, &#x27;SecondLargest&#x27;,\n",
       "                                  &#x27;ThirdLargest&#x27;]),\n",
       "                                (&#x27;num&#x27;,\n",
       "                                 Pipeline(steps=[(&#x27;log1p&#x27;,\n",
       "                                                  FunctionTransformer(func=&lt;ufunc &#x27;log1p&#x27;&gt;))]),\n",
       "                                 [&#x27;PropertyGFAParking&#x27;,\n",
       "                                  &#x27;PropertyGFABuilding(s)&#x27;,\n",
       "                                  &#x27;LargestPropertyUseTypeGFA&#x27;,\n",
       "                                  &#x27;SecondLargestPropertyUseTypeGFA&#x27;,\n",
       "                                  &#x27;ThirdLargestPropertyUseTypeGFA&#x27;,\n",
       "                                  &#x27;TotalGHGEmissions&#x27;, &#x27;YearBuilt&#x27;,\n",
       "                                  &#x27;NumberofBuildings&#x27;, &#x27;NumberofFloors&#x27;,\n",
       "                                  &#x27;NumberOfPropertyUseTypes&#x27;, &#x27;NombreAnnees&#x27;]),\n",
       "                                (&#x27;impute&#x27;,\n",
       "                                 Pipeline(steps=[(&#x27;imputer&#x27;, KNNImputer())]),\n",
       "                                 [&#x27;ENERGYSTARScore&#x27;])])</pre></div></div></div><div class=\"sk-parallel\"><div class=\"sk-parallel-item\"><div class=\"sk-item\"><div class=\"sk-label-container\"><div class=\"sk-label sk-toggleable\"><input class=\"sk-toggleable__control sk-hidden--visually\" id=\"sk-estimator-id-204\" type=\"checkbox\" ><label for=\"sk-estimator-id-204\" class=\"sk-toggleable__label sk-toggleable__label-arrow\">cat</label><div class=\"sk-toggleable__content\"><pre>[&#x27;BuildingType&#x27;, &#x27;Neighborhood&#x27;, &#x27;PrimaryProperty&#x27;, &#x27;SecondLargest&#x27;, &#x27;ThirdLargest&#x27;]</pre></div></div></div><div class=\"sk-serial\"><div class=\"sk-item\"><div class=\"sk-serial\"><div class=\"sk-item\"><div class=\"sk-estimator sk-toggleable\"><input class=\"sk-toggleable__control sk-hidden--visually\" id=\"sk-estimator-id-205\" type=\"checkbox\" ><label for=\"sk-estimator-id-205\" class=\"sk-toggleable__label sk-toggleable__label-arrow\">OneHotEncoder</label><div class=\"sk-toggleable__content\"><pre>OneHotEncoder(handle_unknown=&#x27;ignore&#x27;)</pre></div></div></div></div></div></div></div></div><div class=\"sk-parallel-item\"><div class=\"sk-item\"><div class=\"sk-label-container\"><div class=\"sk-label sk-toggleable\"><input class=\"sk-toggleable__control sk-hidden--visually\" id=\"sk-estimator-id-206\" type=\"checkbox\" ><label for=\"sk-estimator-id-206\" class=\"sk-toggleable__label sk-toggleable__label-arrow\">num</label><div class=\"sk-toggleable__content\"><pre>[&#x27;PropertyGFAParking&#x27;, &#x27;PropertyGFABuilding(s)&#x27;, &#x27;LargestPropertyUseTypeGFA&#x27;, &#x27;SecondLargestPropertyUseTypeGFA&#x27;, &#x27;ThirdLargestPropertyUseTypeGFA&#x27;, &#x27;TotalGHGEmissions&#x27;, &#x27;YearBuilt&#x27;, &#x27;NumberofBuildings&#x27;, &#x27;NumberofFloors&#x27;, &#x27;NumberOfPropertyUseTypes&#x27;, &#x27;NombreAnnees&#x27;]</pre></div></div></div><div class=\"sk-serial\"><div class=\"sk-item\"><div class=\"sk-serial\"><div class=\"sk-item\"><div class=\"sk-estimator sk-toggleable\"><input class=\"sk-toggleable__control sk-hidden--visually\" id=\"sk-estimator-id-207\" type=\"checkbox\" ><label for=\"sk-estimator-id-207\" class=\"sk-toggleable__label sk-toggleable__label-arrow\">FunctionTransformer</label><div class=\"sk-toggleable__content\"><pre>FunctionTransformer(func=&lt;ufunc &#x27;log1p&#x27;&gt;)</pre></div></div></div></div></div></div></div></div><div class=\"sk-parallel-item\"><div class=\"sk-item\"><div class=\"sk-label-container\"><div class=\"sk-label sk-toggleable\"><input class=\"sk-toggleable__control sk-hidden--visually\" id=\"sk-estimator-id-208\" type=\"checkbox\" ><label for=\"sk-estimator-id-208\" class=\"sk-toggleable__label sk-toggleable__label-arrow\">impute</label><div class=\"sk-toggleable__content\"><pre>[&#x27;ENERGYSTARScore&#x27;]</pre></div></div></div><div class=\"sk-serial\"><div class=\"sk-item\"><div class=\"sk-serial\"><div class=\"sk-item\"><div class=\"sk-estimator sk-toggleable\"><input class=\"sk-toggleable__control sk-hidden--visually\" id=\"sk-estimator-id-209\" type=\"checkbox\" ><label for=\"sk-estimator-id-209\" class=\"sk-toggleable__label sk-toggleable__label-arrow\">KNNImputer</label><div class=\"sk-toggleable__content\"><pre>KNNImputer()</pre></div></div></div></div></div></div></div></div></div></div></div></div></div></div>"
      ],
      "text/plain": [
       "Pipeline(steps=[('preprocessor',\n",
       "                 ColumnTransformer(transformers=[('cat',\n",
       "                                                  Pipeline(steps=[('onehot',\n",
       "                                                                   OneHotEncoder(handle_unknown='ignore'))]),\n",
       "                                                  ['BuildingType',\n",
       "                                                   'Neighborhood',\n",
       "                                                   'PrimaryProperty',\n",
       "                                                   'SecondLargest',\n",
       "                                                   'ThirdLargest']),\n",
       "                                                 ('num',\n",
       "                                                  Pipeline(steps=[('log1p',\n",
       "                                                                   FunctionTransformer(func=<ufunc 'log1p'>))]),\n",
       "                                                  ['PropertyGFAParking',\n",
       "                                                   'PropertyGFABuilding(s)',\n",
       "                                                   'LargestPropertyUseTypeGFA',\n",
       "                                                   'SecondLargestPropertyUseTypeGFA',\n",
       "                                                   'ThirdLargestPropertyUseTypeGFA',\n",
       "                                                   'TotalGHGEmissions',\n",
       "                                                   'YearBuilt',\n",
       "                                                   'NumberofBuildings',\n",
       "                                                   'NumberofFloors',\n",
       "                                                   'NumberOfPropertyUseTypes',\n",
       "                                                   'NombreAnnees']),\n",
       "                                                 ('impute',\n",
       "                                                  Pipeline(steps=[('imputer',\n",
       "                                                                   KNNImputer())]),\n",
       "                                                  ['ENERGYSTARScore'])]))])"
      ]
     },
     "execution_count": 271,
     "metadata": {},
     "output_type": "execute_result"
    }
   ],
   "source": [
    "from sklearn.impute import KNNImputer\n",
    "\n",
    "# Ajout d'un imputeur KNN pour la variable EnergyStarScore\n",
    "imputer_transformer = Pipeline(steps=[\n",
    "    ('imputer', KNNImputer(n_neighbors=5))  # Vous pouvez ajuster le nombre de voisins selon votre besoin\n",
    "])\n",
    "\n",
    "# Ajout de l'imputation KNN dans le préprocesseur existant\n",
    "preprocessor = ColumnTransformer(\n",
    "    transformers=[\n",
    "        ('cat', categorical_transformer, obj_columns),\n",
    "        ('num', numeric_transformer, num_columns),\n",
    "        ('impute', imputer_transformer, ['ENERGYSTARScore'])  # Traitement spécifique pour EnergyStarScore\n",
    "    ]\n",
    ")\n",
    "\n",
    "# Création du pipeline final avec le préprocesseur\n",
    "final_pipeline = Pipeline(steps=[\n",
    "    ('preprocessor', preprocessor)\n",
    "])\n",
    "final_pipeline"
   ]
  },
  {
   "cell_type": "markdown",
   "id": "1027d5dd-be8c-4b44-b74a-90507e0318d5",
   "metadata": {},
   "source": [
    "<h4 style=\"text-align:justify;color:red;font-size:20px;font-family:Roboto\">1. LinearRegression</h4>"
   ]
  },
  {
   "cell_type": "code",
   "execution_count": 282,
   "id": "53a36c0c-2891-4c29-8027-d0aae99aa7d6",
   "metadata": {},
   "outputs": [
    {
     "name": "stdout",
     "output_type": "stream",
     "text": [
      "Model error: SiteEnergyUse(kBtu)    0.20335\n",
      "dtype: float64\n"
     ]
    },
    {
     "name": "stderr",
     "output_type": "stream",
     "text": [
      "C:\\Users\\DELL\\anaconda3\\lib\\site-packages\\numpy\\core\\fromnumeric.py:3472: FutureWarning: In a future version, DataFrame.mean(axis=None) will return a scalar mean over the entire DataFrame. To retain the old behavior, use 'frame.mean(axis=0)' or just 'frame.mean()'\n",
      "  return mean(axis=axis, dtype=dtype, out=out, **kwargs)\n",
      "C:\\Users\\DELL\\anaconda3\\lib\\site-packages\\numpy\\core\\fromnumeric.py:3472: FutureWarning: In a future version, DataFrame.mean(axis=None) will return a scalar mean over the entire DataFrame. To retain the old behavior, use 'frame.mean(axis=0)' or just 'frame.mean()'\n",
      "  return mean(axis=axis, dtype=dtype, out=out, **kwargs)\n"
     ]
    },
    {
     "data": {
      "text/html": [
       "<div>\n",
       "<style scoped>\n",
       "    .dataframe tbody tr th:only-of-type {\n",
       "        vertical-align: middle;\n",
       "    }\n",
       "\n",
       "    .dataframe tbody tr th {\n",
       "        vertical-align: top;\n",
       "    }\n",
       "\n",
       "    .dataframe thead th {\n",
       "        text-align: right;\n",
       "    }\n",
       "</style>\n",
       "<table border=\"1\" class=\"dataframe\">\n",
       "  <thead>\n",
       "    <tr style=\"text-align: right;\">\n",
       "      <th></th>\n",
       "      <th>metric</th>\n",
       "      <th>train</th>\n",
       "      <th>test</th>\n",
       "    </tr>\n",
       "  </thead>\n",
       "  <tbody>\n",
       "    <tr>\n",
       "      <th>0</th>\n",
       "      <td>r2_score</td>\n",
       "      <td>0.893773</td>\n",
       "      <td>0.874880</td>\n",
       "    </tr>\n",
       "    <tr>\n",
       "      <th>1</th>\n",
       "      <td>mean_squared_error</td>\n",
       "      <td>0.163933</td>\n",
       "      <td>0.203349</td>\n",
       "    </tr>\n",
       "    <tr>\n",
       "      <th>2</th>\n",
       "      <td>mean_absolute_percentage_error</td>\n",
       "      <td>0.020939</td>\n",
       "      <td>0.022297</td>\n",
       "    </tr>\n",
       "    <tr>\n",
       "      <th>3</th>\n",
       "      <td>max_error</td>\n",
       "      <td>2.548878</td>\n",
       "      <td>3.170357</td>\n",
       "    </tr>\n",
       "    <tr>\n",
       "      <th>4</th>\n",
       "      <td>mean_absolute_error</td>\n",
       "      <td>0.303263</td>\n",
       "      <td>0.320138</td>\n",
       "    </tr>\n",
       "  </tbody>\n",
       "</table>\n",
       "</div>"
      ],
      "text/plain": [
       "                           metric     train      test\n",
       "0                        r2_score  0.893773  0.874880\n",
       "1              mean_squared_error  0.163933  0.203349\n",
       "2  mean_absolute_percentage_error  0.020939  0.022297\n",
       "3                       max_error  2.548878  3.170357\n",
       "4             mean_absolute_error  0.303263  0.320138"
      ]
     },
     "execution_count": 282,
     "metadata": {},
     "output_type": "execute_result"
    }
   ],
   "source": [
    "rfe_pipe = Pipeline([\n",
    "    (\"preprocess\", final_pipeline),\n",
    "    (\"feature_selection\", RFE(estimator=linear_model.LinearRegression(), n_features_to_select=27)),\n",
    "    (\"regressor\", linear_model.LinearRegression())\n",
    "])\n",
    "rfe_results = train_model(model=rfe_pipe, x_train=X_train, y_train=y_train, x_test=X_test, y_test=y_test)\n",
    "rfe_pipe = rfe_results[\"estimator\"]\n",
    "# Afficher les performances sur les ensembles d'entraînement et de test\n",
    "get_all_performances(value_train=(y_train, rfe_pipe.predict(X_train)),\n",
    "                     values_test=(y_test, rfe_pipe.predict(X_test)),\n",
    "                     metrics=METRICS)"
   ]
  },
  {
   "cell_type": "markdown",
   "id": "fda11bb6-923e-4aa3-b123-572e6295b1a9",
   "metadata": {},
   "source": [
    "<p style=\"text-align:justify;font-family:times;font-size:15px\"> Ci dessus. Nous avons entrainé notre modèle en tenant compte de la présence de ENERGYSTARScore mais également en ne sélectionnant que les 10 variables qui apportent assez dans la détermination de notre variable cible. Et les résultats sont assez convaincants avec une part de variance expliquée assez élevée. Egalement les erreurs effectuées aussi bien sur le test que sur le score sont acceptables.  Cependant plus on réduit les variables moins est la performance du modèle. En effet le modèle sans élimination des variables nous avait donné ceci</p>"
   ]
  },
  {
   "cell_type": "code",
   "execution_count": 279,
   "id": "e294c87c-51f3-46fe-8c2f-6e757d1adcc6",
   "metadata": {},
   "outputs": [
    {
     "data": {
      "text/html": [
       "<div>\n",
       "<style scoped>\n",
       "    .dataframe tbody tr th:only-of-type {\n",
       "        vertical-align: middle;\n",
       "    }\n",
       "\n",
       "    .dataframe tbody tr th {\n",
       "        vertical-align: top;\n",
       "    }\n",
       "\n",
       "    .dataframe thead th {\n",
       "        text-align: right;\n",
       "    }\n",
       "</style>\n",
       "<table border=\"1\" class=\"dataframe\">\n",
       "  <thead>\n",
       "    <tr style=\"text-align: right;\">\n",
       "      <th></th>\n",
       "      <th>metric</th>\n",
       "      <th>train</th>\n",
       "      <th>test</th>\n",
       "    </tr>\n",
       "  </thead>\n",
       "  <tbody>\n",
       "    <tr>\n",
       "      <th>0</th>\n",
       "      <td>r2_score</td>\n",
       "      <td>0.911029</td>\n",
       "      <td>0.892809</td>\n",
       "    </tr>\n",
       "    <tr>\n",
       "      <th>1</th>\n",
       "      <td>mean_squared_error</td>\n",
       "      <td>0.137302</td>\n",
       "      <td>0.174210</td>\n",
       "    </tr>\n",
       "    <tr>\n",
       "      <th>2</th>\n",
       "      <td>mean_absolute_percentage_error</td>\n",
       "      <td>0.018605</td>\n",
       "      <td>0.020489</td>\n",
       "    </tr>\n",
       "    <tr>\n",
       "      <th>3</th>\n",
       "      <td>max_error</td>\n",
       "      <td>2.590801</td>\n",
       "      <td>2.760107</td>\n",
       "    </tr>\n",
       "    <tr>\n",
       "      <th>4</th>\n",
       "      <td>mean_absolute_error</td>\n",
       "      <td>0.269881</td>\n",
       "      <td>0.294008</td>\n",
       "    </tr>\n",
       "  </tbody>\n",
       "</table>\n",
       "</div>"
      ],
      "text/plain": [
       "                           metric     train      test\n",
       "0                        r2_score  0.911029  0.892809\n",
       "1              mean_squared_error  0.137302  0.174210\n",
       "2  mean_absolute_percentage_error  0.018605  0.020489\n",
       "3                       max_error  2.590801  2.760107\n",
       "4             mean_absolute_error  0.269881  0.294008"
      ]
     },
     "execution_count": 279,
     "metadata": {},
     "output_type": "execute_result"
    }
   ],
   "source": [
    "lr = lr_results[\"estimator\"]\n",
    "get_all_performances(value_train=(y_train, lr.predict(X_train)),\n",
    "                     values_test=(y_test, lr.predict(X_test)),\n",
    "                     metrics=METRICS\n",
    "                    )"
   ]
  },
  {
   "cell_type": "markdown",
   "id": "22bfb7aa-e16a-4981-93c3-1140bacbcbf1",
   "metadata": {},
   "source": [
    "<p style=\"text-align:justify;font-family:times;font-size:15px\"> En intégrant l'EnergyStarScore, la performance de ce modèle s'améliore nettement à mesure qu'on utilise toutes les variables. </p>"
   ]
  },
  {
   "cell_type": "markdown",
   "id": "4935a7e7-dfcc-43d1-8e2c-44f965457af9",
   "metadata": {},
   "source": [
    "<h4 style=\"text-align:justify;color:red;font-size:20px;font-family:Roboto\">2. XGBoost</h4>"
   ]
  },
  {
   "cell_type": "code",
   "execution_count": 298,
   "id": "18093c40-722a-4b15-ba76-6c678eca4078",
   "metadata": {},
   "outputs": [
    {
     "name": "stderr",
     "output_type": "stream",
     "text": [
      "C:\\Users\\DELL\\anaconda3\\lib\\site-packages\\numpy\\core\\fromnumeric.py:3472: FutureWarning: In a future version, DataFrame.mean(axis=None) will return a scalar mean over the entire DataFrame. To retain the old behavior, use 'frame.mean(axis=0)' or just 'frame.mean()'\n",
      "  return mean(axis=axis, dtype=dtype, out=out, **kwargs)\n",
      "C:\\Users\\DELL\\anaconda3\\lib\\site-packages\\numpy\\core\\fromnumeric.py:3472: FutureWarning: In a future version, DataFrame.mean(axis=None) will return a scalar mean over the entire DataFrame. To retain the old behavior, use 'frame.mean(axis=0)' or just 'frame.mean()'\n",
      "  return mean(axis=axis, dtype=dtype, out=out, **kwargs)\n"
     ]
    },
    {
     "name": "stdout",
     "output_type": "stream",
     "text": [
      "Model error: SiteEnergyUse(kBtu)    0.15542\n",
      "dtype: float64\n"
     ]
    },
    {
     "data": {
      "text/html": [
       "<div>\n",
       "<style scoped>\n",
       "    .dataframe tbody tr th:only-of-type {\n",
       "        vertical-align: middle;\n",
       "    }\n",
       "\n",
       "    .dataframe tbody tr th {\n",
       "        vertical-align: top;\n",
       "    }\n",
       "\n",
       "    .dataframe thead th {\n",
       "        text-align: right;\n",
       "    }\n",
       "</style>\n",
       "<table border=\"1\" class=\"dataframe\">\n",
       "  <thead>\n",
       "    <tr style=\"text-align: right;\">\n",
       "      <th></th>\n",
       "      <th>metric</th>\n",
       "      <th>train</th>\n",
       "      <th>test</th>\n",
       "    </tr>\n",
       "  </thead>\n",
       "  <tbody>\n",
       "    <tr>\n",
       "      <th>0</th>\n",
       "      <td>r2_score</td>\n",
       "      <td>0.997824</td>\n",
       "      <td>0.904372</td>\n",
       "    </tr>\n",
       "    <tr>\n",
       "      <th>1</th>\n",
       "      <td>mean_squared_error</td>\n",
       "      <td>0.003359</td>\n",
       "      <td>0.155418</td>\n",
       "    </tr>\n",
       "    <tr>\n",
       "      <th>2</th>\n",
       "      <td>mean_absolute_percentage_error</td>\n",
       "      <td>0.002533</td>\n",
       "      <td>0.019744</td>\n",
       "    </tr>\n",
       "    <tr>\n",
       "      <th>3</th>\n",
       "      <td>max_error</td>\n",
       "      <td>0.344745</td>\n",
       "      <td>1.632287</td>\n",
       "    </tr>\n",
       "    <tr>\n",
       "      <th>4</th>\n",
       "      <td>mean_absolute_error</td>\n",
       "      <td>0.036976</td>\n",
       "      <td>0.287473</td>\n",
       "    </tr>\n",
       "  </tbody>\n",
       "</table>\n",
       "</div>"
      ],
      "text/plain": [
       "                           metric     train      test\n",
       "0                        r2_score  0.997824  0.904372\n",
       "1              mean_squared_error  0.003359  0.155418\n",
       "2  mean_absolute_percentage_error  0.002533  0.019744\n",
       "3                       max_error  0.344745  1.632287\n",
       "4             mean_absolute_error  0.036976  0.287473"
      ]
     },
     "execution_count": 298,
     "metadata": {},
     "output_type": "execute_result"
    }
   ],
   "source": [
    "from xgboost import XGBRegressor  # Importez XGBRegressor\n",
    "\n",
    "\n",
    "rfe_pipe_xgb = Pipeline([\n",
    "    (\"preprocess\", final_pipeline),\n",
    "    (\"feature_selection\", RFE(estimator=XGBRegressor(), n_features_to_select=10)),\n",
    "    (\"regressor\", XGBRegressor())\n",
    "])\n",
    "\n",
    "\n",
    "rfe_results_xgb = train_model(model=rfe_pipe_xgb, x_train=X_train, y_train=y_train, x_test=X_test, y_test=y_test)\n",
    "rfe_pipe_xgb = rfe_results_xgb[\"estimator\"]\n",
    "\n",
    "# Affichez les performances sur les ensembles d'entraînement et de test\n",
    "get_all_performances(value_train=(y_train, rfe_pipe_xgb.predict(X_train)),\n",
    "                     values_test=(y_test, rfe_pipe_xgb.predict(X_test)),\n",
    "                     metrics=METRICS)\n"
   ]
  },
  {
   "cell_type": "markdown",
   "id": "fa66be2e-b4ce-4a65-9441-a24e420acc4d",
   "metadata": {},
   "source": [
    "<p style=\"text-align:justify;font-family:times;font-size:15px\"> Ici, l'intégration de l'EnergyStarScore a augmenté la performance de notre modèle mais avec un risque de surraprentissage. Essayons d'éliminer cela avec une optimisation des hyperparamètres y compris le nombre de variables à sélectionner</p>"
   ]
  },
  {
   "cell_type": "code",
   "execution_count": 299,
   "id": "5b89b040-688f-495c-a987-b71c20423169",
   "metadata": {},
   "outputs": [],
   "source": [
    "param_grid = {\n",
    "    'feature_selection__n_features_to_select': [10,15,20],  # Nombre de caractéristiques à sélectionner\n",
    "    'regressor__n_estimators': [100, 200, 300],  # Nombre d'estimateurs dans XGBoost\n",
    "}\n",
    "\n",
    "# Initialisez GridSearchCV avec votre pipeline et la grille de paramètres\n",
    "grid_search = GridSearchCV(estimator=rfe_pipe_xgb, param_grid=param_grid, scoring='neg_mean_squared_error', cv=5)\n",
    "\n",
    "# Effectuez la recherche sur grille\n",
    "grid_search.fit(X_train, y_train)\n",
    "\n",
    "# Obtenez le meilleur modèle trouvé\n",
    "best_model_xbgrfe = grid_search.best_estimator_"
   ]
  },
  {
   "cell_type": "code",
   "execution_count": 310,
   "id": "f3eaa571-72ff-4a5d-b6c7-f5453224c68d",
   "metadata": {},
   "outputs": [
    {
     "data": {
      "text/html": [
       "<style>#sk-container-id-25 {color: black;background-color: white;}#sk-container-id-25 pre{padding: 0;}#sk-container-id-25 div.sk-toggleable {background-color: white;}#sk-container-id-25 label.sk-toggleable__label {cursor: pointer;display: block;width: 100%;margin-bottom: 0;padding: 0.3em;box-sizing: border-box;text-align: center;}#sk-container-id-25 label.sk-toggleable__label-arrow:before {content: \"▸\";float: left;margin-right: 0.25em;color: #696969;}#sk-container-id-25 label.sk-toggleable__label-arrow:hover:before {color: black;}#sk-container-id-25 div.sk-estimator:hover label.sk-toggleable__label-arrow:before {color: black;}#sk-container-id-25 div.sk-toggleable__content {max-height: 0;max-width: 0;overflow: hidden;text-align: left;background-color: #f0f8ff;}#sk-container-id-25 div.sk-toggleable__content pre {margin: 0.2em;color: black;border-radius: 0.25em;background-color: #f0f8ff;}#sk-container-id-25 input.sk-toggleable__control:checked~div.sk-toggleable__content {max-height: 200px;max-width: 100%;overflow: auto;}#sk-container-id-25 input.sk-toggleable__control:checked~label.sk-toggleable__label-arrow:before {content: \"▾\";}#sk-container-id-25 div.sk-estimator input.sk-toggleable__control:checked~label.sk-toggleable__label {background-color: #d4ebff;}#sk-container-id-25 div.sk-label input.sk-toggleable__control:checked~label.sk-toggleable__label {background-color: #d4ebff;}#sk-container-id-25 input.sk-hidden--visually {border: 0;clip: rect(1px 1px 1px 1px);clip: rect(1px, 1px, 1px, 1px);height: 1px;margin: -1px;overflow: hidden;padding: 0;position: absolute;width: 1px;}#sk-container-id-25 div.sk-estimator {font-family: monospace;background-color: #f0f8ff;border: 1px dotted black;border-radius: 0.25em;box-sizing: border-box;margin-bottom: 0.5em;}#sk-container-id-25 div.sk-estimator:hover {background-color: #d4ebff;}#sk-container-id-25 div.sk-parallel-item::after {content: \"\";width: 100%;border-bottom: 1px solid gray;flex-grow: 1;}#sk-container-id-25 div.sk-label:hover label.sk-toggleable__label {background-color: #d4ebff;}#sk-container-id-25 div.sk-serial::before {content: \"\";position: absolute;border-left: 1px solid gray;box-sizing: border-box;top: 0;bottom: 0;left: 50%;z-index: 0;}#sk-container-id-25 div.sk-serial {display: flex;flex-direction: column;align-items: center;background-color: white;padding-right: 0.2em;padding-left: 0.2em;position: relative;}#sk-container-id-25 div.sk-item {position: relative;z-index: 1;}#sk-container-id-25 div.sk-parallel {display: flex;align-items: stretch;justify-content: center;background-color: white;position: relative;}#sk-container-id-25 div.sk-item::before, #sk-container-id-25 div.sk-parallel-item::before {content: \"\";position: absolute;border-left: 1px solid gray;box-sizing: border-box;top: 0;bottom: 0;left: 50%;z-index: -1;}#sk-container-id-25 div.sk-parallel-item {display: flex;flex-direction: column;z-index: 1;position: relative;background-color: white;}#sk-container-id-25 div.sk-parallel-item:first-child::after {align-self: flex-end;width: 50%;}#sk-container-id-25 div.sk-parallel-item:last-child::after {align-self: flex-start;width: 50%;}#sk-container-id-25 div.sk-parallel-item:only-child::after {width: 0;}#sk-container-id-25 div.sk-dashed-wrapped {border: 1px dashed gray;margin: 0 0.4em 0.5em 0.4em;box-sizing: border-box;padding-bottom: 0.4em;background-color: white;}#sk-container-id-25 div.sk-label label {font-family: monospace;font-weight: bold;display: inline-block;line-height: 1.2em;}#sk-container-id-25 div.sk-label-container {text-align: center;}#sk-container-id-25 div.sk-container {/* jupyter's `normalize.less` sets `[hidden] { display: none; }` but bootstrap.min.css set `[hidden] { display: none !important; }` so we also need the `!important` here to be able to override the default hidden behavior on the sphinx rendered scikit-learn.org. See: https://github.com/scikit-learn/scikit-learn/issues/21755 */display: inline-block !important;position: relative;}#sk-container-id-25 div.sk-text-repr-fallback {display: none;}</style><div id=\"sk-container-id-25\" class=\"sk-top-container\"><div class=\"sk-text-repr-fallback\"><pre>Pipeline(steps=[(&#x27;preprocess&#x27;,\n",
       "                 Pipeline(steps=[(&#x27;preprocessor&#x27;,\n",
       "                                  ColumnTransformer(transformers=[(&#x27;cat&#x27;,\n",
       "                                                                   Pipeline(steps=[(&#x27;onehot&#x27;,\n",
       "                                                                                    OneHotEncoder(handle_unknown=&#x27;ignore&#x27;))]),\n",
       "                                                                   [&#x27;BuildingType&#x27;,\n",
       "                                                                    &#x27;Neighborhood&#x27;,\n",
       "                                                                    &#x27;PrimaryProperty&#x27;,\n",
       "                                                                    &#x27;SecondLargest&#x27;,\n",
       "                                                                    &#x27;ThirdLargest&#x27;]),\n",
       "                                                                  (&#x27;num&#x27;,\n",
       "                                                                   Pipeline(steps=[(&#x27;log1p&#x27;,\n",
       "                                                                                    FunctionTransformer(func=&lt;ufunc &#x27;log1p&#x27;&gt;))]),\n",
       "                                                                   [&#x27;PropertyGFAParking&#x27;,\n",
       "                                                                    &#x27;...\n",
       "                              feature_types=None, gamma=None, grow_policy=None,\n",
       "                              importance_type=None,\n",
       "                              interaction_constraints=None, learning_rate=None,\n",
       "                              max_bin=None, max_cat_threshold=None,\n",
       "                              max_cat_to_onehot=None, max_delta_step=None,\n",
       "                              max_depth=None, max_leaves=None,\n",
       "                              min_child_weight=None, missing=nan,\n",
       "                              monotone_constraints=None, multi_strategy=None,\n",
       "                              n_estimators=100, n_jobs=None,\n",
       "                              num_parallel_tree=None, random_state=None, ...))])</pre><b>In a Jupyter environment, please rerun this cell to show the HTML representation or trust the notebook. <br />On GitHub, the HTML representation is unable to render, please try loading this page with nbviewer.org.</b></div><div class=\"sk-container\" hidden><div class=\"sk-item sk-dashed-wrapped\"><div class=\"sk-label-container\"><div class=\"sk-label sk-toggleable\"><input class=\"sk-toggleable__control sk-hidden--visually\" id=\"sk-estimator-id-210\" type=\"checkbox\" ><label for=\"sk-estimator-id-210\" class=\"sk-toggleable__label sk-toggleable__label-arrow\">Pipeline</label><div class=\"sk-toggleable__content\"><pre>Pipeline(steps=[(&#x27;preprocess&#x27;,\n",
       "                 Pipeline(steps=[(&#x27;preprocessor&#x27;,\n",
       "                                  ColumnTransformer(transformers=[(&#x27;cat&#x27;,\n",
       "                                                                   Pipeline(steps=[(&#x27;onehot&#x27;,\n",
       "                                                                                    OneHotEncoder(handle_unknown=&#x27;ignore&#x27;))]),\n",
       "                                                                   [&#x27;BuildingType&#x27;,\n",
       "                                                                    &#x27;Neighborhood&#x27;,\n",
       "                                                                    &#x27;PrimaryProperty&#x27;,\n",
       "                                                                    &#x27;SecondLargest&#x27;,\n",
       "                                                                    &#x27;ThirdLargest&#x27;]),\n",
       "                                                                  (&#x27;num&#x27;,\n",
       "                                                                   Pipeline(steps=[(&#x27;log1p&#x27;,\n",
       "                                                                                    FunctionTransformer(func=&lt;ufunc &#x27;log1p&#x27;&gt;))]),\n",
       "                                                                   [&#x27;PropertyGFAParking&#x27;,\n",
       "                                                                    &#x27;...\n",
       "                              feature_types=None, gamma=None, grow_policy=None,\n",
       "                              importance_type=None,\n",
       "                              interaction_constraints=None, learning_rate=None,\n",
       "                              max_bin=None, max_cat_threshold=None,\n",
       "                              max_cat_to_onehot=None, max_delta_step=None,\n",
       "                              max_depth=None, max_leaves=None,\n",
       "                              min_child_weight=None, missing=nan,\n",
       "                              monotone_constraints=None, multi_strategy=None,\n",
       "                              n_estimators=100, n_jobs=None,\n",
       "                              num_parallel_tree=None, random_state=None, ...))])</pre></div></div></div><div class=\"sk-serial\"><div class=\"sk-item\"><div class=\"sk-label-container\"><div class=\"sk-label sk-toggleable\"><input class=\"sk-toggleable__control sk-hidden--visually\" id=\"sk-estimator-id-211\" type=\"checkbox\" ><label for=\"sk-estimator-id-211\" class=\"sk-toggleable__label sk-toggleable__label-arrow\">preprocess: Pipeline</label><div class=\"sk-toggleable__content\"><pre>Pipeline(steps=[(&#x27;preprocessor&#x27;,\n",
       "                 ColumnTransformer(transformers=[(&#x27;cat&#x27;,\n",
       "                                                  Pipeline(steps=[(&#x27;onehot&#x27;,\n",
       "                                                                   OneHotEncoder(handle_unknown=&#x27;ignore&#x27;))]),\n",
       "                                                  [&#x27;BuildingType&#x27;,\n",
       "                                                   &#x27;Neighborhood&#x27;,\n",
       "                                                   &#x27;PrimaryProperty&#x27;,\n",
       "                                                   &#x27;SecondLargest&#x27;,\n",
       "                                                   &#x27;ThirdLargest&#x27;]),\n",
       "                                                 (&#x27;num&#x27;,\n",
       "                                                  Pipeline(steps=[(&#x27;log1p&#x27;,\n",
       "                                                                   FunctionTransformer(func=&lt;ufunc &#x27;log1p&#x27;&gt;))]),\n",
       "                                                  [&#x27;PropertyGFAParking&#x27;,\n",
       "                                                   &#x27;PropertyGFABuilding(s)&#x27;,\n",
       "                                                   &#x27;LargestPropertyUseTypeGFA&#x27;,\n",
       "                                                   &#x27;SecondLargestPropertyUseTypeGFA&#x27;,\n",
       "                                                   &#x27;ThirdLargestPropertyUseTypeGFA&#x27;,\n",
       "                                                   &#x27;TotalGHGEmissions&#x27;,\n",
       "                                                   &#x27;YearBuilt&#x27;,\n",
       "                                                   &#x27;NumberofBuildings&#x27;,\n",
       "                                                   &#x27;NumberofFloors&#x27;,\n",
       "                                                   &#x27;NumberOfPropertyUseTypes&#x27;,\n",
       "                                                   &#x27;NombreAnnees&#x27;]),\n",
       "                                                 (&#x27;impute&#x27;,\n",
       "                                                  Pipeline(steps=[(&#x27;imputer&#x27;,\n",
       "                                                                   KNNImputer())]),\n",
       "                                                  [&#x27;ENERGYSTARScore&#x27;])]))])</pre></div></div></div><div class=\"sk-serial\"><div class=\"sk-item sk-dashed-wrapped\"><div class=\"sk-label-container\"><div class=\"sk-label sk-toggleable\"><input class=\"sk-toggleable__control sk-hidden--visually\" id=\"sk-estimator-id-212\" type=\"checkbox\" ><label for=\"sk-estimator-id-212\" class=\"sk-toggleable__label sk-toggleable__label-arrow\">preprocessor: ColumnTransformer</label><div class=\"sk-toggleable__content\"><pre>ColumnTransformer(transformers=[(&#x27;cat&#x27;,\n",
       "                                 Pipeline(steps=[(&#x27;onehot&#x27;,\n",
       "                                                  OneHotEncoder(handle_unknown=&#x27;ignore&#x27;))]),\n",
       "                                 [&#x27;BuildingType&#x27;, &#x27;Neighborhood&#x27;,\n",
       "                                  &#x27;PrimaryProperty&#x27;, &#x27;SecondLargest&#x27;,\n",
       "                                  &#x27;ThirdLargest&#x27;]),\n",
       "                                (&#x27;num&#x27;,\n",
       "                                 Pipeline(steps=[(&#x27;log1p&#x27;,\n",
       "                                                  FunctionTransformer(func=&lt;ufunc &#x27;log1p&#x27;&gt;))]),\n",
       "                                 [&#x27;PropertyGFAParking&#x27;,\n",
       "                                  &#x27;PropertyGFABuilding(s)&#x27;,\n",
       "                                  &#x27;LargestPropertyUseTypeGFA&#x27;,\n",
       "                                  &#x27;SecondLargestPropertyUseTypeGFA&#x27;,\n",
       "                                  &#x27;ThirdLargestPropertyUseTypeGFA&#x27;,\n",
       "                                  &#x27;TotalGHGEmissions&#x27;, &#x27;YearBuilt&#x27;,\n",
       "                                  &#x27;NumberofBuildings&#x27;, &#x27;NumberofFloors&#x27;,\n",
       "                                  &#x27;NumberOfPropertyUseTypes&#x27;, &#x27;NombreAnnees&#x27;]),\n",
       "                                (&#x27;impute&#x27;,\n",
       "                                 Pipeline(steps=[(&#x27;imputer&#x27;, KNNImputer())]),\n",
       "                                 [&#x27;ENERGYSTARScore&#x27;])])</pre></div></div></div><div class=\"sk-parallel\"><div class=\"sk-parallel-item\"><div class=\"sk-item\"><div class=\"sk-label-container\"><div class=\"sk-label sk-toggleable\"><input class=\"sk-toggleable__control sk-hidden--visually\" id=\"sk-estimator-id-213\" type=\"checkbox\" ><label for=\"sk-estimator-id-213\" class=\"sk-toggleable__label sk-toggleable__label-arrow\">cat</label><div class=\"sk-toggleable__content\"><pre>[&#x27;BuildingType&#x27;, &#x27;Neighborhood&#x27;, &#x27;PrimaryProperty&#x27;, &#x27;SecondLargest&#x27;, &#x27;ThirdLargest&#x27;]</pre></div></div></div><div class=\"sk-serial\"><div class=\"sk-item\"><div class=\"sk-serial\"><div class=\"sk-item\"><div class=\"sk-estimator sk-toggleable\"><input class=\"sk-toggleable__control sk-hidden--visually\" id=\"sk-estimator-id-214\" type=\"checkbox\" ><label for=\"sk-estimator-id-214\" class=\"sk-toggleable__label sk-toggleable__label-arrow\">OneHotEncoder</label><div class=\"sk-toggleable__content\"><pre>OneHotEncoder(handle_unknown=&#x27;ignore&#x27;)</pre></div></div></div></div></div></div></div></div><div class=\"sk-parallel-item\"><div class=\"sk-item\"><div class=\"sk-label-container\"><div class=\"sk-label sk-toggleable\"><input class=\"sk-toggleable__control sk-hidden--visually\" id=\"sk-estimator-id-215\" type=\"checkbox\" ><label for=\"sk-estimator-id-215\" class=\"sk-toggleable__label sk-toggleable__label-arrow\">num</label><div class=\"sk-toggleable__content\"><pre>[&#x27;PropertyGFAParking&#x27;, &#x27;PropertyGFABuilding(s)&#x27;, &#x27;LargestPropertyUseTypeGFA&#x27;, &#x27;SecondLargestPropertyUseTypeGFA&#x27;, &#x27;ThirdLargestPropertyUseTypeGFA&#x27;, &#x27;TotalGHGEmissions&#x27;, &#x27;YearBuilt&#x27;, &#x27;NumberofBuildings&#x27;, &#x27;NumberofFloors&#x27;, &#x27;NumberOfPropertyUseTypes&#x27;, &#x27;NombreAnnees&#x27;]</pre></div></div></div><div class=\"sk-serial\"><div class=\"sk-item\"><div class=\"sk-serial\"><div class=\"sk-item\"><div class=\"sk-estimator sk-toggleable\"><input class=\"sk-toggleable__control sk-hidden--visually\" id=\"sk-estimator-id-216\" type=\"checkbox\" ><label for=\"sk-estimator-id-216\" class=\"sk-toggleable__label sk-toggleable__label-arrow\">FunctionTransformer</label><div class=\"sk-toggleable__content\"><pre>FunctionTransformer(func=&lt;ufunc &#x27;log1p&#x27;&gt;)</pre></div></div></div></div></div></div></div></div><div class=\"sk-parallel-item\"><div class=\"sk-item\"><div class=\"sk-label-container\"><div class=\"sk-label sk-toggleable\"><input class=\"sk-toggleable__control sk-hidden--visually\" id=\"sk-estimator-id-217\" type=\"checkbox\" ><label for=\"sk-estimator-id-217\" class=\"sk-toggleable__label sk-toggleable__label-arrow\">impute</label><div class=\"sk-toggleable__content\"><pre>[&#x27;ENERGYSTARScore&#x27;]</pre></div></div></div><div class=\"sk-serial\"><div class=\"sk-item\"><div class=\"sk-serial\"><div class=\"sk-item\"><div class=\"sk-estimator sk-toggleable\"><input class=\"sk-toggleable__control sk-hidden--visually\" id=\"sk-estimator-id-218\" type=\"checkbox\" ><label for=\"sk-estimator-id-218\" class=\"sk-toggleable__label sk-toggleable__label-arrow\">KNNImputer</label><div class=\"sk-toggleable__content\"><pre>KNNImputer()</pre></div></div></div></div></div></div></div></div></div></div></div></div><div class=\"sk-item sk-dashed-wrapped\"><div class=\"sk-label-container\"><div class=\"sk-label sk-toggleable\"><input class=\"sk-toggleable__control sk-hidden--visually\" id=\"sk-estimator-id-219\" type=\"checkbox\" ><label for=\"sk-estimator-id-219\" class=\"sk-toggleable__label sk-toggleable__label-arrow\">feature_selection: RFE</label><div class=\"sk-toggleable__content\"><pre>RFE(estimator=XGBRegressor(base_score=None, booster=None, callbacks=None,\n",
       "                           colsample_bylevel=None, colsample_bynode=None,\n",
       "                           colsample_bytree=None, device=None,\n",
       "                           early_stopping_rounds=None, enable_categorical=False,\n",
       "                           eval_metric=None, feature_types=None, gamma=None,\n",
       "                           grow_policy=None, importance_type=None,\n",
       "                           interaction_constraints=None, learning_rate=None,\n",
       "                           max_bin=None, max_cat_threshold=None,\n",
       "                           max_cat_to_onehot=None, max_delta_step=None,\n",
       "                           max_depth=None, max_leaves=None,\n",
       "                           min_child_weight=None, missing=nan,\n",
       "                           monotone_constraints=None, multi_strategy=None,\n",
       "                           n_estimators=None, n_jobs=None,\n",
       "                           num_parallel_tree=None, random_state=None, ...),\n",
       "    n_features_to_select=20)</pre></div></div></div><div class=\"sk-parallel\"><div class=\"sk-parallel-item\"><div class=\"sk-item\"><div class=\"sk-label-container\"><div class=\"sk-label sk-toggleable\"><input class=\"sk-toggleable__control sk-hidden--visually\" id=\"sk-estimator-id-220\" type=\"checkbox\" ><label for=\"sk-estimator-id-220\" class=\"sk-toggleable__label sk-toggleable__label-arrow\">estimator: XGBRegressor</label><div class=\"sk-toggleable__content\"><pre>XGBRegressor(base_score=None, booster=None, callbacks=None,\n",
       "             colsample_bylevel=None, colsample_bynode=None,\n",
       "             colsample_bytree=None, device=None, early_stopping_rounds=None,\n",
       "             enable_categorical=False, eval_metric=None, feature_types=None,\n",
       "             gamma=None, grow_policy=None, importance_type=None,\n",
       "             interaction_constraints=None, learning_rate=None, max_bin=None,\n",
       "             max_cat_threshold=None, max_cat_to_onehot=None,\n",
       "             max_delta_step=None, max_depth=None, max_leaves=None,\n",
       "             min_child_weight=None, missing=nan, monotone_constraints=None,\n",
       "             multi_strategy=None, n_estimators=None, n_jobs=None,\n",
       "             num_parallel_tree=None, random_state=None, ...)</pre></div></div></div><div class=\"sk-serial\"><div class=\"sk-item\"><div class=\"sk-estimator sk-toggleable\"><input class=\"sk-toggleable__control sk-hidden--visually\" id=\"sk-estimator-id-221\" type=\"checkbox\" ><label for=\"sk-estimator-id-221\" class=\"sk-toggleable__label sk-toggleable__label-arrow\">XGBRegressor</label><div class=\"sk-toggleable__content\"><pre>XGBRegressor(base_score=None, booster=None, callbacks=None,\n",
       "             colsample_bylevel=None, colsample_bynode=None,\n",
       "             colsample_bytree=None, device=None, early_stopping_rounds=None,\n",
       "             enable_categorical=False, eval_metric=None, feature_types=None,\n",
       "             gamma=None, grow_policy=None, importance_type=None,\n",
       "             interaction_constraints=None, learning_rate=None, max_bin=None,\n",
       "             max_cat_threshold=None, max_cat_to_onehot=None,\n",
       "             max_delta_step=None, max_depth=None, max_leaves=None,\n",
       "             min_child_weight=None, missing=nan, monotone_constraints=None,\n",
       "             multi_strategy=None, n_estimators=None, n_jobs=None,\n",
       "             num_parallel_tree=None, random_state=None, ...)</pre></div></div></div></div></div></div></div></div><div class=\"sk-item\"><div class=\"sk-estimator sk-toggleable\"><input class=\"sk-toggleable__control sk-hidden--visually\" id=\"sk-estimator-id-222\" type=\"checkbox\" ><label for=\"sk-estimator-id-222\" class=\"sk-toggleable__label sk-toggleable__label-arrow\">XGBRegressor</label><div class=\"sk-toggleable__content\"><pre>XGBRegressor(base_score=None, booster=None, callbacks=None,\n",
       "             colsample_bylevel=None, colsample_bynode=None,\n",
       "             colsample_bytree=None, device=None, early_stopping_rounds=None,\n",
       "             enable_categorical=False, eval_metric=None, feature_types=None,\n",
       "             gamma=None, grow_policy=None, importance_type=None,\n",
       "             interaction_constraints=None, learning_rate=None, max_bin=None,\n",
       "             max_cat_threshold=None, max_cat_to_onehot=None,\n",
       "             max_delta_step=None, max_depth=None, max_leaves=None,\n",
       "             min_child_weight=None, missing=nan, monotone_constraints=None,\n",
       "             multi_strategy=None, n_estimators=100, n_jobs=None,\n",
       "             num_parallel_tree=None, random_state=None, ...)</pre></div></div></div></div></div></div></div>"
      ],
      "text/plain": [
       "Pipeline(steps=[('preprocess',\n",
       "                 Pipeline(steps=[('preprocessor',\n",
       "                                  ColumnTransformer(transformers=[('cat',\n",
       "                                                                   Pipeline(steps=[('onehot',\n",
       "                                                                                    OneHotEncoder(handle_unknown='ignore'))]),\n",
       "                                                                   ['BuildingType',\n",
       "                                                                    'Neighborhood',\n",
       "                                                                    'PrimaryProperty',\n",
       "                                                                    'SecondLargest',\n",
       "                                                                    'ThirdLargest']),\n",
       "                                                                  ('num',\n",
       "                                                                   Pipeline(steps=[('log1p',\n",
       "                                                                                    FunctionTransformer(func=<ufunc 'log1p'>))]),\n",
       "                                                                   ['PropertyGFAParking',\n",
       "                                                                    '...\n",
       "                              feature_types=None, gamma=None, grow_policy=None,\n",
       "                              importance_type=None,\n",
       "                              interaction_constraints=None, learning_rate=None,\n",
       "                              max_bin=None, max_cat_threshold=None,\n",
       "                              max_cat_to_onehot=None, max_delta_step=None,\n",
       "                              max_depth=None, max_leaves=None,\n",
       "                              min_child_weight=None, missing=nan,\n",
       "                              monotone_constraints=None, multi_strategy=None,\n",
       "                              n_estimators=100, n_jobs=None,\n",
       "                              num_parallel_tree=None, random_state=None, ...))])"
      ]
     },
     "execution_count": 310,
     "metadata": {},
     "output_type": "execute_result"
    }
   ],
   "source": []
  },
  {
   "cell_type": "code",
   "execution_count": 301,
   "id": "4c0c8bc7-5bbb-4b0a-963f-f5ab321fb6e9",
   "metadata": {},
   "outputs": [
    {
     "data": {
      "text/html": [
       "<div>\n",
       "<style scoped>\n",
       "    .dataframe tbody tr th:only-of-type {\n",
       "        vertical-align: middle;\n",
       "    }\n",
       "\n",
       "    .dataframe tbody tr th {\n",
       "        vertical-align: top;\n",
       "    }\n",
       "\n",
       "    .dataframe thead th {\n",
       "        text-align: right;\n",
       "    }\n",
       "</style>\n",
       "<table border=\"1\" class=\"dataframe\">\n",
       "  <thead>\n",
       "    <tr style=\"text-align: right;\">\n",
       "      <th></th>\n",
       "      <th>metric</th>\n",
       "      <th>train</th>\n",
       "      <th>test</th>\n",
       "    </tr>\n",
       "  </thead>\n",
       "  <tbody>\n",
       "    <tr>\n",
       "      <th>0</th>\n",
       "      <td>r2_score</td>\n",
       "      <td>0.999102</td>\n",
       "      <td>0.911194</td>\n",
       "    </tr>\n",
       "    <tr>\n",
       "      <th>1</th>\n",
       "      <td>mean_squared_error</td>\n",
       "      <td>0.001386</td>\n",
       "      <td>0.144331</td>\n",
       "    </tr>\n",
       "    <tr>\n",
       "      <th>2</th>\n",
       "      <td>mean_absolute_percentage_error</td>\n",
       "      <td>0.001650</td>\n",
       "      <td>0.018765</td>\n",
       "    </tr>\n",
       "    <tr>\n",
       "      <th>3</th>\n",
       "      <td>max_error</td>\n",
       "      <td>0.242396</td>\n",
       "      <td>1.687950</td>\n",
       "    </tr>\n",
       "    <tr>\n",
       "      <th>4</th>\n",
       "      <td>mean_absolute_error</td>\n",
       "      <td>0.024112</td>\n",
       "      <td>0.273658</td>\n",
       "    </tr>\n",
       "  </tbody>\n",
       "</table>\n",
       "</div>"
      ],
      "text/plain": [
       "                           metric     train      test\n",
       "0                        r2_score  0.999102  0.911194\n",
       "1              mean_squared_error  0.001386  0.144331\n",
       "2  mean_absolute_percentage_error  0.001650  0.018765\n",
       "3                       max_error  0.242396  1.687950\n",
       "4             mean_absolute_error  0.024112  0.273658"
      ]
     },
     "execution_count": 301,
     "metadata": {},
     "output_type": "execute_result"
    }
   ],
   "source": [
    "get_all_performances(value_train=(y_train, best_model_xbgrfe.predict(X_train)),\n",
    "                     values_test=(y_test, best_model_xbgrfe.predict(X_test)),\n",
    "                     metrics=METRICS)"
   ]
  },
  {
   "cell_type": "markdown",
   "id": "71c49e54-1e5a-4c6c-91b1-aeb4c514f7c4",
   "metadata": {},
   "source": [
    "<p style=\"text-align:justify;font-family:times;font-size:15px\"> On voit alors que la part de variance a vraiment augmenté.  Les erreurs ont quant à elle diminué aussi.</p>"
   ]
  },
  {
   "cell_type": "markdown",
   "id": "732ed190-b2c9-4638-b1b8-35dce26b2e89",
   "metadata": {},
   "source": [
    "<h4 style=\"text-align:justify;color:red;font-size:20px;font-family:Roboto\">3. Decision Tree</h4>"
   ]
  },
  {
   "cell_type": "markdown",
   "id": "013169b1-4df9-4c3a-8e9a-6e6b6056cac4",
   "metadata": {},
   "source": [
    "<p style=\"text-align:justify;font-family:times;font-size:15px\"> Dans ce cas également, nous allons tester le modèle avec EnergyStar Score et sélectionner celui avec les 10 variables assurant une bonne performance du modèle.  </p>"
   ]
  },
  {
   "cell_type": "code",
   "execution_count": 302,
   "id": "b0b6d501-898f-419f-9cea-1c2045410500",
   "metadata": {},
   "outputs": [
    {
     "name": "stdout",
     "output_type": "stream",
     "text": [
      "Model error: SiteEnergyUse(kBtu)    0.33384\n",
      "dtype: float64\n"
     ]
    },
    {
     "name": "stderr",
     "output_type": "stream",
     "text": [
      "C:\\Users\\DELL\\anaconda3\\lib\\site-packages\\numpy\\core\\fromnumeric.py:3472: FutureWarning: In a future version, DataFrame.mean(axis=None) will return a scalar mean over the entire DataFrame. To retain the old behavior, use 'frame.mean(axis=0)' or just 'frame.mean()'\n",
      "  return mean(axis=axis, dtype=dtype, out=out, **kwargs)\n",
      "C:\\Users\\DELL\\anaconda3\\lib\\site-packages\\numpy\\core\\fromnumeric.py:3472: FutureWarning: In a future version, DataFrame.mean(axis=None) will return a scalar mean over the entire DataFrame. To retain the old behavior, use 'frame.mean(axis=0)' or just 'frame.mean()'\n",
      "  return mean(axis=axis, dtype=dtype, out=out, **kwargs)\n"
     ]
    },
    {
     "data": {
      "text/html": [
       "<div>\n",
       "<style scoped>\n",
       "    .dataframe tbody tr th:only-of-type {\n",
       "        vertical-align: middle;\n",
       "    }\n",
       "\n",
       "    .dataframe tbody tr th {\n",
       "        vertical-align: top;\n",
       "    }\n",
       "\n",
       "    .dataframe thead th {\n",
       "        text-align: right;\n",
       "    }\n",
       "</style>\n",
       "<table border=\"1\" class=\"dataframe\">\n",
       "  <thead>\n",
       "    <tr style=\"text-align: right;\">\n",
       "      <th></th>\n",
       "      <th>metric</th>\n",
       "      <th>train</th>\n",
       "      <th>test</th>\n",
       "    </tr>\n",
       "  </thead>\n",
       "  <tbody>\n",
       "    <tr>\n",
       "      <th>0</th>\n",
       "      <td>r2_score</td>\n",
       "      <td>1.0</td>\n",
       "      <td>0.794590</td>\n",
       "    </tr>\n",
       "    <tr>\n",
       "      <th>1</th>\n",
       "      <td>mean_squared_error</td>\n",
       "      <td>0.0</td>\n",
       "      <td>0.333838</td>\n",
       "    </tr>\n",
       "    <tr>\n",
       "      <th>2</th>\n",
       "      <td>mean_absolute_percentage_error</td>\n",
       "      <td>0.0</td>\n",
       "      <td>0.026266</td>\n",
       "    </tr>\n",
       "    <tr>\n",
       "      <th>3</th>\n",
       "      <td>max_error</td>\n",
       "      <td>0.0</td>\n",
       "      <td>4.617085</td>\n",
       "    </tr>\n",
       "    <tr>\n",
       "      <th>4</th>\n",
       "      <td>mean_absolute_error</td>\n",
       "      <td>0.0</td>\n",
       "      <td>0.385853</td>\n",
       "    </tr>\n",
       "  </tbody>\n",
       "</table>\n",
       "</div>"
      ],
      "text/plain": [
       "                           metric  train      test\n",
       "0                        r2_score    1.0  0.794590\n",
       "1              mean_squared_error    0.0  0.333838\n",
       "2  mean_absolute_percentage_error    0.0  0.026266\n",
       "3                       max_error    0.0  4.617085\n",
       "4             mean_absolute_error    0.0  0.385853"
      ]
     },
     "execution_count": 302,
     "metadata": {},
     "output_type": "execute_result"
    }
   ],
   "source": [
    "from sklearn.feature_selection import RFE\n",
    "from sklearn.tree import DecisionTreeRegressor\n",
    "from sklearn.pipeline import Pipeline\n",
    "\n",
    "\n",
    "dt_reg = Pipeline(steps=[\n",
    "    ('preprocessor', preprocessor),\n",
    "    (\"regressor\", DecisionTreeRegressor())\n",
    "])\n",
    "\n",
    "rfe_dt_reg = Pipeline(steps=[\n",
    "    ('preprocessor', preprocessor),\n",
    "    ('feature_selection', RFE(estimator=DecisionTreeRegressor(), n_features_to_select=10)),\n",
    "    (\"regressor\", DecisionTreeRegressor())\n",
    "])\n",
    "\n",
    "rfe_results = train_model(model=rfe_dt_reg, x_train=X_train, y_train=y_train, x_test=X_test, y_test=y_test)\n",
    "rfe_estimator = rfe_results[\"estimator\"]\n",
    "\n",
    "get_all_performances(value_train=(y_train, rfe_estimator.predict(X_train)),\n",
    "                     values_test=(y_test, rfe_estimator.predict(X_test)),\n",
    "                     metrics=METRICS)"
   ]
  },
  {
   "cell_type": "code",
   "execution_count": 303,
   "id": "c23eface-e721-47be-9755-3915ccd083a8",
   "metadata": {},
   "outputs": [],
   "source": [
    "param_grid = {\n",
    "    'feature_selection__n_features_to_select': [10, 15, 20],  # Nombre de caractéristiques à sélectionner\n",
    "    'regressor__max_depth': [None, 10, 20],  # Profondeur maximale de l'arbre de décision\n",
    "    'regressor__min_samples_split': [2, 5, 10],  # Nombre minimum d'échantillons requis pour diviser un nœud  # Nombre minimum d'échantillons requis pour être à un nœud feuille\n",
    "}\n",
    "\n",
    "# Initialisez GridSearchCV avec votre pipeline et la grille de paramètres\n",
    "grid_search = GridSearchCV(estimator=rfe_dt_reg, param_grid=param_grid, scoring='neg_mean_squared_error', cv=5)\n",
    "\n",
    "# Effectuez la recherche sur grille\n",
    "grid_search.fit(X_train, y_train)\n",
    "\n",
    "# Obtenez le meilleur modèle trouvé\n",
    "best_model_rfe_dt_reg = grid_search.best_estimator_"
   ]
  },
  {
   "cell_type": "code",
   "execution_count": 304,
   "id": "30ed62ed-0fc8-401f-b94c-9e9e515e9331",
   "metadata": {},
   "outputs": [
    {
     "data": {
      "text/html": [
       "<div>\n",
       "<style scoped>\n",
       "    .dataframe tbody tr th:only-of-type {\n",
       "        vertical-align: middle;\n",
       "    }\n",
       "\n",
       "    .dataframe tbody tr th {\n",
       "        vertical-align: top;\n",
       "    }\n",
       "\n",
       "    .dataframe thead th {\n",
       "        text-align: right;\n",
       "    }\n",
       "</style>\n",
       "<table border=\"1\" class=\"dataframe\">\n",
       "  <thead>\n",
       "    <tr style=\"text-align: right;\">\n",
       "      <th></th>\n",
       "      <th>metric</th>\n",
       "      <th>train</th>\n",
       "      <th>test</th>\n",
       "    </tr>\n",
       "  </thead>\n",
       "  <tbody>\n",
       "    <tr>\n",
       "      <th>0</th>\n",
       "      <td>r2_score</td>\n",
       "      <td>0.958320</td>\n",
       "      <td>0.825237</td>\n",
       "    </tr>\n",
       "    <tr>\n",
       "      <th>1</th>\n",
       "      <td>mean_squared_error</td>\n",
       "      <td>0.064322</td>\n",
       "      <td>0.284030</td>\n",
       "    </tr>\n",
       "    <tr>\n",
       "      <th>2</th>\n",
       "      <td>mean_absolute_percentage_error</td>\n",
       "      <td>0.011923</td>\n",
       "      <td>0.024002</td>\n",
       "    </tr>\n",
       "    <tr>\n",
       "      <th>3</th>\n",
       "      <td>max_error</td>\n",
       "      <td>1.199341</td>\n",
       "      <td>5.053674</td>\n",
       "    </tr>\n",
       "    <tr>\n",
       "      <th>4</th>\n",
       "      <td>mean_absolute_error</td>\n",
       "      <td>0.174114</td>\n",
       "      <td>0.351646</td>\n",
       "    </tr>\n",
       "  </tbody>\n",
       "</table>\n",
       "</div>"
      ],
      "text/plain": [
       "                           metric     train      test\n",
       "0                        r2_score  0.958320  0.825237\n",
       "1              mean_squared_error  0.064322  0.284030\n",
       "2  mean_absolute_percentage_error  0.011923  0.024002\n",
       "3                       max_error  1.199341  5.053674\n",
       "4             mean_absolute_error  0.174114  0.351646"
      ]
     },
     "execution_count": 304,
     "metadata": {},
     "output_type": "execute_result"
    }
   ],
   "source": [
    "get_all_performances(value_train=(y_train, best_model_rfe_dt_reg.predict(X_train)),\n",
    "                     values_test=(y_test, best_model_rfe_dt_reg.predict(X_test)),\n",
    "                     metrics=METRICS)"
   ]
  },
  {
   "cell_type": "markdown",
   "id": "d7605f2d-f7b1-4e0f-b6eb-3ecd8b95acad",
   "metadata": {},
   "source": [
    "<h4 style=\"text-align:justify;color:red;font-size:20px;font-family:Roboto\">4. Choix du meilleur modèle. </h4>"
   ]
  },
  {
   "cell_type": "code",
   "execution_count": 305,
   "id": "c7f7ce42-6fb7-4cab-acb4-5ea40a0fc8d5",
   "metadata": {},
   "outputs": [
    {
     "name": "stdout",
     "output_type": "stream",
     "text": [
      "Model: Regression Linéaire\n",
      "                           metric     train      test\n",
      "0                        r2_score  0.911029  0.892809\n",
      "1              mean_squared_error  0.137302  0.174210\n",
      "2  mean_absolute_percentage_error  0.018605  0.020489\n",
      "3                       max_error  2.590801  2.760107\n",
      "4             mean_absolute_error  0.269881  0.294008\n",
      "\n",
      "\n",
      "Model: Meilleur Modèle Decision Tree avec RFE\n",
      "                           metric     train      test\n",
      "0                        r2_score  0.958320  0.825237\n",
      "1              mean_squared_error  0.064322  0.284030\n",
      "2  mean_absolute_percentage_error  0.011923  0.024002\n",
      "3                       max_error  1.199341  5.053674\n",
      "4             mean_absolute_error  0.174114  0.351646\n",
      "\n",
      "\n",
      "Model: Meilleur Modèle XGBoost avec RFE\n",
      "                           metric     train      test\n",
      "0                        r2_score  0.999102  0.911194\n",
      "1              mean_squared_error  0.001386  0.144331\n",
      "2  mean_absolute_percentage_error  0.001650  0.018765\n",
      "3                       max_error  0.242396  1.687950\n",
      "4             mean_absolute_error  0.024112  0.273658\n",
      "\n",
      "\n"
     ]
    }
   ],
   "source": [
    "models = [lr, best_model_rfe_dt_reg, best_model_xbgrfe]\n",
    "model_names = ['Regression Linéaire','Meilleur Modèle Decision Tree avec RFE','Meilleur Modèle XGBoost avec RFE']\n",
    "\n",
    "for model, model_name in zip(models, model_names):\n",
    "    print(\"Model:\", model_name)\n",
    "    print(get_all_performances(value_train=(y_train, model.predict(X_train)),\n",
    "                                values_test=(y_test, model.predict(X_test)),\n",
    "                                metrics=METRICS))\n",
    "    print(\"\\n\")"
   ]
  },
  {
   "cell_type": "markdown",
   "id": "77ec2de0-07e6-42e8-8ae4-56f6fae0fe1a",
   "metadata": {},
   "source": [
    "<p style=\"text-align:justify;font-family:times;font-size:15px\">Les trois modèles évalués présentent des performances variées. La Régression Linéaire montre une bonne capacité à expliquer la variance des données, avec des résultats cohérents sur les ensembles d'entraînement et de test, bien que légèrement inférieurs à ceux des modèles à base d'arbres. Le Meilleur Modèle Decision Tree avec RFE affiche de très bonnes performances sur l'ensemble d'entraînement, mais semble souffrir d'un certain sur-ajustement, ce qui se traduit par des performances relativement moins bonnes sur l'ensemble de test. En revanche, le Meilleur Modèle XGBoost avec RFE se distingue par des performances exceptionnelles sur les deux ensembles, avec une capacité de généralisation élevée et des erreurs de prédiction minimales. Ainsi, le modèle XGBoost semble être le choix le plus prometteur pour cette tâche de prédiction, offrant un équilibre optimal entre précision et généralisation. </p>"
   ]
  },
  {
   "cell_type": "markdown",
   "id": "cc7f6f4f-0396-4bdb-be8c-3a5e23a1437d",
   "metadata": {},
   "source": [
    "<h3 style=\"text-align:justify;color:black;font-size:26px;font-family:Georgia\"> C. Meilleur Modèle en considérant les deux approches</h3>"
   ]
  },
  {
   "cell_type": "code",
   "execution_count": 296,
   "id": "15ed8128-b582-4272-95b1-4e9036ad6520",
   "metadata": {},
   "outputs": [
    {
     "name": "stdout",
     "output_type": "stream",
     "text": [
      "Model: Meilleur Modèle avec SANS ENERGY\n",
      "                           metric     train      test\n",
      "0                        r2_score  0.968906  0.900654\n",
      "1              mean_squared_error  0.047985  0.161460\n",
      "2  mean_absolute_percentage_error  0.010421  0.019906\n",
      "3                       max_error  0.964597  2.130011\n",
      "4             mean_absolute_error  0.151647  0.289658\n",
      "\n",
      "\n",
      "Model: Meilleur Modèle avec ENERGY et RFE\n",
      "                           metric     train      test\n",
      "0                        r2_score  0.999102  0.911194\n",
      "1              mean_squared_error  0.001386  0.144331\n",
      "2  mean_absolute_percentage_error  0.001650  0.018765\n",
      "3                       max_error  0.242396  1.687950\n",
      "4             mean_absolute_error  0.024112  0.273658\n",
      "\n",
      "\n"
     ]
    }
   ],
   "source": [
    "models = [xgb_best_model, best_model_xbgrfe]\n",
    "model_names = ['Meilleur Modèle avec SANS ENERGY','Meilleur Modèle avec ENERGY et RFE']\n",
    "\n",
    "for model, model_name in zip(models, model_names):\n",
    "    print(\"Model:\", model_name)\n",
    "    print(get_all_performances(value_train=(y_train, model.predict(X_train)),\n",
    "                                values_test=(y_test, model.predict(X_test)),\n",
    "                                metrics=METRICS))\n",
    "    print(\"\\n\")"
   ]
  },
  {
   "cell_type": "markdown",
   "id": "1eb5ddd0-9eed-4622-9201-d24382721f2d",
   "metadata": {},
   "source": [
    "<p style=\"text-align:justify;font-family:times;font-size:15px\">Les deux modèles évalués, le Meilleur Modèle sans la variable ENERGY et le Meilleur Modèle avec ENERGY et RFE, présentent des performances impressionnantes, bien que légèrement différentes. Le Meilleur Modèle sans la variable ENERGY affiche des performances remarquables sur les ensembles d'entraînement et de test, avec un coefficient de détermination (R²) élevé de 0.969 sur l'ensemble d'entraînement et 0.901 sur l'ensemble de test. Les erreurs moyennes absolues et quadratiques sont également très faibles, ce qui indique une capacité élevée du modèle à prédire les valeurs cibles. D'autre part, le Meilleur Modèle avec ENERGY et RFE présente des performances légèrement supérieures avec un R² de 0.999 sur l'ensemble d'entraînement et de 0.911 sur l'ensemble de test. Les erreurs moyennes absolues et quadratiques sont également très faibles, ce qui témoigne de la puissance prédictive du modèle. En conclusion, bien que les deux modèles soient performants, le Meilleur Modèle avec ENERGY et RFE semble légèrement plus précis, offrant des performances supérieures sur les ensembles de test. Cependant, il est important de prendre en compte d'autres facteurs tels que la complexité du modèle et la facilité d'interprétation lors du choix du modèle final.</p>"
   ]
  },
  {
   "cell_type": "code",
   "execution_count": null,
   "id": "bc48c5bc-daa4-448b-8c64-79f1797484f9",
   "metadata": {},
   "outputs": [],
   "source": []
  }
 ],
 "metadata": {
  "kernelspec": {
   "display_name": "Python 3 (ipykernel)",
   "language": "python",
   "name": "python3"
  },
  "language_info": {
   "codemirror_mode": {
    "name": "ipython",
    "version": 3
   },
   "file_extension": ".py",
   "mimetype": "text/x-python",
   "name": "python",
   "nbconvert_exporter": "python",
   "pygments_lexer": "ipython3",
   "version": "3.9.12"
  }
 },
 "nbformat": 4,
 "nbformat_minor": 5
}
